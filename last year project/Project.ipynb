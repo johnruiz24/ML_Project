{
 "cells": [
  {
   "cell_type": "markdown",
   "metadata": {},
   "source": [
    "This notebook is related to the **Machine Learning - Final Project**, in the 'Machine Learning' course, Nova IMS.\n",
    "\n",
    "Deadline May 31st 2020\n",
    "\n",
    "Group: 40\n",
    "\n",
    "* Viktor Jamiolkowski - M20190329\n",
    "* Bojan Stavrijk - M20190562\n",
    "* Henrique Januário - M20190438\n",
    "* Francisco Jorge - M20190863\n",
    "* Pedro Carmora - R2016645"
   ]
  },
  {
   "cell_type": "markdown",
   "metadata": {},
   "source": [
    "## Notebook Contents"
   ]
  },
  {
   "cell_type": "markdown",
   "metadata": {},
   "source": [
    "* [1. Overview of the Dataset](#overview)\n",
    "* [2. Attribute Analysis](#aa)\n",
    "    * [Correlation of features](#cor)\n",
    "* [3. Attribute Preprocessing (Cleaning)](#clean)\n",
    "* [4. Classifier Baseline Benchmark](#bench)\n",
    "* [5. Feature Engineering](#fe)\n",
    "    * [Feature Scaling](#fs)\n",
    "    * [Boruta/Lasso Regression for Feature Selection](#fs)\n",
    "* [6. Hyperparameter Tuning](#hypert)\n",
    "    * RandomizedSearchCV\n",
    "* [7. Prediction on Test_Set](#pred)\n",
    "    * Classify Train_Set and Submit to Kaggle"
   ]
  },
  {
   "cell_type": "code",
   "execution_count": 161,
   "metadata": {},
   "outputs": [],
   "source": [
    "import warnings\n",
    "warnings.filterwarnings('ignore')\n",
    "import pandas as pd\n",
    "import numpy as np\n",
    "import matplotlib.pyplot as plt\n",
    "import seaborn as sns\n",
    "import statsmodels\n",
    "from scipy import stats\n",
    "from tqdm import tqdm_notebook as tqdm\n",
    "from pandas.plotting import scatter_matrix\n",
    "\n",
    "from sklearn.neighbors import KNeighborsClassifier\n",
    "from sklearn.naive_bayes import GaussianNB\n",
    "from sklearn.ensemble import GradientBoostingClassifier\n",
    "from sklearn.neural_network import MLPClassifier\n",
    "\n",
    "from sklearn.impute import (SimpleImputer,\n",
    "                            KNNImputer)\n",
    "\n",
    "from sklearn.linear_model import (SGDClassifier, \n",
    "                                  LogisticRegression)\n",
    "\n",
    "from sklearn.model_selection import (train_test_split,\n",
    "                                     KFold,\n",
    "                                     GridSearchCV)\n",
    "\n",
    "from sklearn.preprocessing import (Normalizer,\n",
    "                                   MinMaxScaler,\n",
    "                                   LabelEncoder,\n",
    "                                   RobustScaler,\n",
    "                                   StandardScaler,OneHotEncoder)\n",
    "\n",
    "from sklearn.neural_network import (MLPClassifier, \n",
    "                                    BernoulliRBM)\n"
   ]
  },
  {
   "cell_type": "code",
   "execution_count": 49,
   "metadata": {},
   "outputs": [],
   "source": [
    "%matplotlib inline\n",
    "plt.style.use('ggplot')\n",
    "plt.rcParams['figure.figsize'] = (12, 5)\n",
    "sns.set_style(style = 'white')\n",
    "colors = sns.color_palette(\"YlGnBu_r\", 6)"
   ]
  },
  {
   "cell_type": "code",
   "execution_count": 50,
   "metadata": {
    "code_folding": [
     1
    ]
   },
   "outputs": [],
   "source": [
    "#Exclude Gender from Name\n",
    "def gender_split(df):\n",
    "    name = df['Name'].str.split(' ',n=1, expand=True)\n",
    "    df['Gender'] = name[0]\n",
    "    df['Name'] = name[1]\n",
    "    df['Gender'] = df['Gender'].replace(['Miss','Mrs.','Ms.','Mr.','Master'],[0,0,0,1,1])\n",
    "    return df['Gender']"
   ]
  },
  {
   "cell_type": "code",
   "execution_count": 51,
   "metadata": {
    "code_folding": [
     0
    ]
   },
   "outputs": [],
   "source": [
    "def scaler_selection(X_train, X_val, y_train, y_val, model):\n",
    "    \"\"\"\n",
    "    Pass in different models and receive the results for \n",
    "    different classifiers. Please change the column_name if required\n",
    "    \"\"\"\n",
    "    \n",
    "    column_name=['KNN','LR','NB','BGD']\n",
    "\n",
    "    df = pd.DataFrame(index=['Normalizer_test','Robust_test','Minmax_test','Minmax_test2','Standard_test']\n",
    "                      ,columns=column_name)\n",
    "    i=0\n",
    "    for mode in model:\n",
    "        \n",
    "        \n",
    "        #Normalizer\n",
    "        transformer = Normalizer()\n",
    "        transformer.fit(X_train)\n",
    "\n",
    "        transformer_X_train = transformer.transform(X_train)\n",
    "        transformer_X_val = transformer.transform(X_val)\n",
    "\n",
    "        model_baseline_transformer = mode\n",
    "        model_baseline_transformer.fit(transformer_X_train, y_train)\n",
    "\n",
    "        transformerf1_val = model_baseline_transformer.score(transformer_X_val,y_val)\n",
    "\n",
    "\n",
    "        #RobustScaler\n",
    "        robust_scaler = RobustScaler()\n",
    "        robust_scaler.fit(X_train)\n",
    "\n",
    "        robust_X_train = robust_scaler.transform(X_train)\n",
    "        robust_X_val = robust_scaler.transform(X_val)\n",
    "\n",
    "        model_baseline_robust = mode\n",
    "        model_baseline_robust.fit(robust_X_train, y_train)\n",
    "        robustf1_val = model_baseline_robust.score(robust_X_train,y_train)\n",
    "\n",
    "\n",
    "        #MinMax(-1, 1)\n",
    "        minmax = MinMaxScaler(feature_range=(-1, 1))\n",
    "        minmax.fit(X_train)\n",
    "\n",
    "        min_max_X_train = minmax.transform(X_train)\n",
    "        min_max_X_val = minmax.transform(X_val)\n",
    "\n",
    "        min_max_model = mode\n",
    "        min_max_model.fit(min_max_X_train, y_train)\n",
    "        minmaxf1_val = min_max_model.score(min_max_X_val,y_val)\n",
    "\n",
    "\n",
    "        #MinMax\n",
    "        minmax2 = MinMaxScaler()\n",
    "        minmax2.fit(X_train)\n",
    "\n",
    "        min_max_X_train2 = minmax2.transform(X_train)\n",
    "        min_max_X_val2 = minmax2.transform(X_val)\n",
    "\n",
    "        min_max_model2 = mode\n",
    "        min_max_model2.fit(min_max_X_train2, y_train)\n",
    "        minmaxf1_val2 = min_max_model2.score(min_max_X_val2,y_val)\n",
    "\n",
    "\n",
    "        #StandardScaler\n",
    "        standardscaler = StandardScaler()\n",
    "        standardscaler.fit(X_train)\n",
    "\n",
    "        standardscaler_X_train = standardscaler.transform(X_train)\n",
    "        standardscaler_X_val = standardscaler.transform(X_val)\n",
    "\n",
    "        standardscaler_model = mode\n",
    "        standardscaler_model.fit(standardscaler_X_train, y_train)\n",
    "        standard_f1_val = standardscaler_model.score(standardscaler_X_val,y_val)\n",
    "\n",
    "        \n",
    "        \n",
    "      \n",
    "        df[column_name[i]][0] = transformerf1_val\n",
    "        df[column_name[i]][1] = robustf1_val\n",
    "        df[column_name[i]][2] = minmaxf1_val     \n",
    "        df[column_name[i]][3] = minmaxf1_val2\n",
    "        df[column_name[i]][4] = standard_f1_val\n",
    "        \n",
    "        i+=1\n",
    "        \n",
    "    return df"
   ]
  },
  {
   "cell_type": "code",
   "execution_count": 52,
   "metadata": {
    "code_folding": [
     0
    ]
   },
   "outputs": [],
   "source": [
    "def classifier_selection(X_train, X_val, y_train, y_val, classifier):\n",
    "    \"\"\"\n",
    "    Pass in different classifiers and receive the results for \n",
    "    Please change the index_name if required\n",
    "    \"\"\"\n",
    "    classifier_score_list=[]\n",
    "    index_name=['KNN','LR','NB','GBC']\n",
    "\n",
    "    df = pd.DataFrame(index=index_name, columns=['Results'])\n",
    "\n",
    "    \n",
    "    for classify in classifier:\n",
    "    \n",
    "        classifier = classify\n",
    "        classifier.fit(X_train, y_train)\n",
    "        classifier_score = classifier.score(X_val,y_val)\n",
    "        print(classifier_score)\n",
    "        classifier_score_list.append(classifier_score)\n",
    "        \n",
    "        \n",
    "    df['Results']=classifier_score_list\n",
    "    return df"
   ]
  },
  {
   "cell_type": "markdown",
   "metadata": {},
   "source": [
    "<hr>\n",
    "<a class=\"anchor\" id=\"overview\">\n",
    "\n",
    "## 1. Overview of the Dataset\n",
    "    \n",
    "</a>"
   ]
  },
  {
   "cell_type": "code",
   "execution_count": 53,
   "metadata": {},
   "outputs": [],
   "source": [
    "#Declaring a random state to be used where required\n",
    "random_state = 42"
   ]
  },
  {
   "cell_type": "code",
   "execution_count": 54,
   "metadata": {},
   "outputs": [],
   "source": [
    "df_raw = pd.read_csv('train.csv')"
   ]
  },
  {
   "cell_type": "code",
   "execution_count": 55,
   "metadata": {},
   "outputs": [],
   "source": [
    "#Changes made because column names are incorrect\n",
    "df_raw['Parents or children infected'] = df_raw['Parents or siblings infected']\n",
    "df_raw = df_raw.drop('Parents or siblings infected', axis=1)\n",
    "\n",
    "df_raw['Wife/Husband or siblings infected'] = df_raw['Wife/Husband or children infected']\n",
    "df_raw = df_raw.drop('Wife/Husband or children infected', axis=1)"
   ]
  },
  {
   "cell_type": "code",
   "execution_count": 56,
   "metadata": {},
   "outputs": [],
   "source": [
    "df_overview = df_raw.copy()"
   ]
  },
  {
   "cell_type": "code",
   "execution_count": 57,
   "metadata": {},
   "outputs": [
    {
     "data": {
      "text/html": [
       "<div>\n",
       "<style scoped>\n",
       "    .dataframe tbody tr th:only-of-type {\n",
       "        vertical-align: middle;\n",
       "    }\n",
       "\n",
       "    .dataframe tbody tr th {\n",
       "        vertical-align: top;\n",
       "    }\n",
       "\n",
       "    .dataframe thead th {\n",
       "        text-align: right;\n",
       "    }\n",
       "</style>\n",
       "<table border=\"1\" class=\"dataframe\">\n",
       "  <thead>\n",
       "    <tr style=\"text-align: right;\">\n",
       "      <th></th>\n",
       "      <th>Patient_ID</th>\n",
       "      <th>Family_Case_ID</th>\n",
       "      <th>Severity</th>\n",
       "      <th>Name</th>\n",
       "      <th>Birthday_year</th>\n",
       "      <th>Medical_Expenses_Family</th>\n",
       "      <th>Medical_Tent</th>\n",
       "      <th>City</th>\n",
       "      <th>Deceased</th>\n",
       "      <th>Parents or children infected</th>\n",
       "      <th>Wife/Husband or siblings infected</th>\n",
       "    </tr>\n",
       "  </thead>\n",
       "  <tbody>\n",
       "    <tr>\n",
       "      <th>0</th>\n",
       "      <td>1</td>\n",
       "      <td>4696</td>\n",
       "      <td>3</td>\n",
       "      <td>Miss Linda Betty</td>\n",
       "      <td>NaN</td>\n",
       "      <td>225</td>\n",
       "      <td>NaN</td>\n",
       "      <td>Santa Fe</td>\n",
       "      <td>1</td>\n",
       "      <td>0</td>\n",
       "      <td>0</td>\n",
       "    </tr>\n",
       "    <tr>\n",
       "      <th>1</th>\n",
       "      <td>2</td>\n",
       "      <td>21436</td>\n",
       "      <td>1</td>\n",
       "      <td>Ms. Ramona Elvira</td>\n",
       "      <td>1966.0</td>\n",
       "      <td>1663</td>\n",
       "      <td>NaN</td>\n",
       "      <td>Albuquerque</td>\n",
       "      <td>0</td>\n",
       "      <td>0</td>\n",
       "      <td>1</td>\n",
       "    </tr>\n",
       "    <tr>\n",
       "      <th>2</th>\n",
       "      <td>3</td>\n",
       "      <td>7273</td>\n",
       "      <td>3</td>\n",
       "      <td>Mr. Mario Vernon</td>\n",
       "      <td>1982.0</td>\n",
       "      <td>221</td>\n",
       "      <td>NaN</td>\n",
       "      <td>Santa Fe</td>\n",
       "      <td>1</td>\n",
       "      <td>0</td>\n",
       "      <td>0</td>\n",
       "    </tr>\n",
       "    <tr>\n",
       "      <th>3</th>\n",
       "      <td>4</td>\n",
       "      <td>8226</td>\n",
       "      <td>3</td>\n",
       "      <td>Mr. Hector Joe</td>\n",
       "      <td>1997.0</td>\n",
       "      <td>220</td>\n",
       "      <td>NaN</td>\n",
       "      <td>Santa Fe</td>\n",
       "      <td>1</td>\n",
       "      <td>0</td>\n",
       "      <td>0</td>\n",
       "    </tr>\n",
       "    <tr>\n",
       "      <th>4</th>\n",
       "      <td>5</td>\n",
       "      <td>19689</td>\n",
       "      <td>3</td>\n",
       "      <td>Ms. Jennie Debra</td>\n",
       "      <td>1994.0</td>\n",
       "      <td>222</td>\n",
       "      <td>NaN</td>\n",
       "      <td>Santa Fe</td>\n",
       "      <td>0</td>\n",
       "      <td>0</td>\n",
       "      <td>0</td>\n",
       "    </tr>\n",
       "  </tbody>\n",
       "</table>\n",
       "</div>"
      ],
      "text/plain": [
       "   Patient_ID  Family_Case_ID  Severity               Name  Birthday_year  \\\n",
       "0           1            4696         3   Miss Linda Betty            NaN   \n",
       "1           2           21436         1  Ms. Ramona Elvira         1966.0   \n",
       "2           3            7273         3   Mr. Mario Vernon         1982.0   \n",
       "3           4            8226         3     Mr. Hector Joe         1997.0   \n",
       "4           5           19689         3   Ms. Jennie Debra         1994.0   \n",
       "\n",
       "   Medical_Expenses_Family Medical_Tent         City  Deceased  \\\n",
       "0                      225          NaN     Santa Fe         1   \n",
       "1                     1663          NaN  Albuquerque         0   \n",
       "2                      221          NaN     Santa Fe         1   \n",
       "3                      220          NaN     Santa Fe         1   \n",
       "4                      222          NaN     Santa Fe         0   \n",
       "\n",
       "   Parents or children infected  Wife/Husband or siblings infected  \n",
       "0                             0                                  0  \n",
       "1                             0                                  1  \n",
       "2                             0                                  0  \n",
       "3                             0                                  0  \n",
       "4                             0                                  0  "
      ]
     },
     "execution_count": 57,
     "metadata": {},
     "output_type": "execute_result"
    }
   ],
   "source": [
    "df_overview.head()"
   ]
  },
  {
   "cell_type": "code",
   "execution_count": 58,
   "metadata": {},
   "outputs": [
    {
     "name": "stdout",
     "output_type": "stream",
     "text": [
      "<class 'pandas.core.frame.DataFrame'>\n",
      "RangeIndex: 900 entries, 0 to 899\n",
      "Data columns (total 11 columns):\n",
      " #   Column                             Non-Null Count  Dtype  \n",
      "---  ------                             --------------  -----  \n",
      " 0   Patient_ID                         900 non-null    int64  \n",
      " 1   Family_Case_ID                     900 non-null    int64  \n",
      " 2   Severity                           900 non-null    int64  \n",
      " 3   Name                               900 non-null    object \n",
      " 4   Birthday_year                      723 non-null    float64\n",
      " 5   Medical_Expenses_Family            900 non-null    int64  \n",
      " 6   Medical_Tent                       198 non-null    object \n",
      " 7   City                               898 non-null    object \n",
      " 8   Deceased                           900 non-null    int64  \n",
      " 9   Parents or children infected       900 non-null    int64  \n",
      " 10  Wife/Husband or siblings infected  900 non-null    int64  \n",
      "dtypes: float64(1), int64(7), object(3)\n",
      "memory usage: 77.5+ KB\n"
     ]
    }
   ],
   "source": [
    "df_overview.info()"
   ]
  },
  {
   "cell_type": "code",
   "execution_count": 59,
   "metadata": {},
   "outputs": [
    {
     "data": {
      "text/html": [
       "<div>\n",
       "<style scoped>\n",
       "    .dataframe tbody tr th:only-of-type {\n",
       "        vertical-align: middle;\n",
       "    }\n",
       "\n",
       "    .dataframe tbody tr th {\n",
       "        vertical-align: top;\n",
       "    }\n",
       "\n",
       "    .dataframe thead th {\n",
       "        text-align: right;\n",
       "    }\n",
       "</style>\n",
       "<table border=\"1\" class=\"dataframe\">\n",
       "  <thead>\n",
       "    <tr style=\"text-align: right;\">\n",
       "      <th></th>\n",
       "      <th>Patient_ID</th>\n",
       "      <th>Family_Case_ID</th>\n",
       "      <th>Severity</th>\n",
       "      <th>Birthday_year</th>\n",
       "      <th>Medical_Expenses_Family</th>\n",
       "      <th>Deceased</th>\n",
       "      <th>Parents or children infected</th>\n",
       "      <th>Wife/Husband or siblings infected</th>\n",
       "    </tr>\n",
       "  </thead>\n",
       "  <tbody>\n",
       "    <tr>\n",
       "      <th>count</th>\n",
       "      <td>900.000000</td>\n",
       "      <td>900.000000</td>\n",
       "      <td>900.000000</td>\n",
       "      <td>723.000000</td>\n",
       "      <td>900.000000</td>\n",
       "      <td>900.000000</td>\n",
       "      <td>900.000000</td>\n",
       "      <td>900.000000</td>\n",
       "    </tr>\n",
       "    <tr>\n",
       "      <th>mean</th>\n",
       "      <td>450.500000</td>\n",
       "      <td>14305.827778</td>\n",
       "      <td>2.313333</td>\n",
       "      <td>1990.266943</td>\n",
       "      <td>895.743333</td>\n",
       "      <td>0.614444</td>\n",
       "      <td>0.380000</td>\n",
       "      <td>0.521111</td>\n",
       "    </tr>\n",
       "    <tr>\n",
       "      <th>std</th>\n",
       "      <td>259.951919</td>\n",
       "      <td>25418.153900</td>\n",
       "      <td>0.834223</td>\n",
       "      <td>14.523335</td>\n",
       "      <td>1385.829926</td>\n",
       "      <td>0.486997</td>\n",
       "      <td>0.803247</td>\n",
       "      <td>1.098385</td>\n",
       "    </tr>\n",
       "    <tr>\n",
       "      <th>min</th>\n",
       "      <td>1.000000</td>\n",
       "      <td>345.000000</td>\n",
       "      <td>1.000000</td>\n",
       "      <td>1940.000000</td>\n",
       "      <td>0.000000</td>\n",
       "      <td>0.000000</td>\n",
       "      <td>0.000000</td>\n",
       "      <td>0.000000</td>\n",
       "    </tr>\n",
       "    <tr>\n",
       "      <th>25%</th>\n",
       "      <td>225.750000</td>\n",
       "      <td>8203.000000</td>\n",
       "      <td>2.000000</td>\n",
       "      <td>1982.000000</td>\n",
       "      <td>221.000000</td>\n",
       "      <td>0.000000</td>\n",
       "      <td>0.000000</td>\n",
       "      <td>0.000000</td>\n",
       "    </tr>\n",
       "    <tr>\n",
       "      <th>50%</th>\n",
       "      <td>450.500000</td>\n",
       "      <td>13593.500000</td>\n",
       "      <td>3.000000</td>\n",
       "      <td>1992.000000</td>\n",
       "      <td>405.000000</td>\n",
       "      <td>1.000000</td>\n",
       "      <td>0.000000</td>\n",
       "      <td>0.000000</td>\n",
       "    </tr>\n",
       "    <tr>\n",
       "      <th>75%</th>\n",
       "      <td>675.250000</td>\n",
       "      <td>18906.500000</td>\n",
       "      <td>3.000000</td>\n",
       "      <td>1999.500000</td>\n",
       "      <td>861.250000</td>\n",
       "      <td>1.000000</td>\n",
       "      <td>0.000000</td>\n",
       "      <td>1.000000</td>\n",
       "    </tr>\n",
       "    <tr>\n",
       "      <th>max</th>\n",
       "      <td>900.000000</td>\n",
       "      <td>742836.000000</td>\n",
       "      <td>3.000000</td>\n",
       "      <td>2019.000000</td>\n",
       "      <td>14345.000000</td>\n",
       "      <td>1.000000</td>\n",
       "      <td>6.000000</td>\n",
       "      <td>8.000000</td>\n",
       "    </tr>\n",
       "  </tbody>\n",
       "</table>\n",
       "</div>"
      ],
      "text/plain": [
       "       Patient_ID  Family_Case_ID    Severity  Birthday_year  \\\n",
       "count  900.000000      900.000000  900.000000     723.000000   \n",
       "mean   450.500000    14305.827778    2.313333    1990.266943   \n",
       "std    259.951919    25418.153900    0.834223      14.523335   \n",
       "min      1.000000      345.000000    1.000000    1940.000000   \n",
       "25%    225.750000     8203.000000    2.000000    1982.000000   \n",
       "50%    450.500000    13593.500000    3.000000    1992.000000   \n",
       "75%    675.250000    18906.500000    3.000000    1999.500000   \n",
       "max    900.000000   742836.000000    3.000000    2019.000000   \n",
       "\n",
       "       Medical_Expenses_Family    Deceased  Parents or children infected  \\\n",
       "count               900.000000  900.000000                    900.000000   \n",
       "mean                895.743333    0.614444                      0.380000   \n",
       "std                1385.829926    0.486997                      0.803247   \n",
       "min                   0.000000    0.000000                      0.000000   \n",
       "25%                 221.000000    0.000000                      0.000000   \n",
       "50%                 405.000000    1.000000                      0.000000   \n",
       "75%                 861.250000    1.000000                      0.000000   \n",
       "max               14345.000000    1.000000                      6.000000   \n",
       "\n",
       "       Wife/Husband or siblings infected  \n",
       "count                         900.000000  \n",
       "mean                            0.521111  \n",
       "std                             1.098385  \n",
       "min                             0.000000  \n",
       "25%                             0.000000  \n",
       "50%                             0.000000  \n",
       "75%                             1.000000  \n",
       "max                             8.000000  "
      ]
     },
     "execution_count": 59,
     "metadata": {},
     "output_type": "execute_result"
    }
   ],
   "source": [
    "df_overview.describe()"
   ]
  },
  {
   "cell_type": "markdown",
   "metadata": {},
   "source": [
    "**Considerations**\n",
    "- 2 missing values for City\n",
    "- 277 missing values for Birthday_year\n",
    "- 702 missing values for Medical_Tent\n",
    "\n",
    "- The best way to deal with the NaN values is:\n",
    "    - Raplacing NaN with a value "
   ]
  },
  {
   "cell_type": "markdown",
   "metadata": {},
   "source": [
    "<hr>\n",
    "<a class=\"anchor\" id=\"aa\">\n",
    "\n",
    "## 2. Attribute Analysis\n",
    "    \n",
    "</a>"
   ]
  },
  {
   "cell_type": "code",
   "execution_count": 334,
   "metadata": {},
   "outputs": [],
   "source": [
    "#Create a stratified train_set and test_set with an equal number of target features\n",
    "df_analysis = df_raw.copy()\n",
    "\n",
    "#Alternative - Medical_Tent create Dummy Variables for each Tent\n",
    "df_analysis['Medical_Tent'] = df_analysis['Medical_Tent'].fillna('NaN')\n",
    "df_analysis['Medical_Tent'] = df_analysis['Medical_Tent'].replace(['A', 'B', 'C', 'D', 'E', 'F', 'G', 'T','NaN'],[0, 1, 2, 3, 4 ,5 ,6 ,7 , 10])"
   ]
  },
  {
   "cell_type": "code",
   "execution_count": 335,
   "metadata": {},
   "outputs": [
    {
     "data": {
      "image/png": "[encoded data removed]",
      "text/plain": [
       "<Figure size 720x288 with 1 Axes>"
      ]
     },
     "metadata": {},
     "output_type": "display_data"
    }
   ],
   "source": [
    "# Target distribution\n",
    "\n",
    "sns.set(rc={'figure.figsize':(10,4)},)\n",
    "\n",
    "target_distribution = df_analysis.groupby('Deceased').size()\n",
    "sns.color_palette(\"Blues\")\n",
    "ax = sns.barplot(x=target_distribution.index,y=target_distribution,palette=\"Blues\")"
   ]
  },
  {
   "cell_type": "markdown",
   "metadata": {},
   "source": [
    "**Considerations**\n",
    "- The data is imbalanced in respect to the target\n",
    "- Thus several approaches will be tested: random oversampling, random undersampling or hybrid approaches"
   ]
  },
  {
   "cell_type": "code",
   "execution_count": 321,
   "metadata": {},
   "outputs": [
    {
     "data": {
      "text/plain": [
       "[]"
      ]
     },
     "execution_count": 321,
     "metadata": {},
     "output_type": "execute_result"
    },
    {
     "data": {
      "image/png": "[encoded data removed]",
      "text/plain": [
       "<Figure size 1440x1080 with 12 Axes>"
      ]
     },
     "metadata": {},
     "output_type": "display_data"
    }
   ],
   "source": [
    "#Box Plots show the distribution of the features and help to identify anormal distributions\n",
    "df_analysis.plot(kind='box', subplots=True, layout=(2,6), figsize=(20,15), color = 'royalblue')\n",
    "plt.plot()"
   ]
  },
  {
   "cell_type": "code",
   "execution_count": 322,
   "metadata": {},
   "outputs": [
    {
     "data": {
      "image/png": "[encoded data removed]",
      "text/plain": [
       "<Figure size 1080x864 with 9 Axes>"
      ]
     },
     "metadata": {},
     "output_type": "display_data"
    }
   ],
   "source": [
    "hist = df_analysis.hist(figsize = (15,12), bins = 50, xlabelsize = 8, ylabelsize = 8, color = 'royalblue')"
   ]
  },
  {
   "cell_type": "markdown",
   "metadata": {},
   "source": [
    "**Considerations**\n",
    "- Several attributes such as Medical_Expenses_family or Age show a a-normal distrubtion and might require to standardize its data and remove outliers\n",
    "- The Medical_Tent shows a large concentration on Tent 10 which was previously labeled as NaN\n",
    "\n",
    "#### Followingly let's have a closer look on the distribution of attributes to the target\n"
   ]
  },
  {
   "cell_type": "code",
   "execution_count": 340,
   "metadata": {},
   "outputs": [
    {
     "data": {
      "text/plain": [
       "array(['Name'], dtype=object)"
      ]
     },
     "execution_count": 340,
     "metadata": {},
     "output_type": "execute_result"
    }
   ],
   "source": [
    "cat_cols = df_analysis.select_dtypes(include = 'object').columns.values\n",
    "cat_cols\n"
   ]
  },
  {
   "cell_type": "code",
   "execution_count": 341,
   "metadata": {},
   "outputs": [],
   "source": [
    "#Encode Attributes to compare with Label\n",
    "le = LabelEncoder()\n",
    "le.fit(df_analysis.Medical_Tent)\n",
    "df_analysis.Medical_Tent = le.transform(df_analysis.Medical_Tent)\n",
    "\n",
    "df_analysis.City = df_analysis.City.astype(str)\n",
    "le = LabelEncoder()\n",
    "le.fit(df_analysis['City'])\n",
    "df_analysis.City = le.transform(df_analysis.City)"
   ]
  },
  {
   "cell_type": "code",
   "execution_count": 342,
   "metadata": {},
   "outputs": [
    {
     "data": {
      "text/plain": [
       "<matplotlib.axes._subplots.AxesSubplot at 0x7f4570f3ffd0>"
      ]
     },
     "execution_count": 342,
     "metadata": {},
     "output_type": "execute_result"
    },
    {
     "data": {
      "image/png": "[encoded data removed]",
      "text/plain": [
       "<Figure size 1440x1080 with 6 Axes>"
      ]
     },
     "metadata": {},
     "output_type": "display_data"
    }
   ],
   "source": [
    "#Plot of Attribute to Label distribution\n",
    "palette = [\"salmon\",\"royalblue\"]\n",
    "sns.set_palette(palette)\n",
    "\n",
    "f = plt.figure(figsize=(20, 15))\n",
    "gs = f.add_gridspec(3,3)\n",
    "\n",
    "ax = f.add_subplot(gs[0, 0])\n",
    "sns.boxplot(data = df_analysis, x = 'Medical_Tent', y = 'Deceased', orient = 'h')\n",
    "\n",
    "ax = f.add_subplot(gs[0, 1])\n",
    "sns.boxplot(data = df_analysis, x = 'Severity', y = 'Deceased',  orient = 'h')\n",
    "\n",
    "ax = f.add_subplot(gs[0, 2])\n",
    "sns.boxplot(data = df_analysis, x = 'Medical_Expenses_Family', y = 'Deceased',  orient = 'h')\n",
    "\n",
    "ax = f.add_subplot(gs[1, 0])\n",
    "sns.boxplot(data = df_analysis, x = 'Wife/Husband or siblings infected', y = 'Deceased', orient = 'h')\n",
    "\n",
    "ax = f.add_subplot(gs[1, 1])\n",
    "sns.boxplot(data = df_analysis, x = 'City', y = 'Deceased', orient = 'h')\n",
    "\n",
    "ax = f.add_subplot(gs[1, 2])\n",
    "sns.boxplot(data = df_analysis, x = 'Birthday_year', y = 'Deceased', orient = 'h')"
   ]
  },
  {
   "cell_type": "code",
   "execution_count": 344,
   "metadata": {},
   "outputs": [
    {
     "data": {
      "image/png": "[encoded data removed]",
      "text/plain": [
       "<Figure size 1080x1080 with 6 Axes>"
      ]
     },
     "metadata": {},
     "output_type": "display_data"
    }
   ],
   "source": [
    "#Lets use a distplot to see the relation from a different perspective\n",
    "fig, axs = plt.subplots(ncols=2, nrows=3, figsize=(15,15))\n",
    "\n",
    "sns.distplot( df_analysis[df_analysis['Deceased'] == 0][\"Birthday_year\"] , color=\"royalblue\", label=\"Deceased\",ax=axs[0,0])\n",
    "sns.distplot( df_analysis[df_analysis['Deceased'] == 1][\"Birthday_year\"] , color=\"red\", label=\"Deceased\",ax=axs[0,0])\n",
    "\n",
    "\n",
    "sns.distplot( df_analysis[df_analysis['Deceased'] == 0][\"Severity\"] , color=\"royalblue\", label=\"Deceased\",ax=axs[1,0])\n",
    "sns.distplot( df_analysis[df_analysis['Deceased'] == 1][\"Severity\"] , color=\"red\", label=\"Deceased\",ax=axs[1,0])\n",
    "\n",
    "sns.distplot( df_analysis[df_analysis['Deceased'] == 0][\"Wife/Husband or siblings infected\"] , color=\"royalblue\", label=\"Deceased\",ax=axs[0,1])\n",
    "sns.distplot( df_analysis[df_analysis['Deceased'] == 1][\"Wife/Husband or siblings infected\"] , color=\"red\", label=\"Deceased\",ax=axs[0,1])\n",
    "\n",
    "sns.distplot( df_analysis[df_analysis['Deceased'] == 0][\"Parents or children infected\"] , color=\"royalblue\", label=\"Deceased\", kde_kws={'bw':0.1},ax=axs[1,1])\n",
    "sns.distplot( df_analysis[df_analysis['Deceased'] == 1][\"Parents or children infected\"] , color=\"red\", label=\"Deceased\", kde_kws={'bw':0.1},ax=axs[1,1])\n",
    "\n",
    "sns.distplot( df_analysis[(df_analysis['Deceased'] == 0) & (df_analysis['Medical_Expenses_Family'] < 5000)][\"Medical_Expenses_Family\"] , color=\"royalblue\", label=\"Deceased\",ax=axs[2,0])\n",
    "sns.distplot( df_analysis[(df_analysis['Deceased'] == 1) & (df_analysis['Medical_Expenses_Family'] < 5000)][\"Medical_Expenses_Family\"], color=\"red\", label=\"Deceased\",ax=axs[2,0])\n",
    "\n",
    "sns.distplot( df_analysis[df_analysis['Deceased'] == 0][\"City\"] , color=\"royalblue\", label=\"Deceased\", kde_kws={'bw':0.1},ax=axs[2,1])\n",
    "sns.distplot( df_analysis[df_analysis['Deceased'] == 1][\"City\"] , color=\"red\", label=\"Deceased\", kde_kws={'bw':0.1},ax=axs[2,1])\n",
    "\n",
    "plt.show()"
   ]
  },
  {
   "cell_type": "code",
   "execution_count": 347,
   "metadata": {},
   "outputs": [
    {
     "data": {
      "text/plain": [
       "Medical_Tent\n",
       "0     15\n",
       "1     46\n",
       "2     57\n",
       "3     31\n",
       "4     31\n",
       "5     13\n",
       "6      4\n",
       "7      1\n",
       "8    702\n",
       "Name: Deceased, dtype: int64"
      ]
     },
     "execution_count": 347,
     "metadata": {},
     "output_type": "execute_result"
    }
   ],
   "source": [
    "# Lets have a closer look on the Medical_Tent variable which showed a strong relation to mortalities \n",
    "df_analysis['Medical_Tent'] = df_analysis['Medical_Tent'].fillna('NaN')\n",
    "df_analysis['Medical_Tent'].value_counts(sort=True,dropna=False)\n",
    "df_analysis_mt = df_analysis.groupby('Medical_Tent')['Deceased'].count()\n",
    "df_analysis_mt"
   ]
  },
  {
   "cell_type": "code",
   "execution_count": 348,
   "metadata": {},
   "outputs": [
    {
     "data": {
      "image/png": "[encoded data removed]",
      "text/plain": [
       "<Figure size 432x216 with 1 Axes>"
      ]
     },
     "metadata": {},
     "output_type": "display_data"
    }
   ],
   "source": [
    "# people assigned to no tent have a much higher mortality rate, although tent T has devastating results\n",
    "\n",
    "temp = df_analysis[['Medical_Tent','Deceased']].groupby('Medical_Tent').mean().reset_index()\n",
    "sns.factorplot('Medical_Tent', 'Deceased', size=3, aspect=2, data=temp, color=\"royalblue\")\n",
    "del temp"
   ]
  },
  {
   "cell_type": "markdown",
   "metadata": {},
   "source": [
    "**Considerations**\n",
    "- The boxplot and distribution plot showed certain trends in relation to the Mortality rate\n",
    "- Certain attributes such like Medical_Tent, Severity, City or Medical_Expenses_Family show a stronger likelihood to mortalities\n",
    "- The age influences the deceased status in which older individuals tend to be endangered more strongly\n",
    "- Also the severity tends to be higher for deceased individuals"
   ]
  },
  {
   "cell_type": "markdown",
   "metadata": {},
   "source": [
    "<hr>\n",
    "<a class=\"anchor\" id=\"cor\">\n",
    "\n",
    "### Correlation of features\n",
    "    \n",
    "</a>"
   ]
  },
  {
   "cell_type": "code",
   "execution_count": 350,
   "metadata": {},
   "outputs": [
    {
     "data": {
      "text/plain": [
       "Deceased                             1.000000\n",
       "Severity                             0.333286\n",
       "Medical_Tent                         0.286598\n",
       "City                                 0.118176\n",
       "Wife/Husband or siblings infected    0.032909\n",
       "Family_Case_ID                       0.021400\n",
       "Patient_ID                           0.003282\n",
       "Birthday_year                       -0.081879\n",
       "Parents or children infected        -0.082862\n",
       "Medical_Expenses_Family             -0.254510\n",
       "Name: Deceased, dtype: float64"
      ]
     },
     "execution_count": 350,
     "metadata": {},
     "output_type": "execute_result"
    }
   ],
   "source": [
    "#Our findings from the distrution should be underpinned by correlations\n",
    "corr_matrix = df_analysis.corr()\n",
    "corr_matrix['Deceased'].sort_values(ascending=False)"
   ]
  },
  {
   "cell_type": "code",
   "execution_count": 326,
   "metadata": {},
   "outputs": [],
   "source": [
    "cols = list(df_analysis.columns.values)\n",
    "cols\n",
    "data = df_analysis[['Patient_ID', 'Family_Case_ID', 'Severity', 'Name', 'Birthday_year','Medical_Expenses_Family','Medical_Tent','City','Parents or children infected','Wife/Husband or siblings infected','Deceased']]"
   ]
  },
  {
   "cell_type": "code",
   "execution_count": 327,
   "metadata": {},
   "outputs": [
    {
     "data": {
      "text/plain": [
       "<matplotlib.axes._subplots.AxesSubplot at 0x7f456b2d8890>"
      ]
     },
     "execution_count": 327,
     "metadata": {},
     "output_type": "execute_result"
    },
    {
     "data": {
      "image/png": "[encoded data removed]",
      "text/plain": [
       "<Figure size 1080x576 with 2 Axes>"
      ]
     },
     "metadata": {},
     "output_type": "display_data"
    }
   ],
   "source": [
    "corr = df_analysis.corr('pearson').round(decimals=2)\n",
    "mask = np.triu(np.ones_like(corr, dtype=np.bool))\n",
    "sns.set(rc={'figure.figsize':(15,8)})\n",
    "sns.heatmap(corr,\n",
    "            xticklabels=corr.columns,\n",
    "            yticklabels=corr.columns, \n",
    "            annot=True, \n",
    "            linewidths=.5, \n",
    "            vmin = -1.0,\n",
    "            vmax = 1.0,\n",
    "            mask = mask,\n",
    "            cmap=sns.diverging_palette(-10, 240, sep=70, n=7)\n",
    "           )"
   ]
  },
  {
   "cell_type": "markdown",
   "metadata": {},
   "source": [
    "**Considerations**\n",
    "- Indeed regarding the target, three factors play a larger role than others Severity, Medical_Expenses_Family and Medical_Tent\n",
    "- Because the former attribute includes many missing values, our focus is to recreate the missing values in the most insightful way possible\n",
    "- In practive we plan to consider a NaN Medical_Tent value to indicate that no Tent was visited by the patient and thus its deceasment rate is several magnitudes larger then the patient treated in a Medical_Tent"
   ]
  },
  {
   "cell_type": "markdown",
   "metadata": {},
   "source": [
    "<hr>\n",
    "<a class=\"anchor\" id=\"clean\">\n",
    "\n",
    "## 3. Data Cleaning\n",
    "    \n",
    "</a>"
   ]
  },
  {
   "cell_type": "code",
   "execution_count": 130,
   "metadata": {},
   "outputs": [],
   "source": [
    "df_cleaning = df_raw.copy()"
   ]
  },
  {
   "cell_type": "code",
   "execution_count": 131,
   "metadata": {},
   "outputs": [
    {
     "data": {
      "text/plain": [
       "array([nan, 'F', 'B', 'A', 'E', 'C', 'D', 'G', 'T'], dtype=object)"
      ]
     },
     "execution_count": 131,
     "metadata": {},
     "output_type": "execute_result"
    }
   ],
   "source": [
    "df_cleaning = df_cleaning.reset_index(drop=True)\n",
    "df_cleaning.Medical_Tent.unique()"
   ]
  },
  {
   "cell_type": "code",
   "execution_count": 132,
   "metadata": {},
   "outputs": [],
   "source": [
    "#City removing two missing values\n",
    "df_cleaning = df_cleaning.dropna(subset=['City'])\n",
    "\n",
    "#Medical_Tent\n",
    "df_cleaning['Medical_Tent'] = df_cleaning['Medical_Tent'].fillna('NaN')\n",
    "df_cleaning['Medical_Tent'] = df_cleaning['Medical_Tent'].replace(['A', 'B', 'C', 'D', 'E', 'F', 'G', 'T','NaN'],[1, 1, 1, 1, 1 ,1 ,1 ,1 , 0])\n",
    "\n",
    "#Birthday_year replace NaN's by KNN\n",
    "from sklearn.impute import KNNImputer\n",
    "imp = KNNImputer()\n",
    "imp.fit(df_cleaning['Birthday_year'].values.reshape(-1, 1))\n",
    "df_cleaning['Birthday_year'] = imp.fit_transform(df_cleaning['Birthday_year'].values.reshape(-1, 1)).round(0).astype(int)\n",
    "\n",
    "\n",
    "#Categorical City attributes to dummy variables\n",
    "df_cleaning.City = df_cleaning.City.replace(['Albuquerque', 'Santa Fe', 'Taos'],[0, 1, 2])\n"
   ]
  },
  {
   "cell_type": "code",
   "execution_count": 133,
   "metadata": {},
   "outputs": [
    {
     "data": {
      "text/html": [
       "<div>\n",
       "<style scoped>\n",
       "    .dataframe tbody tr th:only-of-type {\n",
       "        vertical-align: middle;\n",
       "    }\n",
       "\n",
       "    .dataframe tbody tr th {\n",
       "        vertical-align: top;\n",
       "    }\n",
       "\n",
       "    .dataframe thead th {\n",
       "        text-align: right;\n",
       "    }\n",
       "</style>\n",
       "<table border=\"1\" class=\"dataframe\">\n",
       "  <thead>\n",
       "    <tr style=\"text-align: right;\">\n",
       "      <th></th>\n",
       "      <th>Patient_ID</th>\n",
       "      <th>Family_Case_ID</th>\n",
       "      <th>Severity</th>\n",
       "      <th>Name</th>\n",
       "      <th>Birthday_year</th>\n",
       "      <th>Medical_Expenses_Family</th>\n",
       "      <th>Medical_Tent</th>\n",
       "      <th>City</th>\n",
       "      <th>Deceased</th>\n",
       "      <th>Parents or children infected</th>\n",
       "      <th>Wife/Husband or siblings infected</th>\n",
       "    </tr>\n",
       "  </thead>\n",
       "  <tbody>\n",
       "    <tr>\n",
       "      <th>0</th>\n",
       "      <td>1</td>\n",
       "      <td>4696</td>\n",
       "      <td>3</td>\n",
       "      <td>Miss Linda Betty</td>\n",
       "      <td>1990</td>\n",
       "      <td>225</td>\n",
       "      <td>0</td>\n",
       "      <td>1</td>\n",
       "      <td>1</td>\n",
       "      <td>0</td>\n",
       "      <td>0</td>\n",
       "    </tr>\n",
       "    <tr>\n",
       "      <th>1</th>\n",
       "      <td>2</td>\n",
       "      <td>21436</td>\n",
       "      <td>1</td>\n",
       "      <td>Ms. Ramona Elvira</td>\n",
       "      <td>1966</td>\n",
       "      <td>1663</td>\n",
       "      <td>0</td>\n",
       "      <td>0</td>\n",
       "      <td>0</td>\n",
       "      <td>0</td>\n",
       "      <td>1</td>\n",
       "    </tr>\n",
       "    <tr>\n",
       "      <th>2</th>\n",
       "      <td>3</td>\n",
       "      <td>7273</td>\n",
       "      <td>3</td>\n",
       "      <td>Mr. Mario Vernon</td>\n",
       "      <td>1982</td>\n",
       "      <td>221</td>\n",
       "      <td>0</td>\n",
       "      <td>1</td>\n",
       "      <td>1</td>\n",
       "      <td>0</td>\n",
       "      <td>0</td>\n",
       "    </tr>\n",
       "    <tr>\n",
       "      <th>3</th>\n",
       "      <td>4</td>\n",
       "      <td>8226</td>\n",
       "      <td>3</td>\n",
       "      <td>Mr. Hector Joe</td>\n",
       "      <td>1997</td>\n",
       "      <td>220</td>\n",
       "      <td>0</td>\n",
       "      <td>1</td>\n",
       "      <td>1</td>\n",
       "      <td>0</td>\n",
       "      <td>0</td>\n",
       "    </tr>\n",
       "    <tr>\n",
       "      <th>4</th>\n",
       "      <td>5</td>\n",
       "      <td>19689</td>\n",
       "      <td>3</td>\n",
       "      <td>Ms. Jennie Debra</td>\n",
       "      <td>1994</td>\n",
       "      <td>222</td>\n",
       "      <td>0</td>\n",
       "      <td>1</td>\n",
       "      <td>0</td>\n",
       "      <td>0</td>\n",
       "      <td>0</td>\n",
       "    </tr>\n",
       "  </tbody>\n",
       "</table>\n",
       "</div>"
      ],
      "text/plain": [
       "   Patient_ID  Family_Case_ID  Severity               Name  Birthday_year  \\\n",
       "0           1            4696         3   Miss Linda Betty           1990   \n",
       "1           2           21436         1  Ms. Ramona Elvira           1966   \n",
       "2           3            7273         3   Mr. Mario Vernon           1982   \n",
       "3           4            8226         3     Mr. Hector Joe           1997   \n",
       "4           5           19689         3   Ms. Jennie Debra           1994   \n",
       "\n",
       "   Medical_Expenses_Family  Medical_Tent  City  Deceased  \\\n",
       "0                      225             0     1         1   \n",
       "1                     1663             0     0         0   \n",
       "2                      221             0     1         1   \n",
       "3                      220             0     1         1   \n",
       "4                      222             0     1         0   \n",
       "\n",
       "   Parents or children infected  Wife/Husband or siblings infected  \n",
       "0                             0                                  0  \n",
       "1                             0                                  1  \n",
       "2                             0                                  0  \n",
       "3                             0                                  0  \n",
       "4                             0                                  0  "
      ]
     },
     "execution_count": 133,
     "metadata": {},
     "output_type": "execute_result"
    }
   ],
   "source": [
    "df_cleaning.head()"
   ]
  },
  {
   "cell_type": "markdown",
   "metadata": {},
   "source": [
    "<hr>\n",
    "<a class=\"anchor\" id=\"bench\">\n",
    "\n",
    "## 4. Classifier Baseline Benchmark \n",
    "    \n",
    "</a>"
   ]
  },
  {
   "cell_type": "code",
   "execution_count": 134,
   "metadata": {},
   "outputs": [],
   "source": [
    "df_bench = df_cleaning.copy()\n",
    "df_bench = df_bench.drop(['Name','Patient_ID'],axis=1)"
   ]
  },
  {
   "cell_type": "code",
   "execution_count": 135,
   "metadata": {},
   "outputs": [],
   "source": [
    "#Create an X and y for train_test_split\n",
    "target_name = 'Deceased'\n",
    "X = df_bench.loc[:, df_bench.columns != target_name]\n",
    "y = df_bench.loc[:, df_bench.columns == target_name]"
   ]
  },
  {
   "cell_type": "code",
   "execution_count": 136,
   "metadata": {},
   "outputs": [],
   "source": [
    "from imblearn.over_sampling import SMOTE\n",
    "# Smote method was considered, although it shows better score for gradientboosting classifier (Almost 0.8),\n",
    "# it resulted in a lower score overall on kaggle (~0.83)\n",
    "\n",
    "#oversample = SMOTE()\n",
    "#X, y = oversample.fit_resample(X, y)\n",
    "#y.Deceased.value_counts()"
   ]
  },
  {
   "cell_type": "code",
   "execution_count": 137,
   "metadata": {},
   "outputs": [],
   "source": [
    "X_train, X_val, y_train, y_val = train_test_split(X,y,\n",
    "                                                  test_size=0.2,\n",
    "                                                  random_state=random_state,\n",
    "                                                  stratify=y)"
   ]
  },
  {
   "cell_type": "code",
   "execution_count": 138,
   "metadata": {},
   "outputs": [
    {
     "name": "stdout",
     "output_type": "stream",
     "text": [
      "0.6944444444444444\n",
      "0.6833333333333333\n",
      "0.7666666666666667\n",
      "0.75\n"
     ]
    },
    {
     "data": {
      "text/html": [
       "<div>\n",
       "<style scoped>\n",
       "    .dataframe tbody tr th:only-of-type {\n",
       "        vertical-align: middle;\n",
       "    }\n",
       "\n",
       "    .dataframe tbody tr th {\n",
       "        vertical-align: top;\n",
       "    }\n",
       "\n",
       "    .dataframe thead th {\n",
       "        text-align: right;\n",
       "    }\n",
       "</style>\n",
       "<table border=\"1\" class=\"dataframe\">\n",
       "  <thead>\n",
       "    <tr style=\"text-align: right;\">\n",
       "      <th></th>\n",
       "      <th>Results</th>\n",
       "    </tr>\n",
       "  </thead>\n",
       "  <tbody>\n",
       "    <tr>\n",
       "      <th>KNN</th>\n",
       "      <td>0.694444</td>\n",
       "    </tr>\n",
       "    <tr>\n",
       "      <th>LR</th>\n",
       "      <td>0.683333</td>\n",
       "    </tr>\n",
       "    <tr>\n",
       "      <th>NB</th>\n",
       "      <td>0.766667</td>\n",
       "    </tr>\n",
       "    <tr>\n",
       "      <th>GBC</th>\n",
       "      <td>0.750000</td>\n",
       "    </tr>\n",
       "  </tbody>\n",
       "</table>\n",
       "</div>"
      ],
      "text/plain": [
       "      Results\n",
       "KNN  0.694444\n",
       "LR   0.683333\n",
       "NB   0.766667\n",
       "GBC  0.750000"
      ]
     },
     "execution_count": 138,
     "metadata": {},
     "output_type": "execute_result"
    }
   ],
   "source": [
    "classifier_selection(X_train, X_val, y_train, y_val,[KNeighborsClassifier(),LogisticRegression(),GaussianNB(),GradientBoostingClassifier()])"
   ]
  },
  {
   "cell_type": "markdown",
   "metadata": {},
   "source": [
    "**Considerations**\n",
    "- The classifier needs to get better data as the performance is very low\n",
    "- Change Tent into Dummy variables as well and retest"
   ]
  },
  {
   "cell_type": "markdown",
   "metadata": {},
   "source": [
    "<hr>\n",
    "<a class=\"anchor\" id=\"fe\">\n",
    "\n",
    "## 5. Feature Engineering\n",
    "    \n",
    "</a>"
   ]
  },
  {
   "cell_type": "code",
   "execution_count": 139,
   "metadata": {
    "scrolled": true
   },
   "outputs": [
    {
     "data": {
      "text/html": [
       "<div>\n",
       "<style scoped>\n",
       "    .dataframe tbody tr th:only-of-type {\n",
       "        vertical-align: middle;\n",
       "    }\n",
       "\n",
       "    .dataframe tbody tr th {\n",
       "        vertical-align: top;\n",
       "    }\n",
       "\n",
       "    .dataframe thead th {\n",
       "        text-align: right;\n",
       "    }\n",
       "</style>\n",
       "<table border=\"1\" class=\"dataframe\">\n",
       "  <thead>\n",
       "    <tr style=\"text-align: right;\">\n",
       "      <th></th>\n",
       "      <th>Patient_ID</th>\n",
       "      <th>Family_Case_ID</th>\n",
       "      <th>Severity</th>\n",
       "      <th>Birthday_year</th>\n",
       "      <th>Medical_Expenses_Family</th>\n",
       "      <th>Medical_Tent</th>\n",
       "      <th>City</th>\n",
       "      <th>Deceased</th>\n",
       "      <th>Parents or children infected</th>\n",
       "      <th>Wife/Husband or siblings infected</th>\n",
       "      <th>Gender</th>\n",
       "      <th>Ratio_Medical_Exp</th>\n",
       "      <th>Age_MeanAge</th>\n",
       "      <th>Ratio_gender_med</th>\n",
       "      <th>Average_Severity_Gender_Ratio</th>\n",
       "    </tr>\n",
       "  </thead>\n",
       "  <tbody>\n",
       "    <tr>\n",
       "      <th>0</th>\n",
       "      <td>1</td>\n",
       "      <td>4696</td>\n",
       "      <td>3</td>\n",
       "      <td>1990</td>\n",
       "      <td>225</td>\n",
       "      <td>0</td>\n",
       "      <td>1</td>\n",
       "      <td>1</td>\n",
       "      <td>0</td>\n",
       "      <td>0</td>\n",
       "      <td>0</td>\n",
       "      <td>0.252030</td>\n",
       "      <td>0.999870</td>\n",
       "      <td>0.183463</td>\n",
       "      <td>1.377907</td>\n",
       "    </tr>\n",
       "    <tr>\n",
       "      <th>1</th>\n",
       "      <td>2</td>\n",
       "      <td>21436</td>\n",
       "      <td>1</td>\n",
       "      <td>1966</td>\n",
       "      <td>1663</td>\n",
       "      <td>0</td>\n",
       "      <td>0</td>\n",
       "      <td>0</td>\n",
       "      <td>0</td>\n",
       "      <td>1</td>\n",
       "      <td>0</td>\n",
       "      <td>1.862785</td>\n",
       "      <td>0.987811</td>\n",
       "      <td>1.355996</td>\n",
       "      <td>0.459302</td>\n",
       "    </tr>\n",
       "    <tr>\n",
       "      <th>2</th>\n",
       "      <td>3</td>\n",
       "      <td>7273</td>\n",
       "      <td>3</td>\n",
       "      <td>1982</td>\n",
       "      <td>221</td>\n",
       "      <td>0</td>\n",
       "      <td>1</td>\n",
       "      <td>1</td>\n",
       "      <td>0</td>\n",
       "      <td>0</td>\n",
       "      <td>1</td>\n",
       "      <td>0.247550</td>\n",
       "      <td>0.995850</td>\n",
       "      <td>0.310572</td>\n",
       "      <td>1.254310</td>\n",
       "    </tr>\n",
       "    <tr>\n",
       "      <th>3</th>\n",
       "      <td>4</td>\n",
       "      <td>8226</td>\n",
       "      <td>3</td>\n",
       "      <td>1997</td>\n",
       "      <td>220</td>\n",
       "      <td>0</td>\n",
       "      <td>1</td>\n",
       "      <td>1</td>\n",
       "      <td>0</td>\n",
       "      <td>0</td>\n",
       "      <td>1</td>\n",
       "      <td>0.246430</td>\n",
       "      <td>1.003387</td>\n",
       "      <td>0.309167</td>\n",
       "      <td>1.254310</td>\n",
       "    </tr>\n",
       "    <tr>\n",
       "      <th>4</th>\n",
       "      <td>5</td>\n",
       "      <td>19689</td>\n",
       "      <td>3</td>\n",
       "      <td>1994</td>\n",
       "      <td>222</td>\n",
       "      <td>0</td>\n",
       "      <td>1</td>\n",
       "      <td>0</td>\n",
       "      <td>0</td>\n",
       "      <td>0</td>\n",
       "      <td>0</td>\n",
       "      <td>0.248670</td>\n",
       "      <td>1.001879</td>\n",
       "      <td>0.181017</td>\n",
       "      <td>1.377907</td>\n",
       "    </tr>\n",
       "  </tbody>\n",
       "</table>\n",
       "</div>"
      ],
      "text/plain": [
       "   Patient_ID  Family_Case_ID  Severity  Birthday_year  \\\n",
       "0           1            4696         3           1990   \n",
       "1           2           21436         1           1966   \n",
       "2           3            7273         3           1982   \n",
       "3           4            8226         3           1997   \n",
       "4           5           19689         3           1994   \n",
       "\n",
       "   Medical_Expenses_Family  Medical_Tent  City  Deceased  \\\n",
       "0                      225             0     1         1   \n",
       "1                     1663             0     0         0   \n",
       "2                      221             0     1         1   \n",
       "3                      220             0     1         1   \n",
       "4                      222             0     1         0   \n",
       "\n",
       "   Parents or children infected  Wife/Husband or siblings infected  Gender  \\\n",
       "0                             0                                  0       0   \n",
       "1                             0                                  1       0   \n",
       "2                             0                                  0       1   \n",
       "3                             0                                  0       1   \n",
       "4                             0                                  0       0   \n",
       "\n",
       "   Ratio_Medical_Exp  Age_MeanAge  Ratio_gender_med  \\\n",
       "0           0.252030     0.999870          0.183463   \n",
       "1           1.862785     0.987811          1.355996   \n",
       "2           0.247550     0.995850          0.310572   \n",
       "3           0.246430     1.003387          0.309167   \n",
       "4           0.248670     1.001879          0.181017   \n",
       "\n",
       "   Average_Severity_Gender_Ratio  \n",
       "0                       1.377907  \n",
       "1                       0.459302  \n",
       "2                       1.254310  \n",
       "3                       1.254310  \n",
       "4                       1.377907  "
      ]
     },
     "execution_count": 139,
     "metadata": {},
     "output_type": "execute_result"
    }
   ],
   "source": [
    "df_feat = df_cleaning.copy()\n",
    "\n",
    "# Derive Gender from Name\n",
    "df_feat['Gender'] = gender_split(df_feat)\n",
    "\n",
    "#Drop Name\n",
    "df_feat = df_feat.drop('Name',axis=1)\n",
    "\n",
    "# Feature extraction from medical expenses data\n",
    "#Medical_Expenses_Family Ratio\n",
    "df_feat['Ratio_Medical_Exp'] = df_feat.loc[:,'Medical_Expenses_Family']/df_feat.loc[:,'Medical_Expenses_Family'].mean()\n",
    "\n",
    "#Age/MeanAge Ratio\n",
    "df_feat['Age_MeanAge'] = df_feat.loc[:,'Birthday_year']/df_feat.loc[:,'Birthday_year'].mean()\n",
    "\n",
    "#Medical_Expenses_Family Gender Ratio\n",
    "rat = df_feat.groupby('Gender')['Medical_Expenses_Family'].transform('mean')\n",
    "df_feat = df_feat.assign(Ratio_gender_med=lambda x: x.Medical_Expenses_Family.div(rat))\n",
    "\n",
    "#Severity by Average Gender Ratio\n",
    "rat = df_feat.groupby('Gender')['Severity'].transform('mean')\n",
    "df_feat = df_feat.assign(Average_Severity_Gender_Ratio=lambda x: x.Severity.div(rat))\n",
    "\n",
    "df_feat.head()"
   ]
  },
  {
   "cell_type": "code",
   "execution_count": 140,
   "metadata": {},
   "outputs": [
    {
     "data": {
      "text/plain": [
       "Deceased                             1.000000\n",
       "Gender                               0.539791\n",
       "Severity                             0.330357\n",
       "Average_Severity_Gender_Ratio        0.270771\n",
       "City                                 0.131954\n",
       "Wife/Husband or siblings infected    0.031639\n",
       "Family_Case_ID                       0.022422\n",
       "Patient_ID                           0.001555\n",
       "Birthday_year                       -0.079661\n",
       "Age_MeanAge                         -0.079661\n",
       "Parents or children infected        -0.084364\n",
       "Ratio_gender_med                    -0.152929\n",
       "Ratio_Medical_Exp                   -0.252494\n",
       "Medical_Expenses_Family             -0.252494\n",
       "Medical_Tent                        -0.297630\n",
       "Name: Deceased, dtype: float64"
      ]
     },
     "execution_count": 140,
     "metadata": {},
     "output_type": "execute_result"
    }
   ],
   "source": [
    "#Gender shows high correlation with target\n",
    "#Medical_Tent_Binary shows strong negative correlation -> if Tent is available death rate increases\n",
    "#Family_Infected shows negative correlation\n",
    "corr_matrix = df_feat.corr()\n",
    "corr_matrix['Deceased'].sort_values(ascending=False)"
   ]
  },
  {
   "cell_type": "code",
   "execution_count": 141,
   "metadata": {},
   "outputs": [
    {
     "data": {
      "text/plain": [
       "1    553\n",
       "0    345\n",
       "Name: Deceased, dtype: int64"
      ]
     },
     "execution_count": 141,
     "metadata": {},
     "output_type": "execute_result"
    }
   ],
   "source": [
    "#Create X and y for train_test_split\n",
    "target_name = 'Deceased'\n",
    "X = df_feat.loc[:, df_feat.columns != target_name]\n",
    "y = df_feat.loc[:, df_feat.columns == target_name]\n",
    "\n",
    "y.Deceased.value_counts()"
   ]
  },
  {
   "cell_type": "code",
   "execution_count": 142,
   "metadata": {},
   "outputs": [],
   "source": [
    "#smote method considered, but it lowers score in the end\n",
    "\n",
    "#oversample = SMOTE()\n",
    "#X, y = oversample.fit_resample(X, y)\n",
    "#y.Deceased.value_counts()"
   ]
  },
  {
   "cell_type": "code",
   "execution_count": 143,
   "metadata": {},
   "outputs": [],
   "source": [
    "X_train, X_val, y_train, y_val = train_test_split(X,y,\n",
    "                                                  test_size=0.2,\n",
    "                                                  random_state=random_state,\n",
    "                                                  stratify=y)"
   ]
  },
  {
   "cell_type": "markdown",
   "metadata": {},
   "source": [
    "<hr>\n",
    "<a class=\"anchor\" id=\"fs\">\n",
    "\n",
    "### Feature Scaling\n",
    "    \n",
    "</a>"
   ]
  },
  {
   "cell_type": "code",
   "execution_count": 144,
   "metadata": {},
   "outputs": [
    {
     "data": {
      "text/html": [
       "<div>\n",
       "<style scoped>\n",
       "    .dataframe tbody tr th:only-of-type {\n",
       "        vertical-align: middle;\n",
       "    }\n",
       "\n",
       "    .dataframe tbody tr th {\n",
       "        vertical-align: top;\n",
       "    }\n",
       "\n",
       "    .dataframe thead th {\n",
       "        text-align: right;\n",
       "    }\n",
       "</style>\n",
       "<table border=\"1\" class=\"dataframe\">\n",
       "  <thead>\n",
       "    <tr style=\"text-align: right;\">\n",
       "      <th></th>\n",
       "      <th>KNN</th>\n",
       "      <th>LR</th>\n",
       "      <th>NB</th>\n",
       "      <th>BGD</th>\n",
       "    </tr>\n",
       "  </thead>\n",
       "  <tbody>\n",
       "    <tr>\n",
       "      <th>Normalizer_test</th>\n",
       "      <td>0.627778</td>\n",
       "      <td>0.616667</td>\n",
       "      <td>0.661111</td>\n",
       "      <td>0.85</td>\n",
       "    </tr>\n",
       "    <tr>\n",
       "      <th>Robust_test</th>\n",
       "      <td>0.846797</td>\n",
       "      <td>0.789694</td>\n",
       "      <td>0.724234</td>\n",
       "      <td>0.91922</td>\n",
       "    </tr>\n",
       "    <tr>\n",
       "      <th>Minmax_test</th>\n",
       "      <td>0.844444</td>\n",
       "      <td>0.844444</td>\n",
       "      <td>0.805556</td>\n",
       "      <td>0.838889</td>\n",
       "    </tr>\n",
       "    <tr>\n",
       "      <th>Minmax_test2</th>\n",
       "      <td>0.844444</td>\n",
       "      <td>0.844444</td>\n",
       "      <td>0.805556</td>\n",
       "      <td>0.844444</td>\n",
       "    </tr>\n",
       "    <tr>\n",
       "      <th>Standard_test</th>\n",
       "      <td>0.861111</td>\n",
       "      <td>0.844444</td>\n",
       "      <td>0.805556</td>\n",
       "      <td>0.838889</td>\n",
       "    </tr>\n",
       "  </tbody>\n",
       "</table>\n",
       "</div>"
      ],
      "text/plain": [
       "                      KNN        LR        NB       BGD\n",
       "Normalizer_test  0.627778  0.616667  0.661111      0.85\n",
       "Robust_test      0.846797  0.789694  0.724234   0.91922\n",
       "Minmax_test      0.844444  0.844444  0.805556  0.838889\n",
       "Minmax_test2     0.844444  0.844444  0.805556  0.844444\n",
       "Standard_test    0.861111  0.844444  0.805556  0.838889"
      ]
     },
     "execution_count": 144,
     "metadata": {},
     "output_type": "execute_result"
    }
   ],
   "source": [
    "scaler_selection(X_train, X_val, y_train, y_val, [KNeighborsClassifier(),LogisticRegression(),GaussianNB(),GradientBoostingClassifier()])"
   ]
  },
  {
   "cell_type": "code",
   "execution_count": 145,
   "metadata": {},
   "outputs": [],
   "source": [
    "#Scale Features with best Scaler for Feature Selection\n",
    "best_scaler = RobustScaler().fit(X_train)\n",
    "X_train_scaled = best_scaler.transform(X_train)\n",
    "X_val_scaled = best_scaler.transform(X_val)"
   ]
  },
  {
   "cell_type": "markdown",
   "metadata": {},
   "source": [
    "**Considerations**\n",
    "- Scaling improves the accuracy of our models measured with the X_val and y_val \n",
    "- We should create a method to test all classifiers on all scaler not just KNNClassifier"
   ]
  },
  {
   "cell_type": "markdown",
   "metadata": {},
   "source": [
    "<hr>\n",
    "<a class=\"anchor\" id=\"fs\">\n",
    "\n",
    "### Feature Selection\n",
    "    \n",
    "</a>\n",
    "\n",
    "- Regarding Feature Selection algorithms, BorutaPy uses a random forest classification and seems to be a good choice, according to this source: https://towardsdatascience.com/boruta-explained-the-way-i-wish-someone-explained-it-to-me-4489d70e154a\n",
    "- Additionally a lasso regression is deployed to support the decisions made by BorutaPy"
   ]
  },
  {
   "cell_type": "code",
   "execution_count": 146,
   "metadata": {},
   "outputs": [],
   "source": [
    "#Craeting Train/Test Dataframe from the Scaling process to Select Features\n",
    "X_train_Scaled = pd.DataFrame(X_train_scaled, columns = X_train.columns)\n",
    "X_val_Scaled = pd.DataFrame(X_val_scaled, columns = X_val.columns)"
   ]
  },
  {
   "cell_type": "code",
   "execution_count": 147,
   "metadata": {
    "scrolled": true
   },
   "outputs": [
    {
     "name": "stdout",
     "output_type": "stream",
     "text": [
      "Iteration: \t1 / 200\n",
      "Confirmed: \t0\n",
      "Tentative: \t14\n",
      "Rejected: \t0\n",
      "Iteration: \t2 / 200\n",
      "Confirmed: \t0\n",
      "Tentative: \t14\n",
      "Rejected: \t0\n",
      "Iteration: \t3 / 200\n",
      "Confirmed: \t0\n",
      "Tentative: \t14\n",
      "Rejected: \t0\n",
      "Iteration: \t4 / 200\n",
      "Confirmed: \t0\n",
      "Tentative: \t14\n",
      "Rejected: \t0\n",
      "Iteration: \t5 / 200\n",
      "Confirmed: \t0\n",
      "Tentative: \t14\n",
      "Rejected: \t0\n",
      "Iteration: \t6 / 200\n",
      "Confirmed: \t0\n",
      "Tentative: \t14\n",
      "Rejected: \t0\n",
      "Iteration: \t7 / 200\n",
      "Confirmed: \t0\n",
      "Tentative: \t14\n",
      "Rejected: \t0\n",
      "Iteration: \t8 / 200\n",
      "Confirmed: \t8\n",
      "Tentative: \t2\n",
      "Rejected: \t4\n",
      "Iteration: \t9 / 200\n",
      "Confirmed: \t8\n",
      "Tentative: \t2\n",
      "Rejected: \t4\n",
      "Iteration: \t10 / 200\n",
      "Confirmed: \t8\n",
      "Tentative: \t2\n",
      "Rejected: \t4\n",
      "Iteration: \t11 / 200\n",
      "Confirmed: \t8\n",
      "Tentative: \t2\n",
      "Rejected: \t4\n",
      "Iteration: \t12 / 200\n",
      "Confirmed: \t8\n",
      "Tentative: \t1\n",
      "Rejected: \t5\n",
      "Iteration: \t13 / 200\n",
      "Confirmed: \t8\n",
      "Tentative: \t1\n",
      "Rejected: \t5\n",
      "Iteration: \t14 / 200\n",
      "Confirmed: \t8\n",
      "Tentative: \t1\n",
      "Rejected: \t5\n",
      "Iteration: \t15 / 200\n",
      "Confirmed: \t8\n",
      "Tentative: \t1\n",
      "Rejected: \t5\n",
      "Iteration: \t16 / 200\n",
      "Confirmed: \t8\n",
      "Tentative: \t1\n",
      "Rejected: \t5\n",
      "Iteration: \t17 / 200\n",
      "Confirmed: \t8\n",
      "Tentative: \t1\n",
      "Rejected: \t5\n",
      "Iteration: \t18 / 200\n",
      "Confirmed: \t8\n",
      "Tentative: \t1\n",
      "Rejected: \t5\n",
      "Iteration: \t19 / 200\n",
      "Confirmed: \t8\n",
      "Tentative: \t1\n",
      "Rejected: \t5\n",
      "Iteration: \t20 / 200\n",
      "Confirmed: \t8\n",
      "Tentative: \t1\n",
      "Rejected: \t5\n",
      "Iteration: \t21 / 200\n",
      "Confirmed: \t8\n",
      "Tentative: \t1\n",
      "Rejected: \t5\n",
      "Iteration: \t22 / 200\n",
      "Confirmed: \t8\n",
      "Tentative: \t1\n",
      "Rejected: \t5\n",
      "Iteration: \t23 / 200\n",
      "Confirmed: \t8\n",
      "Tentative: \t1\n",
      "Rejected: \t5\n",
      "Iteration: \t24 / 200\n",
      "Confirmed: \t8\n",
      "Tentative: \t1\n",
      "Rejected: \t5\n",
      "Iteration: \t25 / 200\n",
      "Confirmed: \t8\n",
      "Tentative: \t1\n",
      "Rejected: \t5\n",
      "Iteration: \t26 / 200\n",
      "Confirmed: \t8\n",
      "Tentative: \t1\n",
      "Rejected: \t5\n",
      "Iteration: \t27 / 200\n",
      "Confirmed: \t8\n",
      "Tentative: \t1\n",
      "Rejected: \t5\n",
      "Iteration: \t28 / 200\n",
      "Confirmed: \t8\n",
      "Tentative: \t1\n",
      "Rejected: \t5\n",
      "Iteration: \t29 / 200\n",
      "Confirmed: \t8\n",
      "Tentative: \t1\n",
      "Rejected: \t5\n",
      "Iteration: \t30 / 200\n",
      "Confirmed: \t8\n",
      "Tentative: \t1\n",
      "Rejected: \t5\n",
      "Iteration: \t31 / 200\n",
      "Confirmed: \t8\n",
      "Tentative: \t1\n",
      "Rejected: \t5\n",
      "Iteration: \t32 / 200\n",
      "Confirmed: \t8\n",
      "Tentative: \t0\n",
      "Rejected: \t6\n",
      "\n",
      "\n",
      "BorutaPy finished running.\n",
      "\n",
      "Iteration: \t33 / 200\n",
      "Confirmed: \t8\n",
      "Tentative: \t0\n",
      "Rejected: \t6\n",
      "features in the green area: ['Severity', 'Birthday_year', 'Medical_Expenses_Family', 'Gender', 'Ratio_Medical_Exp', 'Age_MeanAge', 'Ratio_gender_med', 'Average_Severity_Gender_Ratio']\n",
      "features in the blue area: []\n"
     ]
    }
   ],
   "source": [
    "from boruta import BorutaPy\n",
    "\n",
    "from sklearn.ensemble import RandomForestClassifier\n",
    "\n",
    "rf = RandomForestClassifier(n_jobs=-1, class_weight='balanced', max_depth=5, random_state=random_state)\n",
    "\n",
    "# define Boruta feature selection method\n",
    "feat_selector = BorutaPy(estimator = rf, n_estimators='auto', verbose=2, random_state=1, max_iter=200)\n",
    "\n",
    "# find all relevant features - 5 features should be selected\n",
    "feat_selector.fit(X_train_Scaled.values, y_train.values.ravel())\n",
    "\n",
    "# check selected features - first 5 features are selected\n",
    "feat_selector.support_\n",
    "\n",
    "# check ranking of features\n",
    "feat_selector.ranking_\n",
    "\n",
    "# call transform() on X to filter it down to selected features\n",
    "X_filtered = feat_selector.transform(X_train_Scaled.values)\n",
    "\n",
    "### print results\n",
    "green_area = X_train_Scaled.columns[feat_selector.support_].to_list()\n",
    "blue_area = X_train_Scaled.columns[feat_selector.support_weak_].to_list()\n",
    "print('features in the green area:', green_area)\n",
    "print('features in the blue area:', blue_area)"
   ]
  },
  {
   "cell_type": "code",
   "execution_count": 148,
   "metadata": {},
   "outputs": [
    {
     "data": {
      "text/html": [
       "<div>\n",
       "<style scoped>\n",
       "    .dataframe tbody tr th:only-of-type {\n",
       "        vertical-align: middle;\n",
       "    }\n",
       "\n",
       "    .dataframe tbody tr th {\n",
       "        vertical-align: top;\n",
       "    }\n",
       "\n",
       "    .dataframe thead th {\n",
       "        text-align: right;\n",
       "    }\n",
       "</style>\n",
       "<table border=\"1\" class=\"dataframe\">\n",
       "  <thead>\n",
       "    <tr style=\"text-align: right;\">\n",
       "      <th></th>\n",
       "      <th>features</th>\n",
       "      <th>rank</th>\n",
       "      <th>T/F</th>\n",
       "    </tr>\n",
       "  </thead>\n",
       "  <tbody>\n",
       "    <tr>\n",
       "      <th>0</th>\n",
       "      <td>Severity</td>\n",
       "      <td>1</td>\n",
       "      <td>True</td>\n",
       "    </tr>\n",
       "    <tr>\n",
       "      <th>1</th>\n",
       "      <td>Birthday_year</td>\n",
       "      <td>1</td>\n",
       "      <td>True</td>\n",
       "    </tr>\n",
       "    <tr>\n",
       "      <th>2</th>\n",
       "      <td>Medical_Expenses_Family</td>\n",
       "      <td>1</td>\n",
       "      <td>True</td>\n",
       "    </tr>\n",
       "    <tr>\n",
       "      <th>3</th>\n",
       "      <td>Gender</td>\n",
       "      <td>1</td>\n",
       "      <td>True</td>\n",
       "    </tr>\n",
       "    <tr>\n",
       "      <th>4</th>\n",
       "      <td>Ratio_Medical_Exp</td>\n",
       "      <td>1</td>\n",
       "      <td>True</td>\n",
       "    </tr>\n",
       "    <tr>\n",
       "      <th>5</th>\n",
       "      <td>Age_MeanAge</td>\n",
       "      <td>1</td>\n",
       "      <td>True</td>\n",
       "    </tr>\n",
       "    <tr>\n",
       "      <th>6</th>\n",
       "      <td>Ratio_gender_med</td>\n",
       "      <td>1</td>\n",
       "      <td>True</td>\n",
       "    </tr>\n",
       "    <tr>\n",
       "      <th>7</th>\n",
       "      <td>Average_Severity_Gender_Ratio</td>\n",
       "      <td>1</td>\n",
       "      <td>True</td>\n",
       "    </tr>\n",
       "    <tr>\n",
       "      <th>8</th>\n",
       "      <td>Family_Case_ID</td>\n",
       "      <td>2</td>\n",
       "      <td>False</td>\n",
       "    </tr>\n",
       "    <tr>\n",
       "      <th>9</th>\n",
       "      <td>Medical_Tent</td>\n",
       "      <td>3</td>\n",
       "      <td>False</td>\n",
       "    </tr>\n",
       "    <tr>\n",
       "      <th>10</th>\n",
       "      <td>Patient_ID</td>\n",
       "      <td>4</td>\n",
       "      <td>False</td>\n",
       "    </tr>\n",
       "    <tr>\n",
       "      <th>11</th>\n",
       "      <td>Wife/Husband or siblings infected</td>\n",
       "      <td>5</td>\n",
       "      <td>False</td>\n",
       "    </tr>\n",
       "    <tr>\n",
       "      <th>12</th>\n",
       "      <td>City</td>\n",
       "      <td>6</td>\n",
       "      <td>False</td>\n",
       "    </tr>\n",
       "    <tr>\n",
       "      <th>13</th>\n",
       "      <td>Parents or children infected</td>\n",
       "      <td>7</td>\n",
       "      <td>False</td>\n",
       "    </tr>\n",
       "  </tbody>\n",
       "</table>\n",
       "</div>"
      ],
      "text/plain": [
       "                             features  rank    T/F\n",
       "0                            Severity     1   True\n",
       "1                       Birthday_year     1   True\n",
       "2             Medical_Expenses_Family     1   True\n",
       "3                              Gender     1   True\n",
       "4                   Ratio_Medical_Exp     1   True\n",
       "5                         Age_MeanAge     1   True\n",
       "6                    Ratio_gender_med     1   True\n",
       "7       Average_Severity_Gender_Ratio     1   True\n",
       "8                      Family_Case_ID     2  False\n",
       "9                        Medical_Tent     3  False\n",
       "10                         Patient_ID     4  False\n",
       "11  Wife/Husband or siblings infected     5  False\n",
       "12                               City     6  False\n",
       "13       Parents or children infected     7  False"
      ]
     },
     "execution_count": 148,
     "metadata": {},
     "output_type": "execute_result"
    }
   ],
   "source": [
    "feature_df = pd.DataFrame(X_train_Scaled.columns.tolist(), columns=['features'])\n",
    "feature_df['rank']=feat_selector.ranking_\n",
    "feature_df['T/F']=feat_selector.support_\n",
    "feature_df = feature_df.sort_values('rank', ascending=True).reset_index(drop=True)\n",
    "feature_df"
   ]
  },
  {
   "cell_type": "markdown",
   "metadata": {},
   "source": [
    "This feature reduction part wasn't used since it was found to reduce accuracy of our model."
   ]
  },
  {
   "cell_type": "markdown",
   "metadata": {},
   "source": [
    "<hr>\n",
    "<a class=\"anchor\" id=\"hypert\">\n",
    "\n",
    "## 6. Hyperparameter Tuning\n",
    "    \n",
    "</a>\n",
    "\n",
    "### RandomizedSearchCV"
   ]
  },
  {
   "cell_type": "code",
   "execution_count": 149,
   "metadata": {},
   "outputs": [],
   "source": [
    "X_final = X.copy()\n",
    "y_final = y.copy()\n",
    "\n",
    "final_scaler = RobustScaler().fit(X_final)\n",
    "X_train = final_scaler.transform(X_final)\n",
    "y_train = y_final.copy()"
   ]
  },
  {
   "cell_type": "code",
   "execution_count": 150,
   "metadata": {},
   "outputs": [
    {
     "name": "stdout",
     "output_type": "stream",
     "text": [
      "0.8139950062421972\n",
      "{'n_estimators': 80, 'learning_rate': 0.01}\n",
      "GradientBoostingClassifier(ccp_alpha=0.0, criterion='friedman_mse', init=None,\n",
      "                           learning_rate=0.01, loss='deviance', max_depth=3,\n",
      "                           max_features=None, max_leaf_nodes=None,\n",
      "                           min_impurity_decrease=0.0, min_impurity_split=None,\n",
      "                           min_samples_leaf=1, min_samples_split=2,\n",
      "                           min_weight_fraction_leaf=0.0, n_estimators=80,\n",
      "                           n_iter_no_change=None, presort='deprecated',\n",
      "                           random_state=None, subsample=1.0, tol=0.0001,\n",
      "                           validation_fraction=0.1, verbose=0,\n",
      "                           warm_start=False)\n"
     ]
    }
   ],
   "source": [
    "from sklearn.model_selection import RandomizedSearchCV\n",
    "\n",
    "n_estimators=list(range(50, 200, 10))\n",
    "learning_rate= [0.0001,0.001,0.01,1]\n",
    "\n",
    "classifier = GradientBoostingClassifier()\n",
    "\n",
    "param_dictionary = dict(n_estimators=n_estimators,\n",
    "                       learning_rate=learning_rate)\n",
    "\n",
    "\n",
    "rand = RandomizedSearchCV(classifier, param_dictionary, cv=10, scoring='accuracy', n_iter=200, random_state=random_state,\n",
    "                         n_jobs=-1)\n",
    "\n",
    "\n",
    "rand.fit(X_train, y_train)\n",
    "\n",
    "# examine the best model\n",
    "print(rand.best_score_)\n",
    "print(rand.best_params_)\n",
    "print(rand.best_estimator_)"
   ]
  },
  {
   "cell_type": "code",
   "execution_count": 151,
   "metadata": {},
   "outputs": [
    {
     "data": {
      "text/plain": [
       "{'n_estimators': 80, 'learning_rate': 0.01}"
      ]
     },
     "execution_count": 151,
     "metadata": {},
     "output_type": "execute_result"
    }
   ],
   "source": [
    "rand.best_params_"
   ]
  },
  {
   "cell_type": "code",
   "execution_count": 152,
   "metadata": {},
   "outputs": [
    {
     "data": {
      "text/plain": [
       "GradientBoostingClassifier(ccp_alpha=0.0, criterion='friedman_mse', init=None,\n",
       "                           learning_rate=0.01, loss='deviance', max_depth=3,\n",
       "                           max_features=None, max_leaf_nodes=None,\n",
       "                           min_impurity_decrease=0.0, min_impurity_split=None,\n",
       "                           min_samples_leaf=1, min_samples_split=2,\n",
       "                           min_weight_fraction_leaf=0.0, n_estimators=80,\n",
       "                           n_iter_no_change=None, presort='deprecated',\n",
       "                           random_state=None, subsample=1.0, tol=0.0001,\n",
       "                           validation_fraction=0.1, verbose=0,\n",
       "                           warm_start=False)"
      ]
     },
     "execution_count": 152,
     "metadata": {},
     "output_type": "execute_result"
    }
   ],
   "source": [
    "classifier = GradientBoostingClassifier(n_estimators=80,learning_rate=0.01)\n",
    "\n",
    "classifier.fit(X_train, y_train)"
   ]
  },
  {
   "cell_type": "code",
   "execution_count": 153,
   "metadata": {},
   "outputs": [
    {
     "data": {
      "text/plain": [
       "0.8285077951002228"
      ]
     },
     "execution_count": 153,
     "metadata": {},
     "output_type": "execute_result"
    }
   ],
   "source": [
    "classifier.score(X_train, y_train)"
   ]
  },
  {
   "cell_type": "markdown",
   "metadata": {},
   "source": [
    "<hr>\n",
    "<a class=\"anchor\" id=\"pred\">\n",
    "\n",
    "## 7. Prediction on Test_Set\n",
    "    \n",
    "</a>"
   ]
  },
  {
   "cell_type": "code",
   "execution_count": 50,
   "metadata": {},
   "outputs": [],
   "source": [
    "df_test = pd.read_csv('test.csv')"
   ]
  },
  {
   "cell_type": "code",
   "execution_count": 51,
   "metadata": {},
   "outputs": [],
   "source": [
    "#Changes made because column names are incorrect\n",
    "df_test['Parents or children infected'] = df_test['Parents or siblings infected']\n",
    "df_test = df_test.drop('Parents or siblings infected', axis=1)\n",
    "\n",
    "df_test['Wife/Husband or siblings infected'] = df_test['Wife/Husband or children infected']\n",
    "df_test = df_test.drop('Wife/Husband or children infected', axis=1)"
   ]
  },
  {
   "cell_type": "code",
   "execution_count": 52,
   "metadata": {},
   "outputs": [
    {
     "data": {
      "text/plain": [
       "X    311\n",
       "C     33\n",
       "B     18\n",
       "D     13\n",
       "E      9\n",
       "F      8\n",
       "A      7\n",
       "G      1\n",
       "Name: Medical_Tent, dtype: int64"
      ]
     },
     "execution_count": 52,
     "metadata": {},
     "output_type": "execute_result"
    }
   ],
   "source": [
    "df_test.Medical_Tent.fillna('NaN').value_counts()"
   ]
  },
  {
   "cell_type": "code",
   "execution_count": 53,
   "metadata": {},
   "outputs": [],
   "source": [
    "df_feat = df_test.copy()\n",
    "\n",
    "data_test_id = df_feat['Patient_ID']\n",
    "data_test_id = data_test_id.astype(int)\n",
    "\n",
    "#City removing two missing values\n",
    "df_feat = df_feat.dropna(subset=['City'])\n",
    "\n",
    "# Derive Gender from Name\n",
    "df_feat['Gender'] = gender_split(df_feat)\n",
    "\n",
    "#Alternative - Medical_Tent create Dummy Variables for each Tent\n",
    "df_feat['Medical_Tent'] = df_feat['Medical_Tent'].fillna('NaN')\n",
    "df_feat['Medical_Tent'] = df_feat['Medical_Tent'].replace(['A', 'B', 'C', 'D', 'E', 'F', 'G', 'T','NaN'],[1, 1, 1, 1, 1 ,1 ,1 ,1 , 0])\n",
    "\n",
    "#Birthday_year replace NaN's by KNN\n",
    "imp = KNNImputer()\n",
    "imp.fit(df_feat['Birthday_year'].values.reshape(-1, 1))\n",
    "df_feat['Birthday_year'] = imp.fit_transform(df_feat['Birthday_year'].values.reshape(-1, 1)).round(0).astype(int)\n",
    "\n",
    "#Categorical City attributes to dummy variables\n",
    "df_feat.City = df_feat.City.replace(['Albuquerque', 'Santa Fe', 'Taos'],[0, 1, 2])\n",
    "\n",
    "#Drop Name\n",
    "df_feat = df_feat.drop('Name',axis=1)\n",
    "\n",
    "\n",
    "#Medical_Expenses_Family Ratio\n",
    "df_feat['Ratio_Medical_Exp'] = df_feat.loc[:,'Medical_Expenses_Family']/df_feat.loc[:,'Medical_Expenses_Family'].mean()\n",
    "\n",
    "#Age/MeanAge Ratio\n",
    "df_feat['Age_MeanAge'] = df_feat.loc[:,'Birthday_year']/df_feat.loc[:,'Birthday_year'].mean()\n",
    "\n",
    "#Medical_Expenses_Family Gender Ratio\n",
    "rat = df_feat.groupby('Gender')['Medical_Expenses_Family'].transform('mean')\n",
    "df_feat = df_feat.assign(Ratio_gender_med=lambda x: x.Medical_Expenses_Family.div(rat))\n",
    "\n",
    "#Severity by Average Gender Ratio\n",
    "rat = df_feat.groupby('Gender')['Severity'].transform('mean')\n",
    "df_feat = df_feat.assign(Average_Severity_Gender_Ratio=lambda x: x.Severity.div(rat))"
   ]
  },
  {
   "cell_type": "code",
   "execution_count": 54,
   "metadata": {},
   "outputs": [],
   "source": [
    "df_feat_scaled = final_scaler.transform(df_feat)\n",
    "y_pred_test_int = classifier.predict(df_feat_scaled)"
   ]
  },
  {
   "cell_type": "code",
   "execution_count": 55,
   "metadata": {},
   "outputs": [],
   "source": [
    "predictedDF = pd.DataFrame(columns=['Patient_ID', 'Deceased'])\n",
    "\n",
    "predictedDF['Patient_ID'] = data_test_id\n",
    "predictedDF['Deceased'] = y_pred_test_int"
   ]
  },
  {
   "cell_type": "code",
   "execution_count": 56,
   "metadata": {},
   "outputs": [
    {
     "data": {
      "text/html": [
       "<div>\n",
       "<style scoped>\n",
       "    .dataframe tbody tr th:only-of-type {\n",
       "        vertical-align: middle;\n",
       "    }\n",
       "\n",
       "    .dataframe tbody tr th {\n",
       "        vertical-align: top;\n",
       "    }\n",
       "\n",
       "    .dataframe thead th {\n",
       "        text-align: right;\n",
       "    }\n",
       "</style>\n",
       "<table border=\"1\" class=\"dataframe\">\n",
       "  <thead>\n",
       "    <tr style=\"text-align: right;\">\n",
       "      <th></th>\n",
       "      <th>Patient_ID</th>\n",
       "      <th>Deceased</th>\n",
       "    </tr>\n",
       "  </thead>\n",
       "  <tbody>\n",
       "    <tr>\n",
       "      <th>0</th>\n",
       "      <td>901</td>\n",
       "      <td>1</td>\n",
       "    </tr>\n",
       "    <tr>\n",
       "      <th>1</th>\n",
       "      <td>902</td>\n",
       "      <td>1</td>\n",
       "    </tr>\n",
       "    <tr>\n",
       "      <th>2</th>\n",
       "      <td>903</td>\n",
       "      <td>1</td>\n",
       "    </tr>\n",
       "    <tr>\n",
       "      <th>3</th>\n",
       "      <td>904</td>\n",
       "      <td>1</td>\n",
       "    </tr>\n",
       "    <tr>\n",
       "      <th>4</th>\n",
       "      <td>905</td>\n",
       "      <td>1</td>\n",
       "    </tr>\n",
       "    <tr>\n",
       "      <th>...</th>\n",
       "      <td>...</td>\n",
       "      <td>...</td>\n",
       "    </tr>\n",
       "    <tr>\n",
       "      <th>395</th>\n",
       "      <td>1296</td>\n",
       "      <td>1</td>\n",
       "    </tr>\n",
       "    <tr>\n",
       "      <th>396</th>\n",
       "      <td>1297</td>\n",
       "      <td>1</td>\n",
       "    </tr>\n",
       "    <tr>\n",
       "      <th>397</th>\n",
       "      <td>1298</td>\n",
       "      <td>0</td>\n",
       "    </tr>\n",
       "    <tr>\n",
       "      <th>398</th>\n",
       "      <td>1299</td>\n",
       "      <td>1</td>\n",
       "    </tr>\n",
       "    <tr>\n",
       "      <th>399</th>\n",
       "      <td>1300</td>\n",
       "      <td>0</td>\n",
       "    </tr>\n",
       "  </tbody>\n",
       "</table>\n",
       "<p>400 rows × 2 columns</p>\n",
       "</div>"
      ],
      "text/plain": [
       "     Patient_ID  Deceased\n",
       "0           901         1\n",
       "1           902         1\n",
       "2           903         1\n",
       "3           904         1\n",
       "4           905         1\n",
       "..          ...       ...\n",
       "395        1296         1\n",
       "396        1297         1\n",
       "397        1298         0\n",
       "398        1299         1\n",
       "399        1300         0\n",
       "\n",
       "[400 rows x 2 columns]"
      ]
     },
     "execution_count": 56,
     "metadata": {},
     "output_type": "execute_result"
    }
   ],
   "source": [
    "predictedDF"
   ]
  },
  {
   "cell_type": "code",
   "execution_count": 57,
   "metadata": {},
   "outputs": [],
   "source": [
    "predictedDF.to_csv('m20190438_version4.csv', index=False,header=True)"
   ]
  }
 ],
 "metadata": {
  "kernelspec": {
   "display_name": "Python 3",
   "language": "python",
   "name": "python3"
  },
  "language_info": {
   "codemirror_mode": {
    "name": "ipython",
    "version": 3
   },
   "file_extension": ".py",
   "mimetype": "text/x-python",
   "name": "python",
   "nbconvert_exporter": "python",
   "pygments_lexer": "ipython3",
   "version": "3.8.5"
  }
 },
 "nbformat": 4,
 "nbformat_minor": 4
}
