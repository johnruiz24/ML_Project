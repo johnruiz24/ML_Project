{
 "cells": [
  {
   "cell_type": "markdown",
   "metadata": {},
   "source": [
    "# Machine Learning Project 2020-2021"
   ]
  },
  {
   "cell_type": "markdown",
   "metadata": {},
   "source": [
    "# Setup Environment\n",
    "Before running this notebook, the user needs to configure a separate conda environment in order to reproduce the results obtained. An environment.yml file is provided in the project repository with this objective. By creating a conda environment through the yml file, the user will be able to run the whole project without issues. Besides, the user also need to install an additional package from a personal github repository since it is not available in pypi nor in conda repositories.\n",
    "\n",
    "In order to create the environment the user needs to run the following commands in the anaconda prompt: **conda env create -f \\<path to environment.yml>**. Afterwards, the user needs to activate the created environment: **conda activate ml** and initialize the jupyter notebook: **jupyter notebook**."
   ]
  },
  {
   "cell_type": "code",
   "execution_count": 7,
   "metadata": {},
   "outputs": [],
   "source": [
    "import sys\n",
    "#!{sys.executable} -m pip install git+https://github.com/johnruiz24/ML_Project "
   ]
  },
  {
   "cell_type": "markdown",
   "metadata": {},
   "source": [
    "## 1 - Importing Packages"
   ]
  },
  {
   "cell_type": "code",
   "execution_count": 1,
   "metadata": {},
   "outputs": [],
   "source": [
    "import os\n",
    "import warnings\n",
    "import numpy as np\n",
    "import pandas as pd\n",
    "import seaborn as sns\n",
    "from datetime import datetime\n",
    "from datetime import date, timedelta\n",
    "import matplotlib.pyplot as plt\n",
    "#EDA Libraries\n",
    "import dtale\n",
    "import sweetviz as sv\n",
    "import pandas_profiling\n",
    "from pandas_profiling import ProfileReport\n",
    "#ML Libraries\n",
    "from sklearn.linear_model import LassoCV\n",
    "from sklearn.linear_model import RidgeClassifierCV\n",
    "from sklearn.feature_selection import RFE\n",
    "from sklearn.linear_model import LogisticRegression\n",
    "from sklearn.model_selection import train_test_split\n",
    "from sklearn.preprocessing import (Normalizer,\n",
    "                                   MinMaxScaler,\n",
    "                                   LabelEncoder,\n",
    "                                   RobustScaler,\n",
    "                                   StandardScaler,OneHotEncoder,OrdinalEncoder)\n",
    "from sklearn.linear_model import RidgeClassifier\n",
    "from sklearn.experimental import enable_iterative_imputer\n",
    "from sklearn.impute import IterativeImputer\n",
    "from sklearn.metrics import confusion_matrix\n",
    "from sklearn.metrics import accuracy_score\n",
    "from sklearn.metrics import precision_score\n",
    "from sklearn.metrics import recall_score\n",
    "from sklearn.metrics import f1_score\n",
    "from sklearn.metrics import classification_report, confusion_matrix\n",
    "from sklearn.metrics import r2_score, explained_variance_score, mean_absolute_error, mean_squared_error, median_absolute_error\n",
    "\n",
    "import sklearn.preprocessing as prep\n",
    "import sklearn.covariance as cov #Elliptic Envelop\n",
    "from scipy.stats import chi2\n",
    "\n",
    "%matplotlib inline\n",
    "warnings.filterwarnings('ignore')\n",
    "%config InlineBackend.figure_format = 'retina'"
   ]
  },
  {
   "cell_type": "markdown",
   "metadata": {},
   "source": [
    "# 2 - Data Import and integration"
   ]
  },
  {
   "cell_type": "code",
   "execution_count": 2,
   "metadata": {},
   "outputs": [],
   "source": [
    "train =pd.read_excel(os.path.join(os.getcwd(),'Train.xlsx'))"
   ]
  },
  {
   "cell_type": "code",
   "execution_count": 10,
   "metadata": {},
   "outputs": [],
   "source": [
    "#train"
   ]
  },
  {
   "cell_type": "code",
   "execution_count": 3,
   "metadata": {},
   "outputs": [],
   "source": [
    "test=pd.read_excel(os.path.join(os.getcwd(),'Test.xlsx'))"
   ]
  },
  {
   "cell_type": "markdown",
   "metadata": {},
   "source": [
    "# 3 - Exploring Data"
   ]
  },
  {
   "cell_type": "code",
   "execution_count": 3,
   "metadata": {},
   "outputs": [
    {
     "data": {
      "text/html": [
       "<div>\n",
       "<style scoped>\n",
       "    .dataframe tbody tr th:only-of-type {\n",
       "        vertical-align: middle;\n",
       "    }\n",
       "\n",
       "    .dataframe tbody tr th {\n",
       "        vertical-align: top;\n",
       "    }\n",
       "\n",
       "    .dataframe thead th {\n",
       "        text-align: right;\n",
       "    }\n",
       "</style>\n",
       "<table border=\"1\" class=\"dataframe\">\n",
       "  <thead>\n",
       "    <tr style=\"text-align: right;\">\n",
       "      <th></th>\n",
       "      <th>CITIZEN_ID</th>\n",
       "      <th>Name</th>\n",
       "      <th>Birthday</th>\n",
       "      <th>Native Continent</th>\n",
       "      <th>Marital Status</th>\n",
       "      <th>Lives with</th>\n",
       "      <th>Base Area</th>\n",
       "      <th>Education Level</th>\n",
       "      <th>Years of Education</th>\n",
       "      <th>Employment Sector</th>\n",
       "      <th>Role</th>\n",
       "      <th>Working Hours per week</th>\n",
       "      <th>Money Received</th>\n",
       "      <th>Ticket Price</th>\n",
       "      <th>Income</th>\n",
       "    </tr>\n",
       "  </thead>\n",
       "  <tbody>\n",
       "    <tr>\n",
       "      <th>0</th>\n",
       "      <td>12486</td>\n",
       "      <td>Mr. Adam Glover</td>\n",
       "      <td>July 1,2003</td>\n",
       "      <td>Europe</td>\n",
       "      <td>Married</td>\n",
       "      <td>Wife</td>\n",
       "      <td>Northbury</td>\n",
       "      <td>High School + PostGraduation</td>\n",
       "      <td>13</td>\n",
       "      <td>Private Sector - Services</td>\n",
       "      <td>Repair &amp; constructions</td>\n",
       "      <td>40</td>\n",
       "      <td>0</td>\n",
       "      <td>2273</td>\n",
       "      <td>1</td>\n",
       "    </tr>\n",
       "    <tr>\n",
       "      <th>1</th>\n",
       "      <td>12487</td>\n",
       "      <td>Mr. Cameron McDonald</td>\n",
       "      <td>January 25,2006</td>\n",
       "      <td>Europe</td>\n",
       "      <td>Married</td>\n",
       "      <td>Wife</td>\n",
       "      <td>Northbury</td>\n",
       "      <td>Professional School</td>\n",
       "      <td>12</td>\n",
       "      <td>Public Sector - Others</td>\n",
       "      <td>Repair &amp; constructions</td>\n",
       "      <td>40</td>\n",
       "      <td>0</td>\n",
       "      <td>0</td>\n",
       "      <td>1</td>\n",
       "    </tr>\n",
       "    <tr>\n",
       "      <th>2</th>\n",
       "      <td>12488</td>\n",
       "      <td>Mr. Keith Davidson</td>\n",
       "      <td>May 10,2009</td>\n",
       "      <td>Europe</td>\n",
       "      <td>Married</td>\n",
       "      <td>Wife</td>\n",
       "      <td>Northbury</td>\n",
       "      <td>Professional School</td>\n",
       "      <td>12</td>\n",
       "      <td>Private Sector - Services</td>\n",
       "      <td>Sales</td>\n",
       "      <td>46</td>\n",
       "      <td>0</td>\n",
       "      <td>2321</td>\n",
       "      <td>1</td>\n",
       "    </tr>\n",
       "    <tr>\n",
       "      <th>3</th>\n",
       "      <td>12489</td>\n",
       "      <td>Mr. Alexander Gill</td>\n",
       "      <td>March 25,1985</td>\n",
       "      <td>Europe</td>\n",
       "      <td>Married</td>\n",
       "      <td>Wife</td>\n",
       "      <td>Northbury</td>\n",
       "      <td>High School - 2nd Cycle</td>\n",
       "      <td>11</td>\n",
       "      <td>Private Sector - Services</td>\n",
       "      <td>Security</td>\n",
       "      <td>37</td>\n",
       "      <td>5395</td>\n",
       "      <td>0</td>\n",
       "      <td>1</td>\n",
       "    </tr>\n",
       "    <tr>\n",
       "      <th>4</th>\n",
       "      <td>12490</td>\n",
       "      <td>Mr. Neil Piper</td>\n",
       "      <td>May 29,2015</td>\n",
       "      <td>Europe</td>\n",
       "      <td>Single</td>\n",
       "      <td>Other Family</td>\n",
       "      <td>Northbury</td>\n",
       "      <td>PhD</td>\n",
       "      <td>21</td>\n",
       "      <td>Self-Employed (Individual)</td>\n",
       "      <td>Professor</td>\n",
       "      <td>45</td>\n",
       "      <td>0</td>\n",
       "      <td>0</td>\n",
       "      <td>1</td>\n",
       "    </tr>\n",
       "  </tbody>\n",
       "</table>\n",
       "</div>"
      ],
      "text/plain": [
       "   CITIZEN_ID                  Name          Birthday Native Continent  \\\n",
       "0       12486       Mr. Adam Glover       July 1,2003           Europe   \n",
       "1       12487  Mr. Cameron McDonald   January 25,2006           Europe   \n",
       "2       12488    Mr. Keith Davidson       May 10,2009           Europe   \n",
       "3       12489    Mr. Alexander Gill     March 25,1985           Europe   \n",
       "4       12490        Mr. Neil Piper       May 29,2015           Europe   \n",
       "\n",
       "  Marital Status    Lives with  Base Area               Education Level  \\\n",
       "0        Married          Wife  Northbury  High School + PostGraduation   \n",
       "1        Married          Wife  Northbury           Professional School   \n",
       "2        Married          Wife  Northbury           Professional School   \n",
       "3        Married          Wife  Northbury       High School - 2nd Cycle   \n",
       "4         Single  Other Family  Northbury                           PhD   \n",
       "\n",
       "   Years of Education           Employment Sector                    Role  \\\n",
       "0                  13  Private Sector - Services   Repair & constructions   \n",
       "1                  12      Public Sector - Others  Repair & constructions   \n",
       "2                  12  Private Sector - Services                    Sales   \n",
       "3                  11  Private Sector - Services                 Security   \n",
       "4                  21  Self-Employed (Individual)               Professor   \n",
       "\n",
       "   Working Hours per week  Money Received  Ticket Price  Income  \n",
       "0                      40               0          2273       1  \n",
       "1                      40               0             0       1  \n",
       "2                      46               0          2321       1  \n",
       "3                      37            5395             0       1  \n",
       "4                      45               0             0       1  "
      ]
     },
     "execution_count": 3,
     "metadata": {},
     "output_type": "execute_result"
    }
   ],
   "source": [
    "train.head()"
   ]
  },
  {
   "cell_type": "code",
   "execution_count": 146,
   "metadata": {},
   "outputs": [
    {
     "data": {
      "text/html": [
       "<div>\n",
       "<style scoped>\n",
       "    .dataframe tbody tr th:only-of-type {\n",
       "        vertical-align: middle;\n",
       "    }\n",
       "\n",
       "    .dataframe tbody tr th {\n",
       "        vertical-align: top;\n",
       "    }\n",
       "\n",
       "    .dataframe thead th {\n",
       "        text-align: right;\n",
       "    }\n",
       "</style>\n",
       "<table border=\"1\" class=\"dataframe\">\n",
       "  <thead>\n",
       "    <tr style=\"text-align: right;\">\n",
       "      <th></th>\n",
       "      <th>CITIZEN_ID</th>\n",
       "      <th>Years of Education</th>\n",
       "      <th>Working Hours per week</th>\n",
       "      <th>Money Received</th>\n",
       "      <th>Ticket Price</th>\n",
       "      <th>Income</th>\n",
       "    </tr>\n",
       "  </thead>\n",
       "  <tbody>\n",
       "    <tr>\n",
       "      <th>count</th>\n",
       "      <td>22400.000000</td>\n",
       "      <td>22400.000000</td>\n",
       "      <td>22400.000000</td>\n",
       "      <td>22400.000000</td>\n",
       "      <td>22400.000000</td>\n",
       "      <td>22400.000000</td>\n",
       "    </tr>\n",
       "    <tr>\n",
       "      <th>mean</th>\n",
       "      <td>23685.500000</td>\n",
       "      <td>13.173884</td>\n",
       "      <td>40.483795</td>\n",
       "      <td>1324.915357</td>\n",
       "      <td>109.145313</td>\n",
       "      <td>0.237098</td>\n",
       "    </tr>\n",
       "    <tr>\n",
       "      <th>std</th>\n",
       "      <td>6466.467351</td>\n",
       "      <td>2.512451</td>\n",
       "      <td>12.370921</td>\n",
       "      <td>9227.771813</td>\n",
       "      <td>500.208904</td>\n",
       "      <td>0.425313</td>\n",
       "    </tr>\n",
       "    <tr>\n",
       "      <th>min</th>\n",
       "      <td>12486.000000</td>\n",
       "      <td>2.000000</td>\n",
       "      <td>1.000000</td>\n",
       "      <td>0.000000</td>\n",
       "      <td>0.000000</td>\n",
       "      <td>0.000000</td>\n",
       "    </tr>\n",
       "    <tr>\n",
       "      <th>25%</th>\n",
       "      <td>18085.750000</td>\n",
       "      <td>12.000000</td>\n",
       "      <td>40.000000</td>\n",
       "      <td>0.000000</td>\n",
       "      <td>0.000000</td>\n",
       "      <td>0.000000</td>\n",
       "    </tr>\n",
       "    <tr>\n",
       "      <th>50%</th>\n",
       "      <td>23685.500000</td>\n",
       "      <td>13.000000</td>\n",
       "      <td>40.000000</td>\n",
       "      <td>0.000000</td>\n",
       "      <td>0.000000</td>\n",
       "      <td>0.000000</td>\n",
       "    </tr>\n",
       "    <tr>\n",
       "      <th>75%</th>\n",
       "      <td>29285.250000</td>\n",
       "      <td>15.000000</td>\n",
       "      <td>45.000000</td>\n",
       "      <td>0.000000</td>\n",
       "      <td>0.000000</td>\n",
       "      <td>0.000000</td>\n",
       "    </tr>\n",
       "    <tr>\n",
       "      <th>max</th>\n",
       "      <td>34885.000000</td>\n",
       "      <td>21.000000</td>\n",
       "      <td>99.000000</td>\n",
       "      <td>122999.000000</td>\n",
       "      <td>5358.000000</td>\n",
       "      <td>1.000000</td>\n",
       "    </tr>\n",
       "  </tbody>\n",
       "</table>\n",
       "</div>"
      ],
      "text/plain": [
       "         CITIZEN_ID  Years of Education  Working Hours per week  \\\n",
       "count  22400.000000        22400.000000            22400.000000   \n",
       "mean   23685.500000           13.173884               40.483795   \n",
       "std     6466.467351            2.512451               12.370921   \n",
       "min    12486.000000            2.000000                1.000000   \n",
       "25%    18085.750000           12.000000               40.000000   \n",
       "50%    23685.500000           13.000000               40.000000   \n",
       "75%    29285.250000           15.000000               45.000000   \n",
       "max    34885.000000           21.000000               99.000000   \n",
       "\n",
       "       Money Received  Ticket Price        Income  \n",
       "count    22400.000000  22400.000000  22400.000000  \n",
       "mean      1324.915357    109.145313      0.237098  \n",
       "std       9227.771813    500.208904      0.425313  \n",
       "min          0.000000      0.000000      0.000000  \n",
       "25%          0.000000      0.000000      0.000000  \n",
       "50%          0.000000      0.000000      0.000000  \n",
       "75%          0.000000      0.000000      0.000000  \n",
       "max     122999.000000   5358.000000      1.000000  "
      ]
     },
     "execution_count": 146,
     "metadata": {},
     "output_type": "execute_result"
    }
   ],
   "source": [
    "train.describe()"
   ]
  },
  {
   "cell_type": "code",
   "execution_count": 13,
   "metadata": {},
   "outputs": [
    {
     "data": {
      "text/plain": [
       "(22400, 15)"
      ]
     },
     "execution_count": 13,
     "metadata": {},
     "output_type": "execute_result"
    }
   ],
   "source": [
    "#Dimension of the training dataset\n",
    "train.shape"
   ]
  },
  {
   "cell_type": "code",
   "execution_count": 14,
   "metadata": {},
   "outputs": [
    {
     "data": {
      "text/plain": [
       "(10100, 14)"
      ]
     },
     "execution_count": 14,
     "metadata": {},
     "output_type": "execute_result"
    }
   ],
   "source": [
    "#Dimension of the testing data\n",
    "test.shape"
   ]
  },
  {
   "cell_type": "code",
   "execution_count": 15,
   "metadata": {},
   "outputs": [
    {
     "name": "stdout",
     "output_type": "stream",
     "text": [
      "<class 'pandas.core.frame.DataFrame'>\n",
      "RangeIndex: 22400 entries, 0 to 22399\n",
      "Data columns (total 15 columns):\n",
      " #   Column                  Non-Null Count  Dtype \n",
      "---  ------                  --------------  ----- \n",
      " 0   CITIZEN_ID              22400 non-null  int64 \n",
      " 1   Name                    22400 non-null  object\n",
      " 2   Birthday                22400 non-null  object\n",
      " 3   Native Continent        22400 non-null  object\n",
      " 4   Marital Status          22400 non-null  object\n",
      " 5   Lives with              22400 non-null  object\n",
      " 6   Base Area               22400 non-null  object\n",
      " 7   Education Level         22400 non-null  object\n",
      " 8   Years of Education      22400 non-null  int64 \n",
      " 9   Employment Sector       22400 non-null  object\n",
      " 10  Role                    22400 non-null  object\n",
      " 11  Working Hours per week  22400 non-null  int64 \n",
      " 12  Money Received          22400 non-null  int64 \n",
      " 13  Ticket Price            22400 non-null  int64 \n",
      " 14  Income                  22400 non-null  int64 \n",
      "dtypes: int64(6), object(9)\n",
      "memory usage: 2.6+ MB\n"
     ]
    }
   ],
   "source": [
    "#Data types for the train dataset \n",
    "train.info(verbose=True)"
   ]
  },
  {
   "cell_type": "code",
   "execution_count": 16,
   "metadata": {},
   "outputs": [
    {
     "name": "stdout",
     "output_type": "stream",
     "text": [
      "<class 'pandas.core.frame.DataFrame'>\n",
      "RangeIndex: 10100 entries, 0 to 10099\n",
      "Data columns (total 14 columns):\n",
      " #   Column                  Non-Null Count  Dtype \n",
      "---  ------                  --------------  ----- \n",
      " 0   CITIZEN_ID              10100 non-null  int64 \n",
      " 1   Name                    10100 non-null  object\n",
      " 2   Birthday                10100 non-null  object\n",
      " 3   Native Continent        10100 non-null  object\n",
      " 4   Marital Status          10100 non-null  object\n",
      " 5   Lives with              10100 non-null  object\n",
      " 6   Base Area               10100 non-null  object\n",
      " 7   Education Level         10100 non-null  object\n",
      " 8   Years of Education      10100 non-null  int64 \n",
      " 9   Employment Sector       10100 non-null  object\n",
      " 10  Role                    10100 non-null  object\n",
      " 11  Working Hours per week  10100 non-null  int64 \n",
      " 12  Money Received          10100 non-null  int64 \n",
      " 13  Ticket Price            10100 non-null  int64 \n",
      "dtypes: int64(5), object(9)\n",
      "memory usage: 1.1+ MB\n"
     ]
    }
   ],
   "source": [
    "#Data types for the testing dataset \n",
    "test.info(verbose=True)"
   ]
  },
  {
   "cell_type": "code",
   "execution_count": 17,
   "metadata": {},
   "outputs": [
    {
     "data": {
      "text/plain": [
       "False"
      ]
     },
     "execution_count": 17,
     "metadata": {},
     "output_type": "execute_result"
    }
   ],
   "source": [
    "#Check duplicates\n",
    "any(train.duplicated())"
   ]
  },
  {
   "cell_type": "code",
   "execution_count": 18,
   "metadata": {},
   "outputs": [
    {
     "data": {
      "text/plain": [
       "False"
      ]
     },
     "execution_count": 18,
     "metadata": {},
     "output_type": "execute_result"
    }
   ],
   "source": [
    "#Check duplicates\n",
    "any(test.duplicated())"
   ]
  },
  {
   "cell_type": "code",
   "execution_count": 6,
   "metadata": {},
   "outputs": [],
   "source": [
    "# after a first inspection of the train data excel file, we found out that some columns are the following string: '?' so bellow we check the quantity of '?' string and what columns have them. \n",
    "def checkdf_character(df,char): \n",
    "    for i in range(len(df.columns)):\n",
    "        #Printing the column names, number of rows & percentage of rows from the dataset\n",
    "        #Further details will be printed in the next lines through the utilization of EDA tools\n",
    "        size=len(df.loc[df.iloc[:,i].astype(str).str.startswith('?')])\n",
    "        if size>0:\n",
    "            print('------------------------------------------')\n",
    "            print('Column: {}{}Number of Rows: {}{}Percentage: {}%'.format(df.columns[i],'\\n',size,'\\n',round(size/len(df)*100,2)))"
   ]
  },
  {
   "cell_type": "code",
   "execution_count": 20,
   "metadata": {},
   "outputs": [
    {
     "name": "stdout",
     "output_type": "stream",
     "text": [
      "------------------------------------------\n",
      "Column: Base Area\n",
      "Number of Rows: 395\n",
      "Percentage: 1.76%\n",
      "------------------------------------------\n",
      "Column: Employment Sector\n",
      "Number of Rows: 1264\n",
      "Percentage: 5.64%\n",
      "------------------------------------------\n",
      "Column: Role\n",
      "Number of Rows: 1271\n",
      "Percentage: 5.67%\n"
     ]
    }
   ],
   "source": [
    "#Data inspection shows that the train dataset has rows with question mark '?' character\n",
    "checkdf_character(train,'?')"
   ]
  },
  {
   "cell_type": "code",
   "execution_count": 21,
   "metadata": {},
   "outputs": [
    {
     "name": "stdout",
     "output_type": "stream",
     "text": [
      "------------------------------------------\n",
      "Column: Base Area\n",
      "Number of Rows: 187\n",
      "Percentage: 1.85%\n",
      "------------------------------------------\n",
      "Column: Employment Sector\n",
      "Number of Rows: 570\n",
      "Percentage: 5.64%\n",
      "------------------------------------------\n",
      "Column: Role\n",
      "Number of Rows: 570\n",
      "Percentage: 5.64%\n"
     ]
    }
   ],
   "source": [
    "#Data inspection shows that the test dataset has rows with question mark '?' character\n",
    "checkdf_character(test,'?')"
   ]
  },
  {
   "cell_type": "code",
   "execution_count": 22,
   "metadata": {},
   "outputs": [
    {
     "data": {
      "text/plain": [
       "0    22400\n",
       "dtype: int64"
      ]
     },
     "execution_count": 22,
     "metadata": {},
     "output_type": "execute_result"
    }
   ],
   "source": [
    "#Frequencies of number of missing values across rows\n",
    "train.isna().apply(lambda x:sum(x), axis=1).value_counts().sort_index()"
   ]
  },
  {
   "cell_type": "code",
   "execution_count": 23,
   "metadata": {},
   "outputs": [
    {
     "data": {
      "text/plain": [
       "0    10100\n",
       "dtype: int64"
      ]
     },
     "execution_count": 23,
     "metadata": {},
     "output_type": "execute_result"
    }
   ],
   "source": [
    "#Frequencies of number of missing values across rows\n",
    "test.isna().apply(lambda x:sum(x), axis=1).value_counts().sort_index()"
   ]
  },
  {
   "cell_type": "markdown",
   "metadata": {},
   "source": [
    "- Identify the outliers before going to the data preparation ? "
   ]
  },
  {
   "cell_type": "code",
   "execution_count": 24,
   "metadata": {},
   "outputs": [],
   "source": [
    "#dtale.show(train)"
   ]
  },
  {
   "cell_type": "markdown",
   "metadata": {},
   "source": [
    "# 4 - Modify the Data / Data Preparation "
   ]
  },
  {
   "cell_type": "markdown",
   "metadata": {},
   "source": [
    "# 4.1 Creating two new features from existing variables."
   ]
  },
  {
   "cell_type": "markdown",
   "metadata": {},
   "source": [
    "### 4.1.1 - Creating Gender from the variable Name, 0 for male and 1 for female."
   ]
  },
  {
   "cell_type": "code",
   "execution_count": 4,
   "metadata": {},
   "outputs": [],
   "source": [
    "train_upd = train.copy()"
   ]
  },
  {
   "cell_type": "code",
   "execution_count": 7,
   "metadata": {},
   "outputs": [
    {
     "name": "stdout",
     "output_type": "stream",
     "text": [
      "------------------------------------------\n",
      "Column: Base Area\n",
      "Number of Rows: 395\n",
      "Percentage: 1.76%\n",
      "------------------------------------------\n",
      "Column: Employment Sector\n",
      "Number of Rows: 1264\n",
      "Percentage: 5.64%\n",
      "------------------------------------------\n",
      "Column: Role\n",
      "Number of Rows: 1271\n",
      "Percentage: 5.67%\n"
     ]
    }
   ],
   "source": [
    "checkdf_character(train_upd,'?')"
   ]
  },
  {
   "cell_type": "code",
   "execution_count": 8,
   "metadata": {},
   "outputs": [],
   "source": [
    "train_upd.insert(2,'Gender',train_upd['Name'].str.slice(0,4).str.replace('.','').str.replace(' ',''))"
   ]
  },
  {
   "cell_type": "code",
   "execution_count": 9,
   "metadata": {},
   "outputs": [],
   "source": [
    "train_upd['Gender']=train_upd['Gender'].apply(lambda i: 0 if i=='Mr' else 1)"
   ]
  },
  {
   "cell_type": "code",
   "execution_count": 10,
   "metadata": {},
   "outputs": [],
   "source": [
    "train_upd.drop('Name',axis=1,inplace=True)"
   ]
  },
  {
   "cell_type": "code",
   "execution_count": 11,
   "metadata": {},
   "outputs": [
    {
     "data": {
      "text/plain": [
       "array([0, 1], dtype=int64)"
      ]
     },
     "execution_count": 11,
     "metadata": {},
     "output_type": "execute_result"
    }
   ],
   "source": [
    "train_upd['Gender'].unique()"
   ]
  },
  {
   "cell_type": "markdown",
   "metadata": {},
   "source": [
    "### 4.1.2 - Creating Age from the variable Birthday"
   ]
  },
  {
   "cell_type": "code",
   "execution_count": 12,
   "metadata": {},
   "outputs": [],
   "source": [
    "train_upd.insert(4,'Age',pd.Series([]))\n",
    "for i,j in enumerate(list(train_upd['Birthday'].values)):\n",
    "    try:\n",
    "        train_upd['Age'][i]=np.round((datetime.now()+timedelta(days=10228)-datetime.strptime(j.replace(' ',''),'%B%d,%Y'))/timedelta(days=365.2425))\n",
    "    except ValueError:\n",
    "        train_upd['Age'][i]=np.round((datetime.now()+timedelta(days=10228)-datetime.strptime(j.replace(' ','').replace('9','8'),'%B%d,%Y'))/timedelta(days=365.2425))"
   ]
  },
  {
   "cell_type": "code",
   "execution_count": 13,
   "metadata": {},
   "outputs": [],
   "source": [
    "train_upd['Age']=train_upd['Age'].astype('uint8')"
   ]
  },
  {
   "cell_type": "code",
   "execution_count": 14,
   "metadata": {},
   "outputs": [],
   "source": [
    "train_upd.drop('Birthday',axis=1,inplace=True)"
   ]
  },
  {
   "cell_type": "code",
   "execution_count": 15,
   "metadata": {},
   "outputs": [
    {
     "data": {
      "text/html": [
       "<div>\n",
       "<style scoped>\n",
       "    .dataframe tbody tr th:only-of-type {\n",
       "        vertical-align: middle;\n",
       "    }\n",
       "\n",
       "    .dataframe tbody tr th {\n",
       "        vertical-align: top;\n",
       "    }\n",
       "\n",
       "    .dataframe thead th {\n",
       "        text-align: right;\n",
       "    }\n",
       "</style>\n",
       "<table border=\"1\" class=\"dataframe\">\n",
       "  <thead>\n",
       "    <tr style=\"text-align: right;\">\n",
       "      <th></th>\n",
       "      <th>CITIZEN_ID</th>\n",
       "      <th>Gender</th>\n",
       "      <th>Native Continent</th>\n",
       "      <th>Age</th>\n",
       "      <th>Marital Status</th>\n",
       "      <th>Lives with</th>\n",
       "      <th>Base Area</th>\n",
       "      <th>Education Level</th>\n",
       "      <th>Years of Education</th>\n",
       "      <th>Employment Sector</th>\n",
       "      <th>Role</th>\n",
       "      <th>Working Hours per week</th>\n",
       "      <th>Money Received</th>\n",
       "      <th>Ticket Price</th>\n",
       "      <th>Income</th>\n",
       "    </tr>\n",
       "  </thead>\n",
       "  <tbody>\n",
       "    <tr>\n",
       "      <th>0</th>\n",
       "      <td>12486</td>\n",
       "      <td>0</td>\n",
       "      <td>Europe</td>\n",
       "      <td>45</td>\n",
       "      <td>Married</td>\n",
       "      <td>Wife</td>\n",
       "      <td>Northbury</td>\n",
       "      <td>High School + PostGraduation</td>\n",
       "      <td>13</td>\n",
       "      <td>Private Sector - Services</td>\n",
       "      <td>Repair &amp; constructions</td>\n",
       "      <td>40</td>\n",
       "      <td>0</td>\n",
       "      <td>2273</td>\n",
       "      <td>1</td>\n",
       "    </tr>\n",
       "    <tr>\n",
       "      <th>1</th>\n",
       "      <td>12487</td>\n",
       "      <td>0</td>\n",
       "      <td>Europe</td>\n",
       "      <td>43</td>\n",
       "      <td>Married</td>\n",
       "      <td>Wife</td>\n",
       "      <td>Northbury</td>\n",
       "      <td>Professional School</td>\n",
       "      <td>12</td>\n",
       "      <td>Public Sector - Others</td>\n",
       "      <td>Repair &amp; constructions</td>\n",
       "      <td>40</td>\n",
       "      <td>0</td>\n",
       "      <td>0</td>\n",
       "      <td>1</td>\n",
       "    </tr>\n",
       "    <tr>\n",
       "      <th>2</th>\n",
       "      <td>12488</td>\n",
       "      <td>0</td>\n",
       "      <td>Europe</td>\n",
       "      <td>40</td>\n",
       "      <td>Married</td>\n",
       "      <td>Wife</td>\n",
       "      <td>Northbury</td>\n",
       "      <td>Professional School</td>\n",
       "      <td>12</td>\n",
       "      <td>Private Sector - Services</td>\n",
       "      <td>Sales</td>\n",
       "      <td>46</td>\n",
       "      <td>0</td>\n",
       "      <td>2321</td>\n",
       "      <td>1</td>\n",
       "    </tr>\n",
       "    <tr>\n",
       "      <th>3</th>\n",
       "      <td>12489</td>\n",
       "      <td>0</td>\n",
       "      <td>Europe</td>\n",
       "      <td>64</td>\n",
       "      <td>Married</td>\n",
       "      <td>Wife</td>\n",
       "      <td>Northbury</td>\n",
       "      <td>High School - 2nd Cycle</td>\n",
       "      <td>11</td>\n",
       "      <td>Private Sector - Services</td>\n",
       "      <td>Security</td>\n",
       "      <td>37</td>\n",
       "      <td>5395</td>\n",
       "      <td>0</td>\n",
       "      <td>1</td>\n",
       "    </tr>\n",
       "    <tr>\n",
       "      <th>4</th>\n",
       "      <td>12490</td>\n",
       "      <td>0</td>\n",
       "      <td>Europe</td>\n",
       "      <td>34</td>\n",
       "      <td>Single</td>\n",
       "      <td>Other Family</td>\n",
       "      <td>Northbury</td>\n",
       "      <td>PhD</td>\n",
       "      <td>21</td>\n",
       "      <td>Self-Employed (Individual)</td>\n",
       "      <td>Professor</td>\n",
       "      <td>45</td>\n",
       "      <td>0</td>\n",
       "      <td>0</td>\n",
       "      <td>1</td>\n",
       "    </tr>\n",
       "    <tr>\n",
       "      <th>...</th>\n",
       "      <td>...</td>\n",
       "      <td>...</td>\n",
       "      <td>...</td>\n",
       "      <td>...</td>\n",
       "      <td>...</td>\n",
       "      <td>...</td>\n",
       "      <td>...</td>\n",
       "      <td>...</td>\n",
       "      <td>...</td>\n",
       "      <td>...</td>\n",
       "      <td>...</td>\n",
       "      <td>...</td>\n",
       "      <td>...</td>\n",
       "      <td>...</td>\n",
       "      <td>...</td>\n",
       "    </tr>\n",
       "    <tr>\n",
       "      <th>22395</th>\n",
       "      <td>34881</td>\n",
       "      <td>1</td>\n",
       "      <td>Europe</td>\n",
       "      <td>26</td>\n",
       "      <td>Divorced</td>\n",
       "      <td>Children</td>\n",
       "      <td>Northbury</td>\n",
       "      <td>Professional School</td>\n",
       "      <td>12</td>\n",
       "      <td>Private Sector - Services</td>\n",
       "      <td>Cleaners &amp; Handlers</td>\n",
       "      <td>40</td>\n",
       "      <td>0</td>\n",
       "      <td>0</td>\n",
       "      <td>0</td>\n",
       "    </tr>\n",
       "    <tr>\n",
       "      <th>22396</th>\n",
       "      <td>34882</td>\n",
       "      <td>0</td>\n",
       "      <td>Europe</td>\n",
       "      <td>24</td>\n",
       "      <td>Single</td>\n",
       "      <td>Children</td>\n",
       "      <td>Northbury</td>\n",
       "      <td>Professional School</td>\n",
       "      <td>12</td>\n",
       "      <td>Private Sector - Services</td>\n",
       "      <td>Other services</td>\n",
       "      <td>35</td>\n",
       "      <td>0</td>\n",
       "      <td>0</td>\n",
       "      <td>0</td>\n",
       "    </tr>\n",
       "    <tr>\n",
       "      <th>22397</th>\n",
       "      <td>34883</td>\n",
       "      <td>1</td>\n",
       "      <td>Europe</td>\n",
       "      <td>26</td>\n",
       "      <td>Single</td>\n",
       "      <td>Other Family</td>\n",
       "      <td>Northbury</td>\n",
       "      <td>Masters</td>\n",
       "      <td>17</td>\n",
       "      <td>Public Sector - Others</td>\n",
       "      <td>Professor</td>\n",
       "      <td>40</td>\n",
       "      <td>2674</td>\n",
       "      <td>0</td>\n",
       "      <td>0</td>\n",
       "    </tr>\n",
       "    <tr>\n",
       "      <th>22398</th>\n",
       "      <td>34884</td>\n",
       "      <td>0</td>\n",
       "      <td>Europe</td>\n",
       "      <td>37</td>\n",
       "      <td>Single</td>\n",
       "      <td>Other Family</td>\n",
       "      <td>Northbury</td>\n",
       "      <td>Bachelors + PostGraduation</td>\n",
       "      <td>16</td>\n",
       "      <td>Private Sector - Services</td>\n",
       "      <td>Repair &amp; constructions</td>\n",
       "      <td>90</td>\n",
       "      <td>0</td>\n",
       "      <td>0</td>\n",
       "      <td>1</td>\n",
       "    </tr>\n",
       "    <tr>\n",
       "      <th>22399</th>\n",
       "      <td>34885</td>\n",
       "      <td>0</td>\n",
       "      <td>Asia</td>\n",
       "      <td>22</td>\n",
       "      <td>Single</td>\n",
       "      <td>Children</td>\n",
       "      <td>Northbury</td>\n",
       "      <td>High School + PostGraduation</td>\n",
       "      <td>13</td>\n",
       "      <td>Private Sector - Services</td>\n",
       "      <td>Transports</td>\n",
       "      <td>40</td>\n",
       "      <td>0</td>\n",
       "      <td>0</td>\n",
       "      <td>0</td>\n",
       "    </tr>\n",
       "  </tbody>\n",
       "</table>\n",
       "<p>22400 rows × 15 columns</p>\n",
       "</div>"
      ],
      "text/plain": [
       "       CITIZEN_ID  Gender Native Continent  Age Marital Status    Lives with  \\\n",
       "0           12486       0           Europe   45        Married          Wife   \n",
       "1           12487       0           Europe   43        Married          Wife   \n",
       "2           12488       0           Europe   40        Married          Wife   \n",
       "3           12489       0           Europe   64        Married          Wife   \n",
       "4           12490       0           Europe   34         Single  Other Family   \n",
       "...           ...     ...              ...  ...            ...           ...   \n",
       "22395       34881       1           Europe   26       Divorced      Children   \n",
       "22396       34882       0           Europe   24         Single      Children   \n",
       "22397       34883       1           Europe   26         Single  Other Family   \n",
       "22398       34884       0           Europe   37         Single  Other Family   \n",
       "22399       34885       0             Asia   22         Single      Children   \n",
       "\n",
       "       Base Area               Education Level  Years of Education  \\\n",
       "0      Northbury  High School + PostGraduation                  13   \n",
       "1      Northbury           Professional School                  12   \n",
       "2      Northbury           Professional School                  12   \n",
       "3      Northbury       High School - 2nd Cycle                  11   \n",
       "4      Northbury                           PhD                  21   \n",
       "...          ...                           ...                 ...   \n",
       "22395  Northbury           Professional School                  12   \n",
       "22396  Northbury           Professional School                  12   \n",
       "22397  Northbury                       Masters                  17   \n",
       "22398  Northbury    Bachelors + PostGraduation                  16   \n",
       "22399  Northbury  High School + PostGraduation                  13   \n",
       "\n",
       "                Employment Sector                    Role  \\\n",
       "0      Private Sector - Services   Repair & constructions   \n",
       "1          Public Sector - Others  Repair & constructions   \n",
       "2      Private Sector - Services                    Sales   \n",
       "3      Private Sector - Services                 Security   \n",
       "4      Self-Employed (Individual)               Professor   \n",
       "...                           ...                     ...   \n",
       "22395  Private Sector - Services      Cleaners & Handlers   \n",
       "22396  Private Sector - Services           Other services   \n",
       "22397      Public Sector - Others               Professor   \n",
       "22398  Private Sector - Services   Repair & constructions   \n",
       "22399  Private Sector - Services               Transports   \n",
       "\n",
       "       Working Hours per week  Money Received  Ticket Price  Income  \n",
       "0                          40               0          2273       1  \n",
       "1                          40               0             0       1  \n",
       "2                          46               0          2321       1  \n",
       "3                          37            5395             0       1  \n",
       "4                          45               0             0       1  \n",
       "...                       ...             ...           ...     ...  \n",
       "22395                      40               0             0       0  \n",
       "22396                      35               0             0       0  \n",
       "22397                      40            2674             0       0  \n",
       "22398                      90               0             0       1  \n",
       "22399                      40               0             0       0  \n",
       "\n",
       "[22400 rows x 15 columns]"
      ]
     },
     "execution_count": 15,
     "metadata": {},
     "output_type": "execute_result"
    }
   ],
   "source": [
    "train_upd"
   ]
  },
  {
   "cell_type": "markdown",
   "metadata": {},
   "source": [
    "# 4.2 - Filling the values with '?'"
   ]
  },
  {
   "cell_type": "code",
   "execution_count": 16,
   "metadata": {},
   "outputs": [
    {
     "data": {
      "text/plain": [
       "CITIZEN_ID                0\n",
       "Gender                    0\n",
       "Native Continent          0\n",
       "Age                       0\n",
       "Marital Status            0\n",
       "Lives with                0\n",
       "Base Area                 0\n",
       "Education Level           0\n",
       "Years of Education        0\n",
       "Employment Sector         0\n",
       "Role                      0\n",
       "Working Hours per week    0\n",
       "Money Received            0\n",
       "Ticket Price              0\n",
       "Income                    0\n",
       "dtype: int64"
      ]
     },
     "execution_count": 16,
     "metadata": {},
     "output_type": "execute_result"
    }
   ],
   "source": [
    "# since we are using IterativeImputer() to fill the '?' string values we need to change them to NaN's so the algorigthm works.\n",
    "for i in [8,11,12]:\n",
    "    aIndex=np.array(train_upd[train_upd.iloc[:,i].astype(str).str.startswith('?')].iloc[:,i].index)\n",
    "    for j in aIndex:\n",
    "        train_upd.iloc[j,i]=np.nan\n",
    "\n",
    "train_upd.isna().sum()"
   ]
  },
  {
   "cell_type": "code",
   "execution_count": 19,
   "metadata": {},
   "outputs": [
    {
     "data": {
      "text/plain": [
       "array(['Native Continent', 'Marital Status', 'Lives with', 'Base Area',\n",
       "       'Education Level', 'Employment Sector', 'Role'], dtype=object)"
      ]
     },
     "execution_count": 19,
     "metadata": {},
     "output_type": "execute_result"
    }
   ],
   "source": [
    "#Creating a data frame with the categorical variables.\n",
    "#cat_col = train_upd.select_dtypes(include=['object']).columns.values # Because it does encode numeric features like years of education. \n",
    "cat_col = train_upd[['Native Continent','Marital Status','Lives with','Base Area','Education Level','Employment Sector','Role']].columns.values\n",
    "cat_col"
   ]
  },
  {
   "cell_type": "code",
   "execution_count": 20,
   "metadata": {},
   "outputs": [],
   "source": [
    "encoder = OrdinalEncoder()"
   ]
  },
  {
   "cell_type": "code",
   "execution_count": 21,
   "metadata": {},
   "outputs": [],
   "source": [
    "mice = IterativeImputer()"
   ]
  },
  {
   "cell_type": "code",
   "execution_count": 22,
   "metadata": {},
   "outputs": [],
   "source": [
    "def encode(data):\n",
    "    reshape = np.array(data.dropna()).reshape(-1,1)\n",
    "    ordinal = encoder.fit_transform(reshape)\n",
    "    data.loc[data.notnull()] = np.squeeze(ordinal)\n",
    "    return data"
   ]
  },
  {
   "cell_type": "code",
   "execution_count": 23,
   "metadata": {},
   "outputs": [],
   "source": [
    "# Not running for now.\n",
    "for col in cat_col: \n",
    "    encode(train_upd[col])"
   ]
  },
  {
   "cell_type": "code",
   "execution_count": 24,
   "metadata": {},
   "outputs": [],
   "source": [
    "#Filling NaN according to Mice algorigthm. \n",
    "train_upd=pd.DataFrame(np.round(mice.fit_transform(train_upd)),columns=train_upd.columns)"
   ]
  },
  {
   "cell_type": "code",
   "execution_count": 25,
   "metadata": {},
   "outputs": [
    {
     "data": {
      "text/plain": [
       "CITIZEN_ID                0\n",
       "Gender                    0\n",
       "Native Continent          0\n",
       "Age                       0\n",
       "Marital Status            0\n",
       "Lives with                0\n",
       "Base Area                 0\n",
       "Education Level           0\n",
       "Years of Education        0\n",
       "Employment Sector         0\n",
       "Role                      0\n",
       "Working Hours per week    0\n",
       "Money Received            0\n",
       "Ticket Price              0\n",
       "Income                    0\n",
       "dtype: int64"
      ]
     },
     "execution_count": 25,
     "metadata": {},
     "output_type": "execute_result"
    }
   ],
   "source": [
    "# double check to what was done.\n",
    "train_upd.isna().sum()"
   ]
  },
  {
   "cell_type": "code",
   "execution_count": 41,
   "metadata": {},
   "outputs": [],
   "source": [
    "#train_upd"
   ]
  },
  {
   "cell_type": "markdown",
   "metadata": {},
   "source": [
    "# 4.3 Removing the Outliers - Using mahalanobis"
   ]
  },
  {
   "cell_type": "code",
   "execution_count": 42,
   "metadata": {},
   "outputs": [],
   "source": [
    "#John needs to check. \n",
    "main_data = train_upd.copy().reset_index()\n",
    "main_data['id'] = main_data.index"
   ]
  },
  {
   "cell_type": "code",
   "execution_count": 43,
   "metadata": {},
   "outputs": [],
   "source": [
    "metric_data = main_data.loc[:,(np.array(main_data.dtypes==\"float64\")) | (np.array(main_data.dtypes==\"int64\"))]\n",
    "\n",
    "data = metric_data.set_index(\"id\")\n",
    "\n",
    "yj = prep.PowerTransformer(method='yeo-johnson')\n",
    "qt = prep.QuantileTransformer(n_quantiles=500, output_distribution='normal', random_state=np.random.RandomState(104))\n",
    "\n",
    "X_trans_yj = yj.fit_transform(data)\n",
    "X_trans_qt = qt.fit_transform(data)\n",
    "\n",
    "# Merging\n",
    "X_trans = np.concatenate((X_trans_yj, X_trans_qt), axis=1)\n",
    "\n",
    "# Creating DataFrame\n",
    "merge_labels = list(map(lambda x: \"yj_\" + x, data.columns.to_list()))+list(map(lambda x: \"qt_\" + x, data.columns.to_list()))\n",
    "trans_df = pd.DataFrame(X_trans, columns=merge_labels, index=data.index)"
   ]
  },
  {
   "cell_type": "code",
   "execution_count": 44,
   "metadata": {},
   "outputs": [],
   "source": [
    "transqt_df = trans_df.loc[:,[i for i in trans_df.columns.to_list() if \"qt\" in i]]\n",
    "transyj_df = trans_df.loc[:,[i for i in trans_df.columns.to_list() if \"yj\" in i]]"
   ]
  },
  {
   "cell_type": "code",
   "execution_count": 45,
   "metadata": {},
   "outputs": [],
   "source": [
    "def out_mahalanobis(data, random, contamination=0.03):\n",
    "    n = data.shape[0]\n",
    "    df = data.shape[1]\n",
    "    # Obtain mahalanobis distance of each observation to the center and then sort it\n",
    "    ee_out = cov.EllipticEnvelope(contamination=0.2, support_fraction=0.95, random_state=np.random.RandomState(304)).fit(data)\n",
    "    mahalan = ee_out.mahalanobis(data)\n",
    "    # Obtain chi-square percentiles of each observations\n",
    "    quantiles = chi2.ppf(q=np.fromfunction(lambda x:(x-0.5)/n, (n,)), df=df)\n",
    "    # Obtain labels\n",
    "    labels = ee_out.predict(data)    \n",
    "    return mahalan, quantiles, labels"
   ]
  },
  {
   "cell_type": "code",
   "execution_count": 46,
   "metadata": {},
   "outputs": [],
   "source": [
    "mqt, qqt, lqt = out_mahalanobis(transqt_df, 0)"
   ]
  },
  {
   "cell_type": "code",
   "execution_count": 47,
   "metadata": {},
   "outputs": [],
   "source": [
    "myj, qyj, lyj = out_mahalanobis(transyj_df, 0)"
   ]
  },
  {
   "cell_type": "code",
   "execution_count": 48,
   "metadata": {},
   "outputs": [],
   "source": [
    "lqt_lyj = pd.DataFrame({'lqt': lqt, 'lyj': lyj})"
   ]
  },
  {
   "cell_type": "code",
   "execution_count": 49,
   "metadata": {},
   "outputs": [
    {
     "data": {
      "text/plain": [
       "'Outliers percentage: 27.08%'"
      ]
     },
     "execution_count": 49,
     "metadata": {},
     "output_type": "execute_result"
    }
   ],
   "source": [
    "# checking outliers precentage\n",
    "inl = lqt_lyj.loc[(lqt_lyj['lqt'] == 1) & (lqt_lyj['lyj'] == 1)].sum()['lqt']\n",
    "'Outliers percentage: {:4.2f}%'.format(100 - inl/len(lqt_lyj) * 100)"
   ]
  },
  {
   "cell_type": "code",
   "execution_count": 50,
   "metadata": {},
   "outputs": [],
   "source": [
    "# creating mask for outliers' drop\n",
    "lqt_lyj.loc[(lqt_lyj['lqt'] == 1) & (lqt_lyj['lyj'] == 1), 'mask'] = True\n",
    "lqt_lyj.fillna(False, inplace=True)\n",
    "lqt_lyj.drop(columns=['lqt', 'lyj'], inplace=True)"
   ]
  },
  {
   "cell_type": "markdown",
   "metadata": {},
   "source": [
    "# - Trying with 1 Dataset "
   ]
  },
  {
   "cell_type": "code",
   "execution_count": 30,
   "metadata": {},
   "outputs": [],
   "source": [
    "onehot_test = train_upd.copy()"
   ]
  },
  {
   "cell_type": "code",
   "execution_count": 33,
   "metadata": {},
   "outputs": [],
   "source": [
    "onehot_data = onehot_test.iloc[:,:-1]\n",
    "onehot_target = onehot_test.iloc[:,-1]"
   ]
  },
  {
   "cell_type": "code",
   "execution_count": 34,
   "metadata": {},
   "outputs": [
    {
     "data": {
      "text/html": [
       "<div>\n",
       "<style scoped>\n",
       "    .dataframe tbody tr th:only-of-type {\n",
       "        vertical-align: middle;\n",
       "    }\n",
       "\n",
       "    .dataframe tbody tr th {\n",
       "        vertical-align: top;\n",
       "    }\n",
       "\n",
       "    .dataframe thead th {\n",
       "        text-align: right;\n",
       "    }\n",
       "</style>\n",
       "<table border=\"1\" class=\"dataframe\">\n",
       "  <thead>\n",
       "    <tr style=\"text-align: right;\">\n",
       "      <th></th>\n",
       "      <th>CITIZEN_ID</th>\n",
       "      <th>Gender</th>\n",
       "      <th>Native Continent</th>\n",
       "      <th>Age</th>\n",
       "      <th>Marital Status</th>\n",
       "      <th>Lives with</th>\n",
       "      <th>Base Area</th>\n",
       "      <th>Education Level</th>\n",
       "      <th>Years of Education</th>\n",
       "      <th>Employment Sector</th>\n",
       "      <th>Role</th>\n",
       "      <th>Working Hours per week</th>\n",
       "      <th>Money Received</th>\n",
       "      <th>Ticket Price</th>\n",
       "    </tr>\n",
       "  </thead>\n",
       "  <tbody>\n",
       "    <tr>\n",
       "      <th>0</th>\n",
       "      <td>12486</td>\n",
       "      <td>0</td>\n",
       "      <td>Europe</td>\n",
       "      <td>45</td>\n",
       "      <td>Married</td>\n",
       "      <td>Wife</td>\n",
       "      <td>Northbury</td>\n",
       "      <td>High School + PostGraduation</td>\n",
       "      <td>13</td>\n",
       "      <td>Private Sector - Services</td>\n",
       "      <td>Repair &amp; constructions</td>\n",
       "      <td>40</td>\n",
       "      <td>0</td>\n",
       "      <td>2273</td>\n",
       "    </tr>\n",
       "  </tbody>\n",
       "</table>\n",
       "</div>"
      ],
      "text/plain": [
       "   CITIZEN_ID  Gender Native Continent  Age Marital Status Lives with  \\\n",
       "0       12486       0           Europe   45        Married       Wife   \n",
       "\n",
       "   Base Area               Education Level  Years of Education  \\\n",
       "0  Northbury  High School + PostGraduation                  13   \n",
       "\n",
       "            Employment Sector                    Role  Working Hours per week  \\\n",
       "0  Private Sector - Services   Repair & constructions                      40   \n",
       "\n",
       "   Money Received  Ticket Price  \n",
       "0               0          2273  "
      ]
     },
     "execution_count": 34,
     "metadata": {},
     "output_type": "execute_result"
    }
   ],
   "source": [
    "onehot_data.head(1)"
   ]
  },
  {
   "cell_type": "code",
   "execution_count": 37,
   "metadata": {},
   "outputs": [],
   "source": [
    "#scaler = MinMaxScaler() #RobustScaler()\n",
    "#scaled_feat = scaler.fit_transform(onehot_data[metric_features])\n",
    "#scaled_feat"
   ]
  },
  {
   "cell_type": "code",
   "execution_count": 38,
   "metadata": {},
   "outputs": [],
   "source": [
    "#onehot_data[metric_features] = scaled_feat\n",
    "#onehot_data.head(1)"
   ]
  },
  {
   "cell_type": "markdown",
   "metadata": {},
   "source": [
    "# 4.4 - Divinding the data in 3 different data sets - because we have 3 distinct groups, Volunteers, Essencial and ticket buyers. "
   ]
  },
  {
   "cell_type": "code",
   "execution_count": 26,
   "metadata": {},
   "outputs": [],
   "source": [
    "train_upd = train_upd.astype(int)"
   ]
  },
  {
   "cell_type": "code",
   "execution_count": 27,
   "metadata": {},
   "outputs": [
    {
     "data": {
      "text/html": [
       "<div>\n",
       "<style scoped>\n",
       "    .dataframe tbody tr th:only-of-type {\n",
       "        vertical-align: middle;\n",
       "    }\n",
       "\n",
       "    .dataframe tbody tr th {\n",
       "        vertical-align: top;\n",
       "    }\n",
       "\n",
       "    .dataframe thead th {\n",
       "        text-align: right;\n",
       "    }\n",
       "</style>\n",
       "<table border=\"1\" class=\"dataframe\">\n",
       "  <thead>\n",
       "    <tr style=\"text-align: right;\">\n",
       "      <th></th>\n",
       "      <th>CITIZEN_ID</th>\n",
       "      <th>Gender</th>\n",
       "      <th>Native Continent</th>\n",
       "      <th>Age</th>\n",
       "      <th>Marital Status</th>\n",
       "      <th>Lives with</th>\n",
       "      <th>Base Area</th>\n",
       "      <th>Education Level</th>\n",
       "      <th>Years of Education</th>\n",
       "      <th>Employment Sector</th>\n",
       "      <th>Role</th>\n",
       "      <th>Working Hours per week</th>\n",
       "      <th>Money Received</th>\n",
       "      <th>Ticket Price</th>\n",
       "      <th>Income</th>\n",
       "    </tr>\n",
       "  </thead>\n",
       "  <tbody>\n",
       "    <tr>\n",
       "      <th>0</th>\n",
       "      <td>12486</td>\n",
       "      <td>0</td>\n",
       "      <td>3</td>\n",
       "      <td>45</td>\n",
       "      <td>1</td>\n",
       "      <td>5</td>\n",
       "      <td>29</td>\n",
       "      <td>2</td>\n",
       "      <td>13</td>\n",
       "      <td>3</td>\n",
       "      <td>11</td>\n",
       "      <td>40</td>\n",
       "      <td>0</td>\n",
       "      <td>2273</td>\n",
       "      <td>1</td>\n",
       "    </tr>\n",
       "    <tr>\n",
       "      <th>1</th>\n",
       "      <td>12487</td>\n",
       "      <td>0</td>\n",
       "      <td>3</td>\n",
       "      <td>43</td>\n",
       "      <td>1</td>\n",
       "      <td>5</td>\n",
       "      <td>29</td>\n",
       "      <td>14</td>\n",
       "      <td>12</td>\n",
       "      <td>5</td>\n",
       "      <td>11</td>\n",
       "      <td>40</td>\n",
       "      <td>0</td>\n",
       "      <td>0</td>\n",
       "      <td>1</td>\n",
       "    </tr>\n",
       "    <tr>\n",
       "      <th>2</th>\n",
       "      <td>12488</td>\n",
       "      <td>0</td>\n",
       "      <td>3</td>\n",
       "      <td>40</td>\n",
       "      <td>1</td>\n",
       "      <td>5</td>\n",
       "      <td>29</td>\n",
       "      <td>14</td>\n",
       "      <td>12</td>\n",
       "      <td>3</td>\n",
       "      <td>12</td>\n",
       "      <td>46</td>\n",
       "      <td>0</td>\n",
       "      <td>2321</td>\n",
       "      <td>1</td>\n",
       "    </tr>\n",
       "    <tr>\n",
       "      <th>3</th>\n",
       "      <td>12489</td>\n",
       "      <td>0</td>\n",
       "      <td>3</td>\n",
       "      <td>64</td>\n",
       "      <td>1</td>\n",
       "      <td>5</td>\n",
       "      <td>29</td>\n",
       "      <td>4</td>\n",
       "      <td>11</td>\n",
       "      <td>3</td>\n",
       "      <td>13</td>\n",
       "      <td>37</td>\n",
       "      <td>5395</td>\n",
       "      <td>0</td>\n",
       "      <td>1</td>\n",
       "    </tr>\n",
       "    <tr>\n",
       "      <th>4</th>\n",
       "      <td>12490</td>\n",
       "      <td>0</td>\n",
       "      <td>3</td>\n",
       "      <td>34</td>\n",
       "      <td>5</td>\n",
       "      <td>3</td>\n",
       "      <td>29</td>\n",
       "      <td>11</td>\n",
       "      <td>21</td>\n",
       "      <td>7</td>\n",
       "      <td>10</td>\n",
       "      <td>45</td>\n",
       "      <td>0</td>\n",
       "      <td>0</td>\n",
       "      <td>1</td>\n",
       "    </tr>\n",
       "  </tbody>\n",
       "</table>\n",
       "</div>"
      ],
      "text/plain": [
       "   CITIZEN_ID  Gender  Native Continent  Age  Marital Status  Lives with  \\\n",
       "0       12486       0                 3   45               1           5   \n",
       "1       12487       0                 3   43               1           5   \n",
       "2       12488       0                 3   40               1           5   \n",
       "3       12489       0                 3   64               1           5   \n",
       "4       12490       0                 3   34               5           3   \n",
       "\n",
       "   Base Area  Education Level  Years of Education  Employment Sector  Role  \\\n",
       "0         29                2                  13                  3    11   \n",
       "1         29               14                  12                  5    11   \n",
       "2         29               14                  12                  3    12   \n",
       "3         29                4                  11                  3    13   \n",
       "4         29               11                  21                  7    10   \n",
       "\n",
       "   Working Hours per week  Money Received  Ticket Price  Income  \n",
       "0                      40               0          2273       1  \n",
       "1                      40               0             0       1  \n",
       "2                      46               0          2321       1  \n",
       "3                      37            5395             0       1  \n",
       "4                      45               0             0       1  "
      ]
     },
     "execution_count": 27,
     "metadata": {},
     "output_type": "execute_result"
    }
   ],
   "source": [
    "train_upd.head()"
   ]
  },
  {
   "cell_type": "code",
   "execution_count": 28,
   "metadata": {},
   "outputs": [],
   "source": [
    "train_upd_a=train_upd[(train_upd['Ticket Price']==0) & (train_upd['Money Received']==0)].copy() #Volunteers\n",
    "train_upd_b=train_upd[train_upd['Money Received']>0].copy()#received money\n",
    "train_upd_c=train_upd[train_upd['Ticket Price']>0].copy()#buying entry"
   ]
  },
  {
   "cell_type": "code",
   "execution_count": 53,
   "metadata": {},
   "outputs": [],
   "source": [
    "# DO NOT RUN, It's here fow now, just for reference.\n",
    "#group a\n",
    "#df1=train_upd_a.copy()\n",
    "#for c in cat_col:\n",
    "    #encode(df1[c])"
   ]
  },
  {
   "cell_type": "code",
   "execution_count": 54,
   "metadata": {},
   "outputs": [],
   "source": [
    "## DO NOT RUN, It's here fow now, just for reference.\n",
    "#group b\n",
    "#df2=train_upd_b.copy()\n",
    "#for c in cat_col:\n",
    "    #encode(df2[c])"
   ]
  },
  {
   "cell_type": "code",
   "execution_count": 55,
   "metadata": {},
   "outputs": [],
   "source": [
    "# DO NOT RUN, It's here fow now, just for reference.\n",
    "#group c\n",
    "#df3=train_upd_c.copy()\n",
    "#for c in cat_col:\n",
    "    #encode(df3[c])"
   ]
  },
  {
   "cell_type": "markdown",
   "metadata": {},
   "source": [
    "### Scaling"
   ]
  },
  {
   "cell_type": "code",
   "execution_count": null,
   "metadata": {},
   "outputs": [],
   "source": [
    "#robust_scaler = RobustScaler()"
   ]
  },
  {
   "cell_type": "code",
   "execution_count": 29,
   "metadata": {},
   "outputs": [],
   "source": [
    "min_max = train_upd_a"
   ]
  },
  {
   "cell_type": "code",
   "execution_count": 30,
   "metadata": {},
   "outputs": [
    {
     "data": {
      "text/plain": [
       "array([[0.00000000e+00, 0.00000000e+00, 7.50000000e-01, ...,\n",
       "        0.00000000e+00, 0.00000000e+00, 1.00000000e+00],\n",
       "       [1.33940530e-04, 0.00000000e+00, 7.50000000e-01, ...,\n",
       "        0.00000000e+00, 0.00000000e+00, 1.00000000e+00],\n",
       "       [1.78587374e-04, 0.00000000e+00, 7.50000000e-01, ...,\n",
       "        0.00000000e+00, 0.00000000e+00, 0.00000000e+00],\n",
       "       ...,\n",
       "       [9.99866059e-01, 0.00000000e+00, 7.50000000e-01, ...,\n",
       "        0.00000000e+00, 0.00000000e+00, 0.00000000e+00],\n",
       "       [9.99955353e-01, 0.00000000e+00, 7.50000000e-01, ...,\n",
       "        0.00000000e+00, 0.00000000e+00, 1.00000000e+00],\n",
       "       [1.00000000e+00, 0.00000000e+00, 5.00000000e-01, ...,\n",
       "        0.00000000e+00, 0.00000000e+00, 0.00000000e+00]])"
      ]
     },
     "execution_count": 30,
     "metadata": {},
     "output_type": "execute_result"
    }
   ],
   "source": [
    "# Use MinMaxScaler to scale the data\n",
    "scaler = MinMaxScaler()\n",
    "scaled_feat = scaler.fit_transform(min_max)\n",
    "scaled_feat"
   ]
  },
  {
   "cell_type": "code",
   "execution_count": 35,
   "metadata": {},
   "outputs": [
    {
     "ename": "NameError",
     "evalue": "name 'metric_features' is not defined",
     "output_type": "error",
     "traceback": [
      "\u001b[1;31m---------------------------------------------------------------------------\u001b[0m",
      "\u001b[1;31mNameError\u001b[0m                                 Traceback (most recent call last)",
      "\u001b[1;32m<ipython-input-35-78e0a8c16e6e>\u001b[0m in \u001b[0;36m<module>\u001b[1;34m\u001b[0m\n\u001b[1;32m----> 1\u001b[1;33m \u001b[0mmin_max\u001b[0m\u001b[1;33m[\u001b[0m\u001b[0mmetric_features\u001b[0m\u001b[1;33m]\u001b[0m \u001b[1;33m=\u001b[0m \u001b[0mscaled_feat\u001b[0m\u001b[1;33m\u001b[0m\u001b[1;33m\u001b[0m\u001b[0m\n\u001b[0m\u001b[0;32m      2\u001b[0m \u001b[0mmin_max\u001b[0m\u001b[1;33m.\u001b[0m\u001b[0mhead\u001b[0m\u001b[1;33m(\u001b[0m\u001b[1;33m)\u001b[0m\u001b[1;33m\u001b[0m\u001b[1;33m\u001b[0m\u001b[0m\n",
      "\u001b[1;31mNameError\u001b[0m: name 'metric_features' is not defined"
     ]
    }
   ],
   "source": [
    "min_max[metric_features] = scaled_feat\n",
    "min_max.head()"
   ]
  },
  {
   "cell_type": "code",
   "execution_count": null,
   "metadata": {},
   "outputs": [],
   "source": []
  },
  {
   "cell_type": "code",
   "execution_count": null,
   "metadata": {},
   "outputs": [],
   "source": []
  },
  {
   "cell_type": "markdown",
   "metadata": {},
   "source": [
    "# We could also try lasso regression, it's more accurate and easier to understand. "
   ]
  },
  {
   "cell_type": "markdown",
   "metadata": {},
   "source": [
    "# 4.5 - RFE - Recursive Feature Selection"
   ]
  },
  {
   "cell_type": "code",
   "execution_count": 56,
   "metadata": {},
   "outputs": [],
   "source": [
    "# We should choose between one of the methods, or RFE or Ridge or Lasso."
   ]
  },
  {
   "cell_type": "code",
   "execution_count": 57,
   "metadata": {},
   "outputs": [],
   "source": [
    "def rfe_group(df):\n",
    "    data = df.iloc[:,:-1]\n",
    "    target = df.iloc[:,-1]\n",
    "    nof_list=np.arange(1,len(data.columns)+1)  \n",
    "    high_score=0\n",
    "    nof=0           \n",
    "    score_list =[]\n",
    "    #dividing the data sets into train and validation. \n",
    "    for n in range(len(nof_list)):\n",
    "        X_train, X_test, y_train, y_test = train_test_split(data,target, test_size = 0.2, random_state = 0,stratify = target)\n",
    "        \n",
    "        #Selecting the model for the Feature selection.\n",
    "        model = LogisticRegression()\n",
    "        rfe = RFE(model,nof_list[n])\n",
    "        X_train_rfe = rfe.fit_transform(X_train,y_train)\n",
    "        X_test_rfe = rfe.transform(X_test)\n",
    "        model.fit(X_train_rfe,y_train)\n",
    "\n",
    "        score = model.score(X_test_rfe,y_test)\n",
    "        score_list.append(score)\n",
    "\n",
    "        if(score>high_score):\n",
    "            high_score = score\n",
    "            nof = nof_list[n]\n",
    "    print(\"Optimum number of features: %d\" %nof)\n",
    "    print('\\n')\n",
    "    print(\"Score with %d features: %f\" % (nof, high_score))\n",
    "    rfe = RFE(estimator = model, n_features_to_select = nof)\n",
    "    X_rfe = rfe.fit_transform(X = data, y = target)\n",
    "    model = LogisticRegression().fit(X = X_rfe,y = target)\n",
    "    selected_features = pd.Series(rfe.support_, index = data.columns)\n",
    "    print(selected_features)\n",
    "    ridge = RidgeClassifierCV().fit(X = data,y = target)\n",
    "    coef_ridge = pd.Series(ridge.coef_[0], index = data.columns)\n",
    "    return coef_ridge"
   ]
  },
  {
   "cell_type": "code",
   "execution_count": 58,
   "metadata": {},
   "outputs": [],
   "source": [
    "#Ploting the features importance with ridge regression. \n",
    "def plot_importance(coef,name):\n",
    "    imp_coef = coef.sort_values()\n",
    "    plt.figure(figsize=(8,10))\n",
    "    imp_coef.plot(kind = \"barh\")\n",
    "    plt.title(\"Feature importance using \" + name)\n",
    "    plt.show()"
   ]
  },
  {
   "cell_type": "code",
   "execution_count": 123,
   "metadata": {},
   "outputs": [
    {
     "name": "stdout",
     "output_type": "stream",
     "text": [
      "Optimum number of features: 8\n",
      "\n",
      "\n",
      "Score with 8 features: 0.839867\n",
      "CITIZEN_ID                False\n",
      "Name                      False\n",
      "Gender                    False\n",
      "Birthday                  False\n",
      "Age                        True\n",
      "Native Continent           True\n",
      "Marital Status             True\n",
      "Lives with                 True\n",
      "Base Area                  True\n",
      "Education Level           False\n",
      "Years of Education         True\n",
      "Employment Sector          True\n",
      "Role                       True\n",
      "Working Hours per week    False\n",
      "Money Received            False\n",
      "Ticket Price              False\n",
      "dtype: bool\n"
     ]
    }
   ],
   "source": [
    "coef_ridge_1 = rfe_group(train_upd_a)\n",
    "#plot_importance(coef_ridge_1,'Group A -> Volunteers - No Payment')"
   ]
  },
  {
   "cell_type": "code",
   "execution_count": 124,
   "metadata": {},
   "outputs": [],
   "source": [
    "# Selecting the Features for the Volunteers dataset.\n",
    "train_upd_a.drop(['Gender','Birthday','Ticket Price','Money Received','Name','Education Level','Working Hours per week'],axis=1,inplace=True)"
   ]
  },
  {
   "cell_type": "code",
   "execution_count": 125,
   "metadata": {},
   "outputs": [],
   "source": [
    "train_upd_a.set_index('CITIZEN_ID',inplace=True) # Check later and after making changes if ID is still correct. "
   ]
  },
  {
   "cell_type": "code",
   "execution_count": 126,
   "metadata": {},
   "outputs": [
    {
     "data": {
      "text/html": [
       "<div>\n",
       "<style scoped>\n",
       "    .dataframe tbody tr th:only-of-type {\n",
       "        vertical-align: middle;\n",
       "    }\n",
       "\n",
       "    .dataframe tbody tr th {\n",
       "        vertical-align: top;\n",
       "    }\n",
       "\n",
       "    .dataframe thead th {\n",
       "        text-align: right;\n",
       "    }\n",
       "</style>\n",
       "<table border=\"1\" class=\"dataframe\">\n",
       "  <thead>\n",
       "    <tr style=\"text-align: right;\">\n",
       "      <th></th>\n",
       "      <th>Age</th>\n",
       "      <th>Native Continent</th>\n",
       "      <th>Marital Status</th>\n",
       "      <th>Lives with</th>\n",
       "      <th>Base Area</th>\n",
       "      <th>Years of Education</th>\n",
       "      <th>Employment Sector</th>\n",
       "      <th>Role</th>\n",
       "      <th>Income</th>\n",
       "    </tr>\n",
       "    <tr>\n",
       "      <th>CITIZEN_ID</th>\n",
       "      <th></th>\n",
       "      <th></th>\n",
       "      <th></th>\n",
       "      <th></th>\n",
       "      <th></th>\n",
       "      <th></th>\n",
       "      <th></th>\n",
       "      <th></th>\n",
       "      <th></th>\n",
       "    </tr>\n",
       "  </thead>\n",
       "  <tbody>\n",
       "    <tr>\n",
       "      <th>12487</th>\n",
       "      <td>43</td>\n",
       "      <td>3</td>\n",
       "      <td>1</td>\n",
       "      <td>5</td>\n",
       "      <td>28</td>\n",
       "      <td>12</td>\n",
       "      <td>4</td>\n",
       "      <td>10</td>\n",
       "      <td>1</td>\n",
       "    </tr>\n",
       "    <tr>\n",
       "      <th>12490</th>\n",
       "      <td>34</td>\n",
       "      <td>3</td>\n",
       "      <td>5</td>\n",
       "      <td>3</td>\n",
       "      <td>28</td>\n",
       "      <td>21</td>\n",
       "      <td>6</td>\n",
       "      <td>9</td>\n",
       "      <td>1</td>\n",
       "    </tr>\n",
       "    <tr>\n",
       "      <th>12491</th>\n",
       "      <td>24</td>\n",
       "      <td>3</td>\n",
       "      <td>5</td>\n",
       "      <td>1</td>\n",
       "      <td>28</td>\n",
       "      <td>15</td>\n",
       "      <td>2</td>\n",
       "      <td>3</td>\n",
       "      <td>0</td>\n",
       "    </tr>\n",
       "    <tr>\n",
       "      <th>12493</th>\n",
       "      <td>37</td>\n",
       "      <td>3</td>\n",
       "      <td>2</td>\n",
       "      <td>4</td>\n",
       "      <td>4</td>\n",
       "      <td>11</td>\n",
       "      <td>2</td>\n",
       "      <td>8</td>\n",
       "      <td>0</td>\n",
       "    </tr>\n",
       "    <tr>\n",
       "      <th>12494</th>\n",
       "      <td>24</td>\n",
       "      <td>3</td>\n",
       "      <td>5</td>\n",
       "      <td>1</td>\n",
       "      <td>28</td>\n",
       "      <td>13</td>\n",
       "      <td>1</td>\n",
       "      <td>6</td>\n",
       "      <td>0</td>\n",
       "    </tr>\n",
       "    <tr>\n",
       "      <th>...</th>\n",
       "      <td>...</td>\n",
       "      <td>...</td>\n",
       "      <td>...</td>\n",
       "      <td>...</td>\n",
       "      <td>...</td>\n",
       "      <td>...</td>\n",
       "      <td>...</td>\n",
       "      <td>...</td>\n",
       "      <td>...</td>\n",
       "    </tr>\n",
       "    <tr>\n",
       "      <th>34880</th>\n",
       "      <td>36</td>\n",
       "      <td>3</td>\n",
       "      <td>1</td>\n",
       "      <td>5</td>\n",
       "      <td>28</td>\n",
       "      <td>16</td>\n",
       "      <td>2</td>\n",
       "      <td>11</td>\n",
       "      <td>1</td>\n",
       "    </tr>\n",
       "    <tr>\n",
       "      <th>34881</th>\n",
       "      <td>26</td>\n",
       "      <td>3</td>\n",
       "      <td>0</td>\n",
       "      <td>1</td>\n",
       "      <td>28</td>\n",
       "      <td>12</td>\n",
       "      <td>2</td>\n",
       "      <td>3</td>\n",
       "      <td>0</td>\n",
       "    </tr>\n",
       "    <tr>\n",
       "      <th>34882</th>\n",
       "      <td>24</td>\n",
       "      <td>3</td>\n",
       "      <td>5</td>\n",
       "      <td>1</td>\n",
       "      <td>28</td>\n",
       "      <td>12</td>\n",
       "      <td>2</td>\n",
       "      <td>8</td>\n",
       "      <td>0</td>\n",
       "    </tr>\n",
       "    <tr>\n",
       "      <th>34884</th>\n",
       "      <td>37</td>\n",
       "      <td>3</td>\n",
       "      <td>5</td>\n",
       "      <td>3</td>\n",
       "      <td>28</td>\n",
       "      <td>16</td>\n",
       "      <td>2</td>\n",
       "      <td>10</td>\n",
       "      <td>1</td>\n",
       "    </tr>\n",
       "    <tr>\n",
       "      <th>34885</th>\n",
       "      <td>22</td>\n",
       "      <td>2</td>\n",
       "      <td>5</td>\n",
       "      <td>1</td>\n",
       "      <td>28</td>\n",
       "      <td>13</td>\n",
       "      <td>2</td>\n",
       "      <td>13</td>\n",
       "      <td>0</td>\n",
       "    </tr>\n",
       "  </tbody>\n",
       "</table>\n",
       "<p>19511 rows × 9 columns</p>\n",
       "</div>"
      ],
      "text/plain": [
       "            Age  Native Continent  Marital Status  Lives with  Base Area  \\\n",
       "CITIZEN_ID                                                                 \n",
       "12487        43                 3               1           5         28   \n",
       "12490        34                 3               5           3         28   \n",
       "12491        24                 3               5           1         28   \n",
       "12493        37                 3               2           4          4   \n",
       "12494        24                 3               5           1         28   \n",
       "...         ...               ...             ...         ...        ...   \n",
       "34880        36                 3               1           5         28   \n",
       "34881        26                 3               0           1         28   \n",
       "34882        24                 3               5           1         28   \n",
       "34884        37                 3               5           3         28   \n",
       "34885        22                 2               5           1         28   \n",
       "\n",
       "            Years of Education  Employment Sector  Role  Income  \n",
       "CITIZEN_ID                                                       \n",
       "12487                       12                  4    10       1  \n",
       "12490                       21                  6     9       1  \n",
       "12491                       15                  2     3       0  \n",
       "12493                       11                  2     8       0  \n",
       "12494                       13                  1     6       0  \n",
       "...                        ...                ...   ...     ...  \n",
       "34880                       16                  2    11       1  \n",
       "34881                       12                  2     3       0  \n",
       "34882                       12                  2     8       0  \n",
       "34884                       16                  2    10       1  \n",
       "34885                       13                  2    13       0  \n",
       "\n",
       "[19511 rows x 9 columns]"
      ]
     },
     "execution_count": 126,
     "metadata": {},
     "output_type": "execute_result"
    }
   ],
   "source": [
    "train_upd_a"
   ]
  },
  {
   "cell_type": "code",
   "execution_count": 141,
   "metadata": {},
   "outputs": [
    {
     "name": "stdout",
     "output_type": "stream",
     "text": [
      "Optimum number of features: 12\n",
      "\n",
      "\n",
      "Score with 12 features: 0.858311\n",
      "CITIZEN_ID                False\n",
      "Name                      False\n",
      "Gender                     True\n",
      "Birthday                  False\n",
      "Age                        True\n",
      "Native Continent           True\n",
      "Marital Status             True\n",
      "Lives with                 True\n",
      "Base Area                  True\n",
      "Education Level            True\n",
      "Years of Education         True\n",
      "Employment Sector          True\n",
      "Role                       True\n",
      "Working Hours per week     True\n",
      "Money Received             True\n",
      "Ticket Price              False\n",
      "dtype: bool\n"
     ]
    }
   ],
   "source": [
    "coef_ridge_2 = rfe_group(train_upd_b)\n",
    "#plot_importance(coef_ridge_2,'Group B -> Were invited (Money Received)')"
   ]
  },
  {
   "cell_type": "code",
   "execution_count": 64,
   "metadata": {},
   "outputs": [],
   "source": [
    "# Selecting the Features for the essencials dataset.\n",
    "train_upd_b.drop(['Birthday','Ticket Price','Money Received','Name','Base Area','Age'],axis=1,inplace=True) # We are letting Education lvl stay since it's has some weight. "
   ]
  },
  {
   "cell_type": "code",
   "execution_count": 65,
   "metadata": {},
   "outputs": [],
   "source": [
    "train_upd_b.set_index('CITIZEN_ID',inplace=True) # Check later and after making changes if ID is still correct. "
   ]
  },
  {
   "cell_type": "code",
   "execution_count": 66,
   "metadata": {},
   "outputs": [
    {
     "name": "stdout",
     "output_type": "stream",
     "text": [
      "Optimum number of features: 2\n",
      "\n",
      "\n",
      "Score with 2 features: 0.735695\n",
      "Gender                    False\n",
      "Native Continent          False\n",
      "Marital Status            False\n",
      "Lives with                 True\n",
      "Education Level           False\n",
      "Years of Education         True\n",
      "Employment Sector         False\n",
      "Role                      False\n",
      "Working Hours per week    False\n",
      "dtype: bool\n"
     ]
    },
    {
     "data": {
      "text/plain": [
       "Gender                    0.037615\n",
       "Native Continent         -0.019923\n",
       "Marital Status           -0.087348\n",
       "Lives with                0.117337\n",
       "Education Level          -0.007872\n",
       "Years of Education        0.116507\n",
       "Employment Sector         0.006597\n",
       "Role                      0.008874\n",
       "Working Hours per week    0.008842\n",
       "dtype: float64"
      ]
     },
     "execution_count": 66,
     "metadata": {},
     "output_type": "execute_result"
    }
   ],
   "source": [
    "# Checking score after removing the serveral variables. \n",
    "rfe_group(train_upd_b)"
   ]
  },
  {
   "cell_type": "code",
   "execution_count": 140,
   "metadata": {},
   "outputs": [
    {
     "name": "stdout",
     "output_type": "stream",
     "text": [
      "Optimum number of features: 3\n",
      "\n",
      "\n",
      "Score with 3 features: 0.764151\n",
      "CITIZEN_ID                False\n",
      "Name                      False\n",
      "Gender                    False\n",
      "Birthday                  False\n",
      "Age                       False\n",
      "Native Continent          False\n",
      "Marital Status             True\n",
      "Lives with                 True\n",
      "Base Area                 False\n",
      "Education Level           False\n",
      "Years of Education         True\n",
      "Employment Sector         False\n",
      "Role                      False\n",
      "Working Hours per week    False\n",
      "Money Received            False\n",
      "Ticket Price              False\n",
      "dtype: bool\n"
     ]
    }
   ],
   "source": [
    "coef_ridge_3 = rfe_group(train_upd_c)\n",
    "#plot_importance(coef_ridge_3,'Group C -> Money offering - Ticket Price')"
   ]
  },
  {
   "cell_type": "code",
   "execution_count": 68,
   "metadata": {},
   "outputs": [],
   "source": [
    "# Selecting the Features for the essencials dataset.\n",
    "train_upd_c.drop(['Birthday','Ticket Price','Money Received','Name','Base Area','Age','Role','Education Level'],axis=1,inplace=True) # We are letting Education lvl stay since it's has some weight. "
   ]
  },
  {
   "cell_type": "code",
   "execution_count": 69,
   "metadata": {},
   "outputs": [],
   "source": [
    "train_upd_c.set_index('CITIZEN_ID',inplace=True) # Check later and after making changes if ID is still correct. "
   ]
  },
  {
   "cell_type": "code",
   "execution_count": 70,
   "metadata": {},
   "outputs": [
    {
     "name": "stdout",
     "output_type": "stream",
     "text": [
      "Optimum number of features: 3\n",
      "\n",
      "\n",
      "Score with 3 features: 0.764151\n",
      "Gender                    False\n",
      "Native Continent          False\n",
      "Marital Status             True\n",
      "Lives with                 True\n",
      "Years of Education         True\n",
      "Employment Sector         False\n",
      "Working Hours per week    False\n",
      "dtype: bool\n"
     ]
    },
    {
     "data": {
      "text/plain": [
       "Gender                   -0.007362\n",
       "Native Continent          0.001455\n",
       "Marital Status           -0.100274\n",
       "Lives with                0.166116\n",
       "Years of Education        0.108189\n",
       "Employment Sector         0.043221\n",
       "Working Hours per week    0.007302\n",
       "dtype: float64"
      ]
     },
     "execution_count": 70,
     "metadata": {},
     "output_type": "execute_result"
    }
   ],
   "source": [
    "# Checking score after removing the serveral variables. \n",
    "rfe_group(train_upd_c)"
   ]
  },
  {
   "cell_type": "markdown",
   "metadata": {},
   "source": [
    "# 5 - Modelling - Create a predictive model"
   ]
  },
  {
   "cell_type": "markdown",
   "metadata": {},
   "source": [
    "## 5.1 Running logistic regression"
   ]
  },
  {
   "cell_type": "markdown",
   "metadata": {},
   "source": [
    "### 5.1.1 Dataset Volunteers"
   ]
  },
  {
   "cell_type": "code",
   "execution_count": 127,
   "metadata": {},
   "outputs": [],
   "source": [
    "#Spliting train and validation data\n",
    " # Volunteers dataset\n",
    "data_1 = train_upd_a.iloc[:,:-1]\n",
    "target_a = train_upd_a.iloc[:,-1]"
   ]
  },
  {
   "cell_type": "code",
   "execution_count": 128,
   "metadata": {},
   "outputs": [],
   "source": [
    "# dividing Volunteers dataset into train and validation. \n",
    "X_train, X_val, y_train, y_val = train_test_split(data_1,target_a, test_size=0.2, random_state=0, stratify=target_a)  "
   ]
  },
  {
   "cell_type": "code",
   "execution_count": 129,
   "metadata": {},
   "outputs": [],
   "source": [
    "log_model = LogisticRegression()"
   ]
  },
  {
   "cell_type": "code",
   "execution_count": 130,
   "metadata": {},
   "outputs": [
    {
     "data": {
      "text/plain": [
       "LogisticRegression()"
      ]
     },
     "execution_count": 130,
     "metadata": {},
     "output_type": "execute_result"
    }
   ],
   "source": [
    "log_model.fit(X_train,y_train)"
   ]
  },
  {
   "cell_type": "code",
   "execution_count": 131,
   "metadata": {},
   "outputs": [],
   "source": [
    "y_pred = log_model.predict(X_val)\n",
    "#y_pred"
   ]
  },
  {
   "cell_type": "code",
   "execution_count": 132,
   "metadata": {},
   "outputs": [],
   "source": [
    "pred_prob = log_model.predict_proba(X_val)\n",
    "#pred_prob"
   ]
  },
  {
   "cell_type": "code",
   "execution_count": 133,
   "metadata": {},
   "outputs": [
    {
     "data": {
      "text/plain": [
       "array([[ 0.02116777,  0.09420172, -0.30846698,  0.43969419,  0.00391424,\n",
       "         0.3404667 , -0.01976371,  0.02662208]])"
      ]
     },
     "execution_count": 133,
     "metadata": {},
     "output_type": "execute_result"
    }
   ],
   "source": [
    "log_model.coef_"
   ]
  },
  {
   "cell_type": "code",
   "execution_count": 134,
   "metadata": {},
   "outputs": [
    {
     "data": {
      "text/plain": [
       "array([[3018,  155],\n",
       "       [ 467,  263]], dtype=int64)"
      ]
     },
     "execution_count": 134,
     "metadata": {},
     "output_type": "execute_result"
    }
   ],
   "source": [
    "cm = confusion_matrix(y_val, y_pred)\n",
    "cm"
   ]
  },
  {
   "cell_type": "markdown",
   "metadata": {},
   "source": [
    "The confusion matrix in sklearn is presented in the following format: <br>\n",
    "[ [ TN  FP  ] <br>\n",
    "    [ FN  TP ] ]"
   ]
  },
  {
   "cell_type": "code",
   "execution_count": 135,
   "metadata": {},
   "outputs": [
    {
     "data": {
      "text/plain": [
       "0.8406354086600051"
      ]
     },
     "execution_count": 135,
     "metadata": {},
     "output_type": "execute_result"
    }
   ],
   "source": [
    "accuracy = accuracy_score(y_val, y_pred)\n",
    "accuracy"
   ]
  },
  {
   "cell_type": "code",
   "execution_count": 136,
   "metadata": {},
   "outputs": [
    {
     "data": {
      "text/plain": [
       "0.6291866028708134"
      ]
     },
     "execution_count": 136,
     "metadata": {},
     "output_type": "execute_result"
    }
   ],
   "source": [
    "precision = precision_score(y_val, y_pred)\n",
    "precision"
   ]
  },
  {
   "cell_type": "code",
   "execution_count": 137,
   "metadata": {},
   "outputs": [
    {
     "data": {
      "text/plain": [
       "0.36027397260273974"
      ]
     },
     "execution_count": 137,
     "metadata": {},
     "output_type": "execute_result"
    }
   ],
   "source": [
    "recall_score(y_val, y_pred)"
   ]
  },
  {
   "cell_type": "code",
   "execution_count": 138,
   "metadata": {},
   "outputs": [
    {
     "data": {
      "text/plain": [
       "0.45818815331010454"
      ]
     },
     "execution_count": 138,
     "metadata": {},
     "output_type": "execute_result"
    }
   ],
   "source": [
    "f1 = f1_score(y_val, y_pred)\n",
    "f1"
   ]
  },
  {
   "cell_type": "code",
   "execution_count": 139,
   "metadata": {},
   "outputs": [
    {
     "name": "stdout",
     "output_type": "stream",
     "text": [
      "Results on the validation set:\n",
      "              precision    recall  f1-score   support\n",
      "\n",
      "           0       0.87      0.95      0.91      3173\n",
      "           1       0.63      0.36      0.46       730\n",
      "\n",
      "    accuracy                           0.84      3903\n",
      "   macro avg       0.75      0.66      0.68      3903\n",
      "weighted avg       0.82      0.84      0.82      3903\n",
      "\n"
     ]
    }
   ],
   "source": [
    "print('Results on the validation set:')\n",
    "print(\n",
    "    \n",
    "    classification_report(y_true = y_val, y_pred = y_pred)\n",
    ")"
   ]
  },
  {
   "cell_type": "markdown",
   "metadata": {},
   "source": [
    "### Performance measures"
   ]
  },
  {
   "cell_type": "code",
   "execution_count": 84,
   "metadata": {},
   "outputs": [],
   "source": [
    "# Not sure R2 and Adjusted R2 are the best algorithms to check logistic regression."
   ]
  },
  {
   "cell_type": "markdown",
   "metadata": {},
   "source": [
    "<a class=\"anchor\" id=\"rsquare\">\n",
    "    \n",
    "###  $R^{2}$ Score\n",
    "\n",
    "</a>"
   ]
  },
  {
   "cell_type": "markdown",
   "metadata": {},
   "source": [
    "__When to use?__ <br>\n",
    "When we want to measure the amount of variance in the target variable that can be explained by our model. <br>\n",
    "It gives the degree of variability in the target variable that is explained by the model or the independent variables. <br>\n",
    "If this value is 0.7, then it means that the independent variables explain 70% of the variation in the target variable. <br>\n",
    "\n",
    "__Definition:__ <br>\n",
    "R^2 (coefficient of determination) regression score function.\n",
    "\n",
    "__Interpretation:__ <br>\n",
    "Best possible score is 1.0 and it can be negative (because the model can be arbitrarily worse). \n",
    "\n",
    "__Parameters:__ <br>\n",
    "_y_true_: Ground truth (correct) target values; <br>\n",
    "_y_pred_: Estimated target values; <br>\n"
   ]
  },
  {
   "cell_type": "code",
   "execution_count": 85,
   "metadata": {},
   "outputs": [
    {
     "data": {
      "text/plain": [
       "-0.05145383350098642"
      ]
     },
     "execution_count": 85,
     "metadata": {},
     "output_type": "execute_result"
    }
   ],
   "source": [
    "r2_score(y_val, y_pred)\n",
    "#when we want to measure variance in target value.\n",
    "#when you apply R2 score to different number of variables the R2 score changes,\n",
    "# not good to compare. We can use Adjusted R score."
   ]
  },
  {
   "cell_type": "markdown",
   "metadata": {},
   "source": [
    "<a class=\"anchor\" id=\"adjusted\">\n",
    "    \n",
    "### 1.2. Adjusted $R^{2}$ Score\n",
    "\n",
    "</a>\n",
    "\n",
    "There is no direct way to obtain the adjusted R^2 using sklearn, but we can apply the formula:\n",
    "<img src=\"adj_r2.png\" alt=\"Drawing\" style=\"width: 300px;\"/> <br>\n",
    "\n",
    "\n",
    "where n stands for the sample size and p for the number of the regressors."
   ]
  },
  {
   "cell_type": "code",
   "execution_count": 86,
   "metadata": {},
   "outputs": [
    {
     "data": {
      "text/plain": [
       "-0.053884628389635036"
      ]
     },
     "execution_count": 86,
     "metadata": {},
     "output_type": "execute_result"
    }
   ],
   "source": [
    "r2 = r2_score(y_val, y_pred)\n",
    "n = len(y_val)\n",
    "p = len(X_train.columns)\n",
    "\n",
    "def adj_r2 (r2,n,p):\n",
    "    return 1-(1-r2)*(n-1)/(n-p-1)\n",
    "\n",
    "adj_r2(r2,n,p)"
   ]
  },
  {
   "cell_type": "markdown",
   "metadata": {},
   "source": [
    "### 5.1.2 Dataset Essencials"
   ]
  },
  {
   "cell_type": "code",
   "execution_count": 87,
   "metadata": {},
   "outputs": [],
   "source": [
    "#Essencials dataset\n",
    "train_b = train_upd_b.iloc[:,:-1]\n",
    "target_b = train_upd_b.iloc[:,-1]"
   ]
  },
  {
   "cell_type": "code",
   "execution_count": 88,
   "metadata": {},
   "outputs": [],
   "source": [
    "# dividing Essencial dataset into train and validation. \n",
    "X_train, X_val, y_train, y_val = train_test_split(train_b,target_b, test_size=0.2, random_state=0, stratify=target_b) "
   ]
  },
  {
   "cell_type": "code",
   "execution_count": 89,
   "metadata": {},
   "outputs": [],
   "source": [
    "log_model = LogisticRegression()"
   ]
  },
  {
   "cell_type": "code",
   "execution_count": 90,
   "metadata": {},
   "outputs": [
    {
     "data": {
      "text/plain": [
       "LogisticRegression()"
      ]
     },
     "execution_count": 90,
     "metadata": {},
     "output_type": "execute_result"
    }
   ],
   "source": [
    "log_model.fit(X_train,y_train)"
   ]
  },
  {
   "cell_type": "code",
   "execution_count": 91,
   "metadata": {},
   "outputs": [],
   "source": [
    "y_pred = log_model.predict(X_val)\n",
    "#y_pred"
   ]
  },
  {
   "cell_type": "code",
   "execution_count": 92,
   "metadata": {},
   "outputs": [],
   "source": [
    "pred_prob = log_model.predict_proba(X_val)\n",
    "#pred_prob"
   ]
  },
  {
   "cell_type": "code",
   "execution_count": 93,
   "metadata": {},
   "outputs": [
    {
     "data": {
      "text/plain": [
       "array([[ 0.16010102, -0.09877765, -0.21262079,  0.28412429,  0.00919461,\n",
       "         0.36697785,  0.0235715 ,  0.02907623,  0.02918999]])"
      ]
     },
     "execution_count": 93,
     "metadata": {},
     "output_type": "execute_result"
    }
   ],
   "source": [
    "log_model.coef_"
   ]
  },
  {
   "cell_type": "code",
   "execution_count": 94,
   "metadata": {},
   "outputs": [
    {
     "data": {
      "text/plain": [
       "array([[ 72,  70],\n",
       "       [ 29, 196]], dtype=int64)"
      ]
     },
     "execution_count": 94,
     "metadata": {},
     "output_type": "execute_result"
    }
   ],
   "source": [
    "cm = confusion_matrix(y_val, y_pred)\n",
    "cm"
   ]
  },
  {
   "cell_type": "code",
   "execution_count": 95,
   "metadata": {},
   "outputs": [
    {
     "data": {
      "text/plain": [
       "0.7302452316076294"
      ]
     },
     "execution_count": 95,
     "metadata": {},
     "output_type": "execute_result"
    }
   ],
   "source": [
    "accuracy = accuracy_score(y_val, y_pred)\n",
    "accuracy"
   ]
  },
  {
   "cell_type": "code",
   "execution_count": 96,
   "metadata": {},
   "outputs": [
    {
     "data": {
      "text/plain": [
       "0.7368421052631579"
      ]
     },
     "execution_count": 96,
     "metadata": {},
     "output_type": "execute_result"
    }
   ],
   "source": [
    "precision = precision_score(y_val, y_pred)\n",
    "precision"
   ]
  },
  {
   "cell_type": "code",
   "execution_count": 97,
   "metadata": {},
   "outputs": [
    {
     "data": {
      "text/plain": [
       "0.8711111111111111"
      ]
     },
     "execution_count": 97,
     "metadata": {},
     "output_type": "execute_result"
    }
   ],
   "source": [
    "recall_score(y_val, y_pred)"
   ]
  },
  {
   "cell_type": "code",
   "execution_count": 98,
   "metadata": {},
   "outputs": [
    {
     "data": {
      "text/plain": [
       "0.7983706720977597"
      ]
     },
     "execution_count": 98,
     "metadata": {},
     "output_type": "execute_result"
    }
   ],
   "source": [
    "f1 = f1_score(y_val, y_pred)\n",
    "f1"
   ]
  },
  {
   "cell_type": "code",
   "execution_count": 99,
   "metadata": {},
   "outputs": [
    {
     "name": "stdout",
     "output_type": "stream",
     "text": [
      "Results on the validation set:\n",
      "              precision    recall  f1-score   support\n",
      "\n",
      "           0       0.71      0.51      0.59       142\n",
      "           1       0.74      0.87      0.80       225\n",
      "\n",
      "    accuracy                           0.73       367\n",
      "   macro avg       0.72      0.69      0.70       367\n",
      "weighted avg       0.73      0.73      0.72       367\n",
      "\n"
     ]
    }
   ],
   "source": [
    "print('Results on the validation set:')\n",
    "print(\n",
    "    # write your code in here\n",
    "    classification_report(y_true = y_val, y_pred = y_pred)\n",
    ")"
   ]
  },
  {
   "cell_type": "markdown",
   "metadata": {},
   "source": [
    "### Performance measures"
   ]
  },
  {
   "cell_type": "code",
   "execution_count": 100,
   "metadata": {},
   "outputs": [
    {
     "data": {
      "text/plain": [
       "-0.13718309859154942"
      ]
     },
     "execution_count": 100,
     "metadata": {},
     "output_type": "execute_result"
    }
   ],
   "source": [
    "# R2\n",
    "\n",
    "r2_score(y_val, y_pred)"
   ]
  },
  {
   "cell_type": "code",
   "execution_count": 101,
   "metadata": {},
   "outputs": [
    {
     "data": {
      "text/plain": [
       "-0.1658515800686473"
      ]
     },
     "execution_count": 101,
     "metadata": {},
     "output_type": "execute_result"
    }
   ],
   "source": [
    "# Adjusted R2\n",
    "\n",
    "r2 = r2_score(y_val, y_pred)\n",
    "n = len(y_val)\n",
    "p = len(X_train.columns)\n",
    "\n",
    "def adj_r2 (r2,n,p):\n",
    "    return 1-(1-r2)*(n-1)/(n-p-1)\n",
    "\n",
    "adj_r2(r2,n,p)"
   ]
  },
  {
   "cell_type": "markdown",
   "metadata": {},
   "source": [
    "### 5.1.2 Dataset Ticket Buyers"
   ]
  },
  {
   "cell_type": "code",
   "execution_count": 102,
   "metadata": {},
   "outputs": [],
   "source": [
    "#Ticket buyers\n",
    "train_c = train_upd_c.iloc[:,:-1]\n",
    "target_c = train_upd_c.iloc[:,-1]"
   ]
  },
  {
   "cell_type": "code",
   "execution_count": 103,
   "metadata": {},
   "outputs": [],
   "source": [
    "# dividing Essencial dataset into train and validation. \n",
    "X_train, X_val, y_train, y_val = train_test_split(train_c,target_c, test_size=0.2, random_state=0, stratify=target_c) "
   ]
  },
  {
   "cell_type": "code",
   "execution_count": 104,
   "metadata": {},
   "outputs": [],
   "source": [
    "log_model = LogisticRegression()"
   ]
  },
  {
   "cell_type": "code",
   "execution_count": 105,
   "metadata": {},
   "outputs": [
    {
     "data": {
      "text/plain": [
       "LogisticRegression()"
      ]
     },
     "execution_count": 105,
     "metadata": {},
     "output_type": "execute_result"
    }
   ],
   "source": [
    "log_model.fit(X_train,y_train)"
   ]
  },
  {
   "cell_type": "code",
   "execution_count": 106,
   "metadata": {},
   "outputs": [],
   "source": [
    "y_pred = log_model.predict(X_val)\n",
    "#y_pred"
   ]
  },
  {
   "cell_type": "code",
   "execution_count": 107,
   "metadata": {},
   "outputs": [],
   "source": [
    "pred_prob = log_model.predict_proba(X_val)\n",
    "#pred_prob"
   ]
  },
  {
   "cell_type": "code",
   "execution_count": 108,
   "metadata": {},
   "outputs": [
    {
     "data": {
      "text/plain": [
       "array([[ 0.0730893 , -0.07116122, -0.32400253,  0.50358939,  0.34815191,\n",
       "         0.09876325,  0.02568445]])"
      ]
     },
     "execution_count": 108,
     "metadata": {},
     "output_type": "execute_result"
    }
   ],
   "source": [
    "log_model.coef_"
   ]
  },
  {
   "cell_type": "code",
   "execution_count": 109,
   "metadata": {},
   "outputs": [
    {
     "data": {
      "text/plain": [
       "array([[70, 34],\n",
       "       [25, 83]], dtype=int64)"
      ]
     },
     "execution_count": 109,
     "metadata": {},
     "output_type": "execute_result"
    }
   ],
   "source": [
    "cm = confusion_matrix(y_val, y_pred)\n",
    "cm"
   ]
  },
  {
   "cell_type": "code",
   "execution_count": 110,
   "metadata": {},
   "outputs": [
    {
     "data": {
      "text/plain": [
       "0.7216981132075472"
      ]
     },
     "execution_count": 110,
     "metadata": {},
     "output_type": "execute_result"
    }
   ],
   "source": [
    "accuracy = accuracy_score(y_val, y_pred)\n",
    "accuracy"
   ]
  },
  {
   "cell_type": "code",
   "execution_count": 111,
   "metadata": {},
   "outputs": [
    {
     "data": {
      "text/plain": [
       "0.7094017094017094"
      ]
     },
     "execution_count": 111,
     "metadata": {},
     "output_type": "execute_result"
    }
   ],
   "source": [
    "precision = precision_score(y_val, y_pred)\n",
    "precision"
   ]
  },
  {
   "cell_type": "code",
   "execution_count": 112,
   "metadata": {},
   "outputs": [
    {
     "data": {
      "text/plain": [
       "0.7685185185185185"
      ]
     },
     "execution_count": 112,
     "metadata": {},
     "output_type": "execute_result"
    }
   ],
   "source": [
    "recall_score(y_val, y_pred)"
   ]
  },
  {
   "cell_type": "code",
   "execution_count": 113,
   "metadata": {},
   "outputs": [
    {
     "data": {
      "text/plain": [
       "0.7377777777777778"
      ]
     },
     "execution_count": 113,
     "metadata": {},
     "output_type": "execute_result"
    }
   ],
   "source": [
    "f1 = f1_score(y_val, y_pred)\n",
    "f1"
   ]
  },
  {
   "cell_type": "code",
   "execution_count": 114,
   "metadata": {},
   "outputs": [
    {
     "name": "stdout",
     "output_type": "stream",
     "text": [
      "Results on the validation set:\n",
      "              precision    recall  f1-score   support\n",
      "\n",
      "           0       0.74      0.67      0.70       104\n",
      "           1       0.71      0.77      0.74       108\n",
      "\n",
      "    accuracy                           0.72       212\n",
      "   macro avg       0.72      0.72      0.72       212\n",
      "weighted avg       0.72      0.72      0.72       212\n",
      "\n"
     ]
    }
   ],
   "source": [
    "print('Results on the validation set:')\n",
    "print(\n",
    "    # write your code in here\n",
    "    classification_report(y_true = y_val, y_pred = y_pred)\n",
    ")"
   ]
  },
  {
   "cell_type": "markdown",
   "metadata": {},
   "source": [
    "# 4.3 Testing Data"
   ]
  },
  {
   "cell_type": "code",
   "execution_count": null,
   "metadata": {},
   "outputs": [],
   "source": []
  },
  {
   "cell_type": "markdown",
   "metadata": {},
   "source": [
    "# 5) Applying ML techniques"
   ]
  },
  {
   "cell_type": "code",
   "execution_count": null,
   "metadata": {},
   "outputs": [],
   "source": []
  },
  {
   "cell_type": "markdown",
   "metadata": {},
   "source": [
    "# 6) Training"
   ]
  },
  {
   "cell_type": "code",
   "execution_count": null,
   "metadata": {},
   "outputs": [],
   "source": []
  },
  {
   "cell_type": "markdown",
   "metadata": {},
   "source": [
    "# 7) Evaluation / Assessment"
   ]
  },
  {
   "cell_type": "code",
   "execution_count": null,
   "metadata": {},
   "outputs": [],
   "source": []
  },
  {
   "cell_type": "markdown",
   "metadata": {},
   "source": [
    "# 8) Testing across the ML algos tested above"
   ]
  },
  {
   "cell_type": "code",
   "execution_count": null,
   "metadata": {},
   "outputs": [],
   "source": []
  },
  {
   "cell_type": "markdown",
   "metadata": {},
   "source": [
    "# 9) Adding to the analysis other ML algos"
   ]
  },
  {
   "cell_type": "code",
   "execution_count": null,
   "metadata": {},
   "outputs": [],
   "source": []
  },
  {
   "cell_type": "markdown",
   "metadata": {},
   "source": [
    "# 10) Optimization"
   ]
  },
  {
   "cell_type": "code",
   "execution_count": null,
   "metadata": {},
   "outputs": [],
   "source": []
  },
  {
   "cell_type": "markdown",
   "metadata": {},
   "source": [
    "# 11) Conclussion"
   ]
  },
  {
   "cell_type": "code",
   "execution_count": null,
   "metadata": {},
   "outputs": [],
   "source": []
  }
 ],
 "metadata": {
  "kernelspec": {
   "display_name": "Python 3",
   "language": "python",
   "name": "python3"
  },
  "language_info": {
   "codemirror_mode": {
    "name": "ipython",
    "version": 3
   },
   "file_extension": ".py",
   "mimetype": "text/x-python",
   "name": "python",
   "nbconvert_exporter": "python",
   "pygments_lexer": "ipython3",
   "version": "3.8.5"
  }
 },
 "nbformat": 4,
 "nbformat_minor": 4
}
