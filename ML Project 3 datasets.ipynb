{
 "cells": [
  {
   "cell_type": "markdown",
   "metadata": {},
   "source": [
    "# Machine Learning Project 2020-2021"
   ]
  },
  {
   "cell_type": "markdown",
   "metadata": {},
   "source": [
    "# Setup Environment\n",
    "Before running this notebook, the user needs to configure a separate conda environment in order to reproduce the results obtained. An environment.yml file is provided in the project repository with this objective. By creating a conda environment through the yml file, the user will be able to run the whole project without issues. Besides, the user also need to install an additional package from a personal github repository since it is not available in pypi nor in conda repositories.\n",
    "\n",
    "In order to create the environment the user needs to run the following commands in the anaconda prompt: **conda env create -f \\<path to environment.yml>**. Afterwards, the user needs to activate the created environment: **conda activate ml** and initialize the jupyter notebook: **jupyter notebook**."
   ]
  },
  {
   "cell_type": "code",
   "execution_count": 1,
   "metadata": {},
   "outputs": [],
   "source": [
    "import sys\n",
    "#!{sys.executable} -m pip install git+https://github.com/johnruiz24/ML_Project "
   ]
  },
  {
   "cell_type": "markdown",
   "metadata": {},
   "source": [
    "## 1 - Importing Packages"
   ]
  },
  {
   "cell_type": "code",
   "execution_count": 154,
   "metadata": {},
   "outputs": [],
   "source": [
    "import os\n",
    "import warnings\n",
    "import numpy as np\n",
    "import pandas as pd\n",
    "import seaborn as sns\n",
    "from datetime import datetime\n",
    "from datetime import date, timedelta\n",
    "import matplotlib.pyplot as plt\n",
    "#EDA Libraries\n",
    "import dtale\n",
    "import sweetviz as sv\n",
    "import pandas_profiling\n",
    "from pandas_profiling import ProfileReport\n",
    "#ML Libraries\n",
    "from sklearn.linear_model import LassoCV\n",
    "from sklearn.linear_model import RidgeClassifierCV\n",
    "from sklearn.feature_selection import RFE\n",
    "from sklearn.linear_model import LogisticRegression\n",
    "from sklearn.model_selection import train_test_split\n",
    "from sklearn.preprocessing import OrdinalEncoder\n",
    "from sklearn.linear_model import RidgeClassifier\n",
    "from sklearn.experimental import enable_iterative_imputer\n",
    "from sklearn.impute import IterativeImputer\n",
    "from sklearn.metrics import confusion_matrix\n",
    "from sklearn.metrics import accuracy_score\n",
    "from sklearn.metrics import precision_score\n",
    "from sklearn.metrics import recall_score\n",
    "from sklearn.metrics import f1_score\n",
    "from sklearn.metrics import classification_report, confusion_matrix\n",
    "\n",
    "import sklearn.preprocessing as prep\n",
    "import sklearn.covariance as cov #Elliptic Envelop\n",
    "from scipy.stats import chi2\n",
    "\n",
    "%matplotlib inline\n",
    "warnings.filterwarnings('ignore')\n",
    "%config InlineBackend.figure_format = 'retina'"
   ]
  },
  {
   "cell_type": "markdown",
   "metadata": {},
   "source": [
    "# 2 - Data Import and integration"
   ]
  },
  {
   "cell_type": "code",
   "execution_count": 2,
   "metadata": {},
   "outputs": [],
   "source": [
    "train =pd.read_excel(os.path.join(os.getcwd(),'Train.xlsx'))"
   ]
  },
  {
   "cell_type": "code",
   "execution_count": 4,
   "metadata": {},
   "outputs": [],
   "source": [
    "#train"
   ]
  },
  {
   "cell_type": "code",
   "execution_count": 3,
   "metadata": {},
   "outputs": [],
   "source": [
    "test=pd.read_excel(os.path.join(os.getcwd(),'Test.xlsx'))"
   ]
  },
  {
   "cell_type": "markdown",
   "metadata": {},
   "source": [
    "# 3 - Exploring Data"
   ]
  },
  {
   "cell_type": "code",
   "execution_count": 6,
   "metadata": {},
   "outputs": [
    {
     "data": {
      "text/plain": [
       "(22400, 15)"
      ]
     },
     "execution_count": 6,
     "metadata": {},
     "output_type": "execute_result"
    }
   ],
   "source": [
    "#Dimension of the training dataset\n",
    "train.shape"
   ]
  },
  {
   "cell_type": "code",
   "execution_count": 7,
   "metadata": {},
   "outputs": [
    {
     "data": {
      "text/plain": [
       "(10100, 14)"
      ]
     },
     "execution_count": 7,
     "metadata": {},
     "output_type": "execute_result"
    }
   ],
   "source": [
    "#Dimension of the testing data\n",
    "test.shape"
   ]
  },
  {
   "cell_type": "code",
   "execution_count": 8,
   "metadata": {},
   "outputs": [
    {
     "name": "stdout",
     "output_type": "stream",
     "text": [
      "<class 'pandas.core.frame.DataFrame'>\n",
      "RangeIndex: 22400 entries, 0 to 22399\n",
      "Data columns (total 15 columns):\n",
      " #   Column                  Non-Null Count  Dtype \n",
      "---  ------                  --------------  ----- \n",
      " 0   CITIZEN_ID              22400 non-null  int64 \n",
      " 1   Name                    22400 non-null  object\n",
      " 2   Birthday                22400 non-null  object\n",
      " 3   Native Continent        22400 non-null  object\n",
      " 4   Marital Status          22400 non-null  object\n",
      " 5   Lives with              22400 non-null  object\n",
      " 6   Base Area               22400 non-null  object\n",
      " 7   Education Level         22400 non-null  object\n",
      " 8   Years of Education      22400 non-null  int64 \n",
      " 9   Employment Sector       22400 non-null  object\n",
      " 10  Role                    22400 non-null  object\n",
      " 11  Working Hours per week  22400 non-null  int64 \n",
      " 12  Money Received          22400 non-null  int64 \n",
      " 13  Ticket Price            22400 non-null  int64 \n",
      " 14  Income                  22400 non-null  int64 \n",
      "dtypes: int64(6), object(9)\n",
      "memory usage: 2.6+ MB\n"
     ]
    }
   ],
   "source": [
    "#Data types for the train dataset \n",
    "train.info(verbose=True)"
   ]
  },
  {
   "cell_type": "code",
   "execution_count": 9,
   "metadata": {},
   "outputs": [
    {
     "name": "stdout",
     "output_type": "stream",
     "text": [
      "<class 'pandas.core.frame.DataFrame'>\n",
      "RangeIndex: 10100 entries, 0 to 10099\n",
      "Data columns (total 14 columns):\n",
      " #   Column                  Non-Null Count  Dtype \n",
      "---  ------                  --------------  ----- \n",
      " 0   CITIZEN_ID              10100 non-null  int64 \n",
      " 1   Name                    10100 non-null  object\n",
      " 2   Birthday                10100 non-null  object\n",
      " 3   Native Continent        10100 non-null  object\n",
      " 4   Marital Status          10100 non-null  object\n",
      " 5   Lives with              10100 non-null  object\n",
      " 6   Base Area               10100 non-null  object\n",
      " 7   Education Level         10100 non-null  object\n",
      " 8   Years of Education      10100 non-null  int64 \n",
      " 9   Employment Sector       10100 non-null  object\n",
      " 10  Role                    10100 non-null  object\n",
      " 11  Working Hours per week  10100 non-null  int64 \n",
      " 12  Money Received          10100 non-null  int64 \n",
      " 13  Ticket Price            10100 non-null  int64 \n",
      "dtypes: int64(5), object(9)\n",
      "memory usage: 1.1+ MB\n"
     ]
    }
   ],
   "source": [
    "#Data types for the testing dataset \n",
    "test.info(verbose=True)"
   ]
  },
  {
   "cell_type": "code",
   "execution_count": 10,
   "metadata": {},
   "outputs": [
    {
     "data": {
      "text/plain": [
       "False"
      ]
     },
     "execution_count": 10,
     "metadata": {},
     "output_type": "execute_result"
    }
   ],
   "source": [
    "#Check duplicates\n",
    "any(train.duplicated())"
   ]
  },
  {
   "cell_type": "code",
   "execution_count": 11,
   "metadata": {},
   "outputs": [
    {
     "data": {
      "text/plain": [
       "False"
      ]
     },
     "execution_count": 11,
     "metadata": {},
     "output_type": "execute_result"
    }
   ],
   "source": [
    "#Check duplicates\n",
    "any(test.duplicated())"
   ]
  },
  {
   "cell_type": "code",
   "execution_count": 4,
   "metadata": {},
   "outputs": [],
   "source": [
    "# after a first inspection of the train data excel file, we found out that some columns are the following string: '?' so bellow we check the quantity of '?' string and what columns have them. \n",
    "def checkdf_character(df,char): \n",
    "    for i in range(len(df.columns)):\n",
    "        #Printing the column names, number of rows & percentage of rows from the dataset\n",
    "        #Further details will be printed in the next lines through the utilization of EDA tools\n",
    "        size=len(df.loc[df.iloc[:,i].astype(str).str.startswith('?')])\n",
    "        if size>0:\n",
    "            print('------------------------------------------')\n",
    "            print('Column: {}{}Number of Rows: {}{}Percentage: {}%'.format(df.columns[i],'\\n',size,'\\n',round(size/len(df)*100,2)))"
   ]
  },
  {
   "cell_type": "code",
   "execution_count": 13,
   "metadata": {},
   "outputs": [
    {
     "name": "stdout",
     "output_type": "stream",
     "text": [
      "------------------------------------------\n",
      "Column: Base Area\n",
      "Number of Rows: 395\n",
      "Percentage: 1.76%\n",
      "------------------------------------------\n",
      "Column: Employment Sector\n",
      "Number of Rows: 1264\n",
      "Percentage: 5.64%\n",
      "------------------------------------------\n",
      "Column: Role\n",
      "Number of Rows: 1271\n",
      "Percentage: 5.67%\n"
     ]
    }
   ],
   "source": [
    "#Data inspection shows that the train dataset has rows with question mark '?' character\n",
    "checkdf_character(train,'?')"
   ]
  },
  {
   "cell_type": "code",
   "execution_count": 14,
   "metadata": {},
   "outputs": [
    {
     "name": "stdout",
     "output_type": "stream",
     "text": [
      "------------------------------------------\n",
      "Column: Base Area\n",
      "Number of Rows: 187\n",
      "Percentage: 1.85%\n",
      "------------------------------------------\n",
      "Column: Employment Sector\n",
      "Number of Rows: 570\n",
      "Percentage: 5.64%\n",
      "------------------------------------------\n",
      "Column: Role\n",
      "Number of Rows: 570\n",
      "Percentage: 5.64%\n"
     ]
    }
   ],
   "source": [
    "#Data inspection shows that the test dataset has rows with question mark '?' character\n",
    "checkdf_character(test,'?')"
   ]
  },
  {
   "cell_type": "code",
   "execution_count": 15,
   "metadata": {},
   "outputs": [
    {
     "data": {
      "text/plain": [
       "0    22400\n",
       "dtype: int64"
      ]
     },
     "execution_count": 15,
     "metadata": {},
     "output_type": "execute_result"
    }
   ],
   "source": [
    "#Frequencies of number of missing values across rows\n",
    "train.isna().apply(lambda x:sum(x), axis=1).value_counts().sort_index()"
   ]
  },
  {
   "cell_type": "code",
   "execution_count": 16,
   "metadata": {},
   "outputs": [
    {
     "data": {
      "text/plain": [
       "0    10100\n",
       "dtype: int64"
      ]
     },
     "execution_count": 16,
     "metadata": {},
     "output_type": "execute_result"
    }
   ],
   "source": [
    "#Frequencies of number of missing values across rows\n",
    "test.isna().apply(lambda x:sum(x), axis=1).value_counts().sort_index()"
   ]
  },
  {
   "cell_type": "markdown",
   "metadata": {},
   "source": [
    "- Identify the outliers before going to the data preparation ? "
   ]
  },
  {
   "cell_type": "code",
   "execution_count": 17,
   "metadata": {},
   "outputs": [],
   "source": [
    "#dtale.show(train)"
   ]
  },
  {
   "cell_type": "markdown",
   "metadata": {},
   "source": [
    "# 4 - Modify the Data / Data Preparation "
   ]
  },
  {
   "cell_type": "markdown",
   "metadata": {},
   "source": [
    "# 4.1 Creating two new features from existing variables."
   ]
  },
  {
   "cell_type": "markdown",
   "metadata": {},
   "source": [
    "### 4.1.1 - Creating Gender from the variable Name, 0 for male and 1 for female."
   ]
  },
  {
   "cell_type": "code",
   "execution_count": 5,
   "metadata": {},
   "outputs": [],
   "source": [
    "train_upd = train.copy()"
   ]
  },
  {
   "cell_type": "code",
   "execution_count": 19,
   "metadata": {},
   "outputs": [
    {
     "name": "stdout",
     "output_type": "stream",
     "text": [
      "------------------------------------------\n",
      "Column: Base Area\n",
      "Number of Rows: 395\n",
      "Percentage: 1.76%\n",
      "------------------------------------------\n",
      "Column: Employment Sector\n",
      "Number of Rows: 1264\n",
      "Percentage: 5.64%\n",
      "------------------------------------------\n",
      "Column: Role\n",
      "Number of Rows: 1271\n",
      "Percentage: 5.67%\n"
     ]
    }
   ],
   "source": [
    "checkdf_character(train_upd,'?')"
   ]
  },
  {
   "cell_type": "code",
   "execution_count": 6,
   "metadata": {},
   "outputs": [],
   "source": [
    "train_upd.insert(2,'Gender',train_upd['Name'].str.slice(0,4).str.replace('.','').str.replace(' ',''))"
   ]
  },
  {
   "cell_type": "code",
   "execution_count": 7,
   "metadata": {},
   "outputs": [],
   "source": [
    "train_upd['Gender']=train_upd['Gender'].apply(lambda i: 0 if i=='Mr' else 1)"
   ]
  },
  {
   "cell_type": "code",
   "execution_count": 8,
   "metadata": {},
   "outputs": [
    {
     "data": {
      "text/plain": [
       "array([0, 1], dtype=int64)"
      ]
     },
     "execution_count": 8,
     "metadata": {},
     "output_type": "execute_result"
    }
   ],
   "source": [
    "train_upd['Gender'].unique()"
   ]
  },
  {
   "cell_type": "markdown",
   "metadata": {},
   "source": [
    "### 4.1.2 - Creating Age from the variable Birthday"
   ]
  },
  {
   "cell_type": "code",
   "execution_count": 9,
   "metadata": {},
   "outputs": [],
   "source": [
    "train_upd.insert(4,'Age',pd.Series([]))\n",
    "for i,j in enumerate(list(train_upd['Birthday'].values)):\n",
    "    try:\n",
    "        train_upd['Age'][i]=np.round((datetime.now()+timedelta(days=10228)-datetime.strptime(j.replace(' ',''),'%B%d,%Y'))/timedelta(days=365.2425))\n",
    "    except ValueError:\n",
    "        train_upd['Age'][i]=np.round((datetime.now()+timedelta(days=10228)-datetime.strptime(j.replace(' ','').replace('9','8'),'%B%d,%Y'))/timedelta(days=365.2425))"
   ]
  },
  {
   "cell_type": "code",
   "execution_count": 10,
   "metadata": {},
   "outputs": [],
   "source": [
    "train_upd['Age']=train_upd['Age'].astype('uint8')"
   ]
  },
  {
   "cell_type": "code",
   "execution_count": 11,
   "metadata": {},
   "outputs": [
    {
     "data": {
      "text/html": [
       "<div>\n",
       "<style scoped>\n",
       "    .dataframe tbody tr th:only-of-type {\n",
       "        vertical-align: middle;\n",
       "    }\n",
       "\n",
       "    .dataframe tbody tr th {\n",
       "        vertical-align: top;\n",
       "    }\n",
       "\n",
       "    .dataframe thead th {\n",
       "        text-align: right;\n",
       "    }\n",
       "</style>\n",
       "<table border=\"1\" class=\"dataframe\">\n",
       "  <thead>\n",
       "    <tr style=\"text-align: right;\">\n",
       "      <th></th>\n",
       "      <th>CITIZEN_ID</th>\n",
       "      <th>Name</th>\n",
       "      <th>Gender</th>\n",
       "      <th>Birthday</th>\n",
       "      <th>Age</th>\n",
       "      <th>Native Continent</th>\n",
       "      <th>Marital Status</th>\n",
       "      <th>Lives with</th>\n",
       "      <th>Base Area</th>\n",
       "      <th>Education Level</th>\n",
       "      <th>Years of Education</th>\n",
       "      <th>Employment Sector</th>\n",
       "      <th>Role</th>\n",
       "      <th>Working Hours per week</th>\n",
       "      <th>Money Received</th>\n",
       "      <th>Ticket Price</th>\n",
       "      <th>Income</th>\n",
       "    </tr>\n",
       "  </thead>\n",
       "  <tbody>\n",
       "    <tr>\n",
       "      <th>0</th>\n",
       "      <td>12486</td>\n",
       "      <td>Mr. Adam Glover</td>\n",
       "      <td>0</td>\n",
       "      <td>July 1,2003</td>\n",
       "      <td>45</td>\n",
       "      <td>Europe</td>\n",
       "      <td>Married</td>\n",
       "      <td>Wife</td>\n",
       "      <td>Northbury</td>\n",
       "      <td>High School + PostGraduation</td>\n",
       "      <td>13</td>\n",
       "      <td>Private Sector - Services</td>\n",
       "      <td>Repair &amp; constructions</td>\n",
       "      <td>40</td>\n",
       "      <td>0</td>\n",
       "      <td>2273</td>\n",
       "      <td>1</td>\n",
       "    </tr>\n",
       "    <tr>\n",
       "      <th>1</th>\n",
       "      <td>12487</td>\n",
       "      <td>Mr. Cameron McDonald</td>\n",
       "      <td>0</td>\n",
       "      <td>January 25,2006</td>\n",
       "      <td>43</td>\n",
       "      <td>Europe</td>\n",
       "      <td>Married</td>\n",
       "      <td>Wife</td>\n",
       "      <td>Northbury</td>\n",
       "      <td>Professional School</td>\n",
       "      <td>12</td>\n",
       "      <td>Public Sector - Others</td>\n",
       "      <td>Repair &amp; constructions</td>\n",
       "      <td>40</td>\n",
       "      <td>0</td>\n",
       "      <td>0</td>\n",
       "      <td>1</td>\n",
       "    </tr>\n",
       "    <tr>\n",
       "      <th>2</th>\n",
       "      <td>12488</td>\n",
       "      <td>Mr. Keith Davidson</td>\n",
       "      <td>0</td>\n",
       "      <td>May 10,2009</td>\n",
       "      <td>40</td>\n",
       "      <td>Europe</td>\n",
       "      <td>Married</td>\n",
       "      <td>Wife</td>\n",
       "      <td>Northbury</td>\n",
       "      <td>Professional School</td>\n",
       "      <td>12</td>\n",
       "      <td>Private Sector - Services</td>\n",
       "      <td>Sales</td>\n",
       "      <td>46</td>\n",
       "      <td>0</td>\n",
       "      <td>2321</td>\n",
       "      <td>1</td>\n",
       "    </tr>\n",
       "    <tr>\n",
       "      <th>3</th>\n",
       "      <td>12489</td>\n",
       "      <td>Mr. Alexander Gill</td>\n",
       "      <td>0</td>\n",
       "      <td>March 25,1985</td>\n",
       "      <td>64</td>\n",
       "      <td>Europe</td>\n",
       "      <td>Married</td>\n",
       "      <td>Wife</td>\n",
       "      <td>Northbury</td>\n",
       "      <td>High School - 2nd Cycle</td>\n",
       "      <td>11</td>\n",
       "      <td>Private Sector - Services</td>\n",
       "      <td>Security</td>\n",
       "      <td>37</td>\n",
       "      <td>5395</td>\n",
       "      <td>0</td>\n",
       "      <td>1</td>\n",
       "    </tr>\n",
       "    <tr>\n",
       "      <th>4</th>\n",
       "      <td>12490</td>\n",
       "      <td>Mr. Neil Piper</td>\n",
       "      <td>0</td>\n",
       "      <td>May 29,2015</td>\n",
       "      <td>34</td>\n",
       "      <td>Europe</td>\n",
       "      <td>Single</td>\n",
       "      <td>Other Family</td>\n",
       "      <td>Northbury</td>\n",
       "      <td>PhD</td>\n",
       "      <td>21</td>\n",
       "      <td>Self-Employed (Individual)</td>\n",
       "      <td>Professor</td>\n",
       "      <td>45</td>\n",
       "      <td>0</td>\n",
       "      <td>0</td>\n",
       "      <td>1</td>\n",
       "    </tr>\n",
       "    <tr>\n",
       "      <th>...</th>\n",
       "      <td>...</td>\n",
       "      <td>...</td>\n",
       "      <td>...</td>\n",
       "      <td>...</td>\n",
       "      <td>...</td>\n",
       "      <td>...</td>\n",
       "      <td>...</td>\n",
       "      <td>...</td>\n",
       "      <td>...</td>\n",
       "      <td>...</td>\n",
       "      <td>...</td>\n",
       "      <td>...</td>\n",
       "      <td>...</td>\n",
       "      <td>...</td>\n",
       "      <td>...</td>\n",
       "      <td>...</td>\n",
       "      <td>...</td>\n",
       "    </tr>\n",
       "    <tr>\n",
       "      <th>22395</th>\n",
       "      <td>34881</td>\n",
       "      <td>Mrs. Lisa Alsop</td>\n",
       "      <td>1</td>\n",
       "      <td>March 15,2023</td>\n",
       "      <td>26</td>\n",
       "      <td>Europe</td>\n",
       "      <td>Divorced</td>\n",
       "      <td>Children</td>\n",
       "      <td>Northbury</td>\n",
       "      <td>Professional School</td>\n",
       "      <td>12</td>\n",
       "      <td>Private Sector - Services</td>\n",
       "      <td>Cleaners &amp; Handlers</td>\n",
       "      <td>40</td>\n",
       "      <td>0</td>\n",
       "      <td>0</td>\n",
       "      <td>0</td>\n",
       "    </tr>\n",
       "    <tr>\n",
       "      <th>22396</th>\n",
       "      <td>34882</td>\n",
       "      <td>Mr. Julian Coleman</td>\n",
       "      <td>0</td>\n",
       "      <td>March 7,2025</td>\n",
       "      <td>24</td>\n",
       "      <td>Europe</td>\n",
       "      <td>Single</td>\n",
       "      <td>Children</td>\n",
       "      <td>Northbury</td>\n",
       "      <td>Professional School</td>\n",
       "      <td>12</td>\n",
       "      <td>Private Sector - Services</td>\n",
       "      <td>Other services</td>\n",
       "      <td>35</td>\n",
       "      <td>0</td>\n",
       "      <td>0</td>\n",
       "      <td>0</td>\n",
       "    </tr>\n",
       "    <tr>\n",
       "      <th>22397</th>\n",
       "      <td>34883</td>\n",
       "      <td>Miss Amelia Walker</td>\n",
       "      <td>1</td>\n",
       "      <td>July 20,2022</td>\n",
       "      <td>26</td>\n",
       "      <td>Europe</td>\n",
       "      <td>Single</td>\n",
       "      <td>Other Family</td>\n",
       "      <td>Northbury</td>\n",
       "      <td>Masters</td>\n",
       "      <td>17</td>\n",
       "      <td>Public Sector - Others</td>\n",
       "      <td>Professor</td>\n",
       "      <td>40</td>\n",
       "      <td>2674</td>\n",
       "      <td>0</td>\n",
       "      <td>0</td>\n",
       "    </tr>\n",
       "    <tr>\n",
       "      <th>22398</th>\n",
       "      <td>34884</td>\n",
       "      <td>Mr. Justin Sutherland</td>\n",
       "      <td>0</td>\n",
       "      <td>June 11,2011</td>\n",
       "      <td>37</td>\n",
       "      <td>Europe</td>\n",
       "      <td>Single</td>\n",
       "      <td>Other Family</td>\n",
       "      <td>Northbury</td>\n",
       "      <td>Bachelors + PostGraduation</td>\n",
       "      <td>16</td>\n",
       "      <td>Private Sector - Services</td>\n",
       "      <td>Repair &amp; constructions</td>\n",
       "      <td>90</td>\n",
       "      <td>0</td>\n",
       "      <td>0</td>\n",
       "      <td>1</td>\n",
       "    </tr>\n",
       "    <tr>\n",
       "      <th>22399</th>\n",
       "      <td>34885</td>\n",
       "      <td>Mr. Joseph Murray</td>\n",
       "      <td>0</td>\n",
       "      <td>October 2,2026</td>\n",
       "      <td>22</td>\n",
       "      <td>Asia</td>\n",
       "      <td>Single</td>\n",
       "      <td>Children</td>\n",
       "      <td>Northbury</td>\n",
       "      <td>High School + PostGraduation</td>\n",
       "      <td>13</td>\n",
       "      <td>Private Sector - Services</td>\n",
       "      <td>Transports</td>\n",
       "      <td>40</td>\n",
       "      <td>0</td>\n",
       "      <td>0</td>\n",
       "      <td>0</td>\n",
       "    </tr>\n",
       "  </tbody>\n",
       "</table>\n",
       "<p>22400 rows × 17 columns</p>\n",
       "</div>"
      ],
      "text/plain": [
       "       CITIZEN_ID                   Name  Gender          Birthday  Age  \\\n",
       "0           12486        Mr. Adam Glover       0       July 1,2003   45   \n",
       "1           12487   Mr. Cameron McDonald       0   January 25,2006   43   \n",
       "2           12488     Mr. Keith Davidson       0       May 10,2009   40   \n",
       "3           12489     Mr. Alexander Gill       0     March 25,1985   64   \n",
       "4           12490         Mr. Neil Piper       0       May 29,2015   34   \n",
       "...           ...                    ...     ...               ...  ...   \n",
       "22395       34881        Mrs. Lisa Alsop       1     March 15,2023   26   \n",
       "22396       34882     Mr. Julian Coleman       0      March 7,2025   24   \n",
       "22397       34883     Miss Amelia Walker       1      July 20,2022   26   \n",
       "22398       34884  Mr. Justin Sutherland       0      June 11,2011   37   \n",
       "22399       34885      Mr. Joseph Murray       0    October 2,2026   22   \n",
       "\n",
       "      Native Continent Marital Status    Lives with  Base Area  \\\n",
       "0               Europe        Married          Wife  Northbury   \n",
       "1               Europe        Married          Wife  Northbury   \n",
       "2               Europe        Married          Wife  Northbury   \n",
       "3               Europe        Married          Wife  Northbury   \n",
       "4               Europe         Single  Other Family  Northbury   \n",
       "...                ...            ...           ...        ...   \n",
       "22395           Europe       Divorced      Children  Northbury   \n",
       "22396           Europe         Single      Children  Northbury   \n",
       "22397           Europe         Single  Other Family  Northbury   \n",
       "22398           Europe         Single  Other Family  Northbury   \n",
       "22399             Asia         Single      Children  Northbury   \n",
       "\n",
       "                    Education Level  Years of Education  \\\n",
       "0      High School + PostGraduation                  13   \n",
       "1               Professional School                  12   \n",
       "2               Professional School                  12   \n",
       "3           High School - 2nd Cycle                  11   \n",
       "4                               PhD                  21   \n",
       "...                             ...                 ...   \n",
       "22395           Professional School                  12   \n",
       "22396           Professional School                  12   \n",
       "22397                       Masters                  17   \n",
       "22398    Bachelors + PostGraduation                  16   \n",
       "22399  High School + PostGraduation                  13   \n",
       "\n",
       "                Employment Sector                    Role  \\\n",
       "0      Private Sector - Services   Repair & constructions   \n",
       "1          Public Sector - Others  Repair & constructions   \n",
       "2      Private Sector - Services                    Sales   \n",
       "3      Private Sector - Services                 Security   \n",
       "4      Self-Employed (Individual)               Professor   \n",
       "...                           ...                     ...   \n",
       "22395  Private Sector - Services      Cleaners & Handlers   \n",
       "22396  Private Sector - Services           Other services   \n",
       "22397      Public Sector - Others               Professor   \n",
       "22398  Private Sector - Services   Repair & constructions   \n",
       "22399  Private Sector - Services               Transports   \n",
       "\n",
       "       Working Hours per week  Money Received  Ticket Price  Income  \n",
       "0                          40               0          2273       1  \n",
       "1                          40               0             0       1  \n",
       "2                          46               0          2321       1  \n",
       "3                          37            5395             0       1  \n",
       "4                          45               0             0       1  \n",
       "...                       ...             ...           ...     ...  \n",
       "22395                      40               0             0       0  \n",
       "22396                      35               0             0       0  \n",
       "22397                      40            2674             0       0  \n",
       "22398                      90               0             0       1  \n",
       "22399                      40               0             0       0  \n",
       "\n",
       "[22400 rows x 17 columns]"
      ]
     },
     "execution_count": 11,
     "metadata": {},
     "output_type": "execute_result"
    }
   ],
   "source": [
    "train_upd"
   ]
  },
  {
   "cell_type": "markdown",
   "metadata": {},
   "source": [
    "# 4.2 - Filling the values with '?'"
   ]
  },
  {
   "cell_type": "code",
   "execution_count": 12,
   "metadata": {},
   "outputs": [
    {
     "data": {
      "text/plain": [
       "CITIZEN_ID                   0\n",
       "Name                         0\n",
       "Gender                       0\n",
       "Birthday                     0\n",
       "Age                          0\n",
       "Native Continent             0\n",
       "Marital Status               0\n",
       "Lives with                   0\n",
       "Base Area                  395\n",
       "Education Level              0\n",
       "Years of Education           0\n",
       "Employment Sector         1264\n",
       "Role                      1271\n",
       "Working Hours per week       0\n",
       "Money Received               0\n",
       "Ticket Price                 0\n",
       "Income                       0\n",
       "dtype: int64"
      ]
     },
     "execution_count": 12,
     "metadata": {},
     "output_type": "execute_result"
    }
   ],
   "source": [
    "# since we are using IterativeImputer() to fill the '?' string values we need to change them to NaN's so the algorigthm works.\n",
    "for i in [8,11,12]:\n",
    "    aIndex=np.array(train_upd[train_upd.iloc[:,i].astype(str).str.startswith('?')].iloc[:,i].index)\n",
    "    for j in aIndex:\n",
    "        train_upd.iloc[j,i]=np.nan\n",
    "\n",
    "train_upd.isna().sum()"
   ]
  },
  {
   "cell_type": "code",
   "execution_count": 13,
   "metadata": {},
   "outputs": [
    {
     "data": {
      "text/plain": [
       "array(['Name', 'Birthday', 'Native Continent', 'Marital Status',\n",
       "       'Lives with', 'Base Area', 'Education Level', 'Employment Sector',\n",
       "       'Role'], dtype=object)"
      ]
     },
     "execution_count": 13,
     "metadata": {},
     "output_type": "execute_result"
    }
   ],
   "source": [
    "#Creating a data frame with the categorical variables.\n",
    "#cat_col = train_upd.select_dtypes(include=['object']).columns.values # Because it does encode numeric features like years of education. \n",
    "cat_col = train_upd[['Name','Birthday','Native Continent','Marital Status','Lives with','Base Area','Education Level','Employment Sector','Role']].columns.values\n",
    "cat_col"
   ]
  },
  {
   "cell_type": "code",
   "execution_count": 14,
   "metadata": {},
   "outputs": [],
   "source": [
    "encoder = OrdinalEncoder()"
   ]
  },
  {
   "cell_type": "code",
   "execution_count": 15,
   "metadata": {},
   "outputs": [],
   "source": [
    "mice = IterativeImputer()"
   ]
  },
  {
   "cell_type": "code",
   "execution_count": 16,
   "metadata": {},
   "outputs": [],
   "source": [
    "def encode(data):\n",
    "    reshape = np.array(data.dropna()).reshape(-1,1)\n",
    "    ordinal = encoder.fit_transform(reshape)\n",
    "    data.loc[data.notnull()] = np.squeeze(ordinal)\n",
    "    return data"
   ]
  },
  {
   "cell_type": "code",
   "execution_count": 17,
   "metadata": {},
   "outputs": [],
   "source": [
    "# Not running for now.\n",
    "for col in cat_col: \n",
    "    encode(train_upd[col])"
   ]
  },
  {
   "cell_type": "code",
   "execution_count": 18,
   "metadata": {},
   "outputs": [],
   "source": [
    "#Filling NaN according to Mice algorigthm. \n",
    "train_upd=pd.DataFrame(np.round(mice.fit_transform(train_upd)),columns=train_upd.columns)"
   ]
  },
  {
   "cell_type": "code",
   "execution_count": 19,
   "metadata": {},
   "outputs": [
    {
     "data": {
      "text/plain": [
       "CITIZEN_ID                0\n",
       "Name                      0\n",
       "Gender                    0\n",
       "Birthday                  0\n",
       "Age                       0\n",
       "Native Continent          0\n",
       "Marital Status            0\n",
       "Lives with                0\n",
       "Base Area                 0\n",
       "Education Level           0\n",
       "Years of Education        0\n",
       "Employment Sector         0\n",
       "Role                      0\n",
       "Working Hours per week    0\n",
       "Money Received            0\n",
       "Ticket Price              0\n",
       "Income                    0\n",
       "dtype: int64"
      ]
     },
     "execution_count": 19,
     "metadata": {},
     "output_type": "execute_result"
    }
   ],
   "source": [
    "# double check to what was done.\n",
    "train_upd.isna().sum()"
   ]
  },
  {
   "cell_type": "code",
   "execution_count": 39,
   "metadata": {},
   "outputs": [],
   "source": [
    "#train_upd"
   ]
  },
  {
   "cell_type": "markdown",
   "metadata": {},
   "source": [
    "# 4.3 Removing the Outliers - Using mahalanobis"
   ]
  },
  {
   "cell_type": "code",
   "execution_count": 40,
   "metadata": {},
   "outputs": [],
   "source": [
    "#John needs to check. \n",
    "main_data = train_upd.copy().reset_index()\n",
    "main_data['id'] = main_data.index"
   ]
  },
  {
   "cell_type": "code",
   "execution_count": 41,
   "metadata": {},
   "outputs": [],
   "source": [
    "metric_data = main_data.loc[:,(np.array(main_data.dtypes==\"float64\")) | (np.array(main_data.dtypes==\"int64\"))]\n",
    "\n",
    "data = metric_data.set_index(\"id\")\n",
    "\n",
    "yj = prep.PowerTransformer(method='yeo-johnson')\n",
    "qt = prep.QuantileTransformer(n_quantiles=500, output_distribution='normal', random_state=np.random.RandomState(104))\n",
    "\n",
    "X_trans_yj = yj.fit_transform(data)\n",
    "X_trans_qt = qt.fit_transform(data)\n",
    "\n",
    "# Merging\n",
    "X_trans = np.concatenate((X_trans_yj, X_trans_qt), axis=1)\n",
    "\n",
    "# Creating DataFrame\n",
    "merge_labels = list(map(lambda x: \"yj_\" + x, data.columns.to_list()))+list(map(lambda x: \"qt_\" + x, data.columns.to_list()))\n",
    "trans_df = pd.DataFrame(X_trans, columns=merge_labels, index=data.index)"
   ]
  },
  {
   "cell_type": "code",
   "execution_count": 42,
   "metadata": {},
   "outputs": [],
   "source": [
    "transqt_df = trans_df.loc[:,[i for i in trans_df.columns.to_list() if \"qt\" in i]]\n",
    "transyj_df = trans_df.loc[:,[i for i in trans_df.columns.to_list() if \"yj\" in i]]"
   ]
  },
  {
   "cell_type": "code",
   "execution_count": 43,
   "metadata": {},
   "outputs": [],
   "source": [
    "def out_mahalanobis(data, random, contamination=0.03):\n",
    "    n = data.shape[0]\n",
    "    df = data.shape[1]\n",
    "    # Obtain mahalanobis distance of each observation to the center and then sort it\n",
    "    ee_out = cov.EllipticEnvelope(contamination=0.2, support_fraction=0.95, random_state=np.random.RandomState(304)).fit(data)\n",
    "    mahalan = ee_out.mahalanobis(data)\n",
    "    # Obtain chi-square percentiles of each observations\n",
    "    quantiles = chi2.ppf(q=np.fromfunction(lambda x:(x-0.5)/n, (n,)), df=df)\n",
    "    # Obtain labels\n",
    "    labels = ee_out.predict(data)    \n",
    "    return mahalan, quantiles, labels"
   ]
  },
  {
   "cell_type": "code",
   "execution_count": 44,
   "metadata": {},
   "outputs": [],
   "source": [
    "mqt, qqt, lqt = out_mahalanobis(transqt_df, 0)"
   ]
  },
  {
   "cell_type": "code",
   "execution_count": 45,
   "metadata": {},
   "outputs": [],
   "source": [
    "myj, qyj, lyj = out_mahalanobis(transyj_df, 0)"
   ]
  },
  {
   "cell_type": "code",
   "execution_count": 46,
   "metadata": {},
   "outputs": [],
   "source": [
    "lqt_lyj = pd.DataFrame({'lqt': lqt, 'lyj': lyj})"
   ]
  },
  {
   "cell_type": "code",
   "execution_count": 47,
   "metadata": {},
   "outputs": [
    {
     "data": {
      "text/plain": [
       "'Outliers percentage: 27.08%'"
      ]
     },
     "execution_count": 47,
     "metadata": {},
     "output_type": "execute_result"
    }
   ],
   "source": [
    "# checking outliers precentage\n",
    "inl = lqt_lyj.loc[(lqt_lyj['lqt'] == 1) & (lqt_lyj['lyj'] == 1)].sum()['lqt']\n",
    "'Outliers percentage: {:4.2f}%'.format(100 - inl/len(lqt_lyj) * 100)"
   ]
  },
  {
   "cell_type": "code",
   "execution_count": 48,
   "metadata": {},
   "outputs": [],
   "source": [
    "# creating mask for outliers' drop\n",
    "lqt_lyj.loc[(lqt_lyj['lqt'] == 1) & (lqt_lyj['lyj'] == 1), 'mask'] = True\n",
    "lqt_lyj.fillna(False, inplace=True)\n",
    "lqt_lyj.drop(columns=['lqt', 'lyj'], inplace=True)"
   ]
  },
  {
   "cell_type": "markdown",
   "metadata": {},
   "source": [
    "# 4.4 - Divinding the data in 3 different data sets - because we have 3 distinct groups, Volunteers, Essencial and ticket buyers. "
   ]
  },
  {
   "cell_type": "code",
   "execution_count": 20,
   "metadata": {},
   "outputs": [],
   "source": [
    "train_upd = train_upd.astype(int)"
   ]
  },
  {
   "cell_type": "code",
   "execution_count": 47,
   "metadata": {},
   "outputs": [],
   "source": [
    "train_upd_a=train_upd[(train_upd['Ticket Price']==0) & (train_upd['Money Received']==0)].copy() #Volunteers\n",
    "train_upd_b=train_upd[train_upd['Money Received']>0].copy()#received money\n",
    "train_upd_c=train_upd[train_upd['Ticket Price']>0].copy()#buying entry"
   ]
  },
  {
   "cell_type": "code",
   "execution_count": null,
   "metadata": {},
   "outputs": [],
   "source": [
    "# DO NOT RUN, It's here fow now, just for reference.\n",
    "#group a\n",
    "#df1=train_upd_a.copy()\n",
    "#for c in cat_col:\n",
    "    #encode(df1[c])"
   ]
  },
  {
   "cell_type": "code",
   "execution_count": null,
   "metadata": {},
   "outputs": [],
   "source": [
    "## DO NOT RUN, It's here fow now, just for reference.\n",
    "#group b\n",
    "#df2=train_upd_b.copy()\n",
    "#for c in cat_col:\n",
    "    #encode(df2[c])"
   ]
  },
  {
   "cell_type": "code",
   "execution_count": null,
   "metadata": {},
   "outputs": [],
   "source": [
    "# DO NOT RUN, It's here fow now, just for reference.\n",
    "#group c\n",
    "#df3=train_upd_c.copy()\n",
    "#for c in cat_col:\n",
    "    #encode(df3[c])"
   ]
  },
  {
   "cell_type": "markdown",
   "metadata": {},
   "source": [
    "# We could also try lasso regression, it's more accurate and easier to understand. "
   ]
  },
  {
   "cell_type": "markdown",
   "metadata": {},
   "source": [
    "# 4.5 - RFE - Recursive Feature Selection"
   ]
  },
  {
   "cell_type": "code",
   "execution_count": 48,
   "metadata": {},
   "outputs": [],
   "source": [
    "def rfe_group(df):\n",
    "    data = df.iloc[:,:-1]\n",
    "    target = df.iloc[:,-1]\n",
    "    nof_list=np.arange(1,len(data.columns)+1)  \n",
    "    high_score=0\n",
    "    nof=0           \n",
    "    score_list =[]\n",
    "    #dividing the data sets into train and validation. \n",
    "    for n in range(len(nof_list)):\n",
    "        X_train, X_test, y_train, y_test = train_test_split(data,target, test_size = 0.2, random_state = 0,stratify = target)\n",
    "        \n",
    "        #Selecting the model for the Feature selection.\n",
    "        model = LogisticRegression()\n",
    "        rfe = RFE(model,nof_list[n])\n",
    "        X_train_rfe = rfe.fit_transform(X_train,y_train)\n",
    "        X_test_rfe = rfe.transform(X_test)\n",
    "        model.fit(X_train_rfe,y_train)\n",
    "\n",
    "        score = model.score(X_test_rfe,y_test)\n",
    "        score_list.append(score)\n",
    "\n",
    "        if(score>high_score):\n",
    "            high_score = score\n",
    "            nof = nof_list[n]\n",
    "    print(\"Optimum number of features: %d\" %nof)\n",
    "    print('\\n')\n",
    "    print(\"Score with %d features: %f\" % (nof, high_score))\n",
    "    rfe = RFE(estimator = model, n_features_to_select = nof)\n",
    "    X_rfe = rfe.fit_transform(X = data, y = target)\n",
    "    model = LogisticRegression().fit(X = X_rfe,y = target)\n",
    "    selected_features = pd.Series(rfe.support_, index = data.columns)\n",
    "    print(selected_features)\n",
    "    ridge = RidgeClassifierCV().fit(X = data,y = target)\n",
    "    coef_ridge = pd.Series(ridge.coef_[0], index = data.columns)\n",
    "    return coef_ridge"
   ]
  },
  {
   "cell_type": "code",
   "execution_count": 49,
   "metadata": {},
   "outputs": [],
   "source": [
    "#Ploting the features importance with ridge regression. \n",
    "def plot_importance(coef,name):\n",
    "    imp_coef = coef.sort_values()\n",
    "    plt.figure(figsize=(8,10))\n",
    "    imp_coef.plot(kind = \"barh\")\n",
    "    plt.title(\"Feature importance using \" + name)\n",
    "    plt.show()"
   ]
  },
  {
   "cell_type": "code",
   "execution_count": 50,
   "metadata": {},
   "outputs": [
    {
     "name": "stdout",
     "output_type": "stream",
     "text": [
      "Optimum number of features: 8\n",
      "\n",
      "\n",
      "Score with 8 features: 0.841148\n",
      "CITIZEN_ID                False\n",
      "Name                      False\n",
      "Gender                     True\n",
      "Birthday                  False\n",
      "Age                        True\n",
      "Native Continent           True\n",
      "Marital Status             True\n",
      "Lives with                 True\n",
      "Base Area                  True\n",
      "Education Level           False\n",
      "Years of Education         True\n",
      "Employment Sector          True\n",
      "Role                      False\n",
      "Working Hours per week    False\n",
      "Money Received            False\n",
      "Ticket Price              False\n",
      "dtype: bool\n"
     ]
    },
    {
     "data": {
      "image/png": "[encoded data removed]",
      "text/plain": [
       "<Figure size 576x720 with 1 Axes>"
      ]
     },
     "metadata": {
      "image/png": {
       "height": 590,
       "width": 590
      },
      "needs_background": "light"
     },
     "output_type": "display_data"
    }
   ],
   "source": [
    "coef_ridge_1 = rfe_group(train_upd_a)\n",
    "plot_importance(coef_ridge_1,'Group A -> Volunteers - No Payment')"
   ]
  },
  {
   "cell_type": "code",
   "execution_count": 51,
   "metadata": {},
   "outputs": [],
   "source": [
    "# Selecting the Features for the Volunteers dataset.\n",
    "train_upd_a.drop(['Birthday','Ticket Price','Money Received','Name','Education Level','Base Area'],axis=1,inplace=True)"
   ]
  },
  {
   "cell_type": "code",
   "execution_count": 52,
   "metadata": {},
   "outputs": [],
   "source": [
    "train_upd_a.set_index('CITIZEN_ID',inplace=True) # Check later and after making changes if ID is still correct. "
   ]
  },
  {
   "cell_type": "code",
   "execution_count": 53,
   "metadata": {},
   "outputs": [
    {
     "name": "stdout",
     "output_type": "stream",
     "text": [
      "Optimum number of features: 7\n",
      "\n",
      "\n",
      "Score with 7 features: 0.840892\n",
      "Gender                     True\n",
      "Age                       False\n",
      "Native Continent           True\n",
      "Marital Status             True\n",
      "Lives with                 True\n",
      "Years of Education         True\n",
      "Employment Sector          True\n",
      "Role                       True\n",
      "Working Hours per week    False\n",
      "dtype: bool\n"
     ]
    },
    {
     "data": {
      "text/plain": [
       "Gender                   -0.069871\n",
       "Age                       0.005477\n",
       "Native Continent          0.017444\n",
       "Marital Status           -0.048399\n",
       "Lives with                0.075357\n",
       "Years of Education        0.083708\n",
       "Employment Sector        -0.009273\n",
       "Role                      0.006042\n",
       "Working Hours per week    0.004741\n",
       "dtype: float64"
      ]
     },
     "execution_count": 53,
     "metadata": {},
     "output_type": "execute_result"
    }
   ],
   "source": [
    "# Checking score after removing the serveral variables. \n",
    "rfe_group(train_upd_a)"
   ]
  },
  {
   "cell_type": "code",
   "execution_count": 28,
   "metadata": {},
   "outputs": [
    {
     "name": "stdout",
     "output_type": "stream",
     "text": [
      "Optimum number of features: 13\n",
      "\n",
      "\n",
      "Score with 13 features: 0.871935\n",
      "CITIZEN_ID                False\n",
      "Name                      False\n",
      "Gender                     True\n",
      "Birthday                   True\n",
      "Age                        True\n",
      "Native Continent           True\n",
      "Marital Status             True\n",
      "Lives with                 True\n",
      "Base Area                  True\n",
      "Education Level            True\n",
      "Years of Education         True\n",
      "Employment Sector          True\n",
      "Role                       True\n",
      "Working Hours per week     True\n",
      "Money Received             True\n",
      "Ticket Price              False\n",
      "dtype: bool\n"
     ]
    },
    {
     "data": {
      "image/png": "[encoded data removed]",
      "text/plain": [
       "<Figure size 576x720 with 1 Axes>"
      ]
     },
     "metadata": {
      "image/png": {
       "height": 590,
       "width": 590
      },
      "needs_background": "light"
     },
     "output_type": "display_data"
    }
   ],
   "source": [
    "coef_ridge_2 = rfe_group(train_upd_b)\n",
    "plot_importance(coef_ridge_2,'Group B -> Were invited (Money Received)')"
   ]
  },
  {
   "cell_type": "code",
   "execution_count": 54,
   "metadata": {},
   "outputs": [],
   "source": [
    "# Selecting the Features for the essencials dataset.\n",
    "train_upd_b.drop(['Birthday','Ticket Price','Money Received','Name','Base Area','Age'],axis=1,inplace=True) # We are letting Education lvl stay since it's has some weight. "
   ]
  },
  {
   "cell_type": "code",
   "execution_count": 55,
   "metadata": {},
   "outputs": [],
   "source": [
    "train_upd_b.set_index('CITIZEN_ID',inplace=True) # Check later and after making changes if ID is still correct. "
   ]
  },
  {
   "cell_type": "code",
   "execution_count": 56,
   "metadata": {},
   "outputs": [
    {
     "name": "stdout",
     "output_type": "stream",
     "text": [
      "Optimum number of features: 2\n",
      "\n",
      "\n",
      "Score with 2 features: 0.735695\n",
      "Gender                    False\n",
      "Native Continent          False\n",
      "Marital Status            False\n",
      "Lives with                 True\n",
      "Education Level           False\n",
      "Years of Education         True\n",
      "Employment Sector         False\n",
      "Role                      False\n",
      "Working Hours per week    False\n",
      "dtype: bool\n"
     ]
    },
    {
     "data": {
      "text/plain": [
       "Gender                    0.037615\n",
       "Native Continent         -0.019923\n",
       "Marital Status           -0.087348\n",
       "Lives with                0.117337\n",
       "Education Level          -0.007872\n",
       "Years of Education        0.116507\n",
       "Employment Sector         0.006597\n",
       "Role                      0.008874\n",
       "Working Hours per week    0.008842\n",
       "dtype: float64"
      ]
     },
     "execution_count": 56,
     "metadata": {},
     "output_type": "execute_result"
    }
   ],
   "source": [
    "# Checking score after removing the serveral variables. \n",
    "rfe_group(train_upd_b)"
   ]
  },
  {
   "cell_type": "code",
   "execution_count": 32,
   "metadata": {},
   "outputs": [
    {
     "name": "stdout",
     "output_type": "stream",
     "text": [
      "Optimum number of features: 3\n",
      "\n",
      "\n",
      "Score with 3 features: 0.764151\n",
      "CITIZEN_ID                False\n",
      "Name                      False\n",
      "Gender                    False\n",
      "Birthday                  False\n",
      "Age                       False\n",
      "Native Continent          False\n",
      "Marital Status             True\n",
      "Lives with                 True\n",
      "Base Area                 False\n",
      "Education Level           False\n",
      "Years of Education         True\n",
      "Employment Sector         False\n",
      "Role                      False\n",
      "Working Hours per week    False\n",
      "Money Received            False\n",
      "Ticket Price              False\n",
      "dtype: bool\n"
     ]
    },
    {
     "data": {
      "image/png": "[encoded data removed]",
      "text/plain": [
       "<Figure size 576x720 with 1 Axes>"
      ]
     },
     "metadata": {
      "image/png": {
       "height": 590,
       "width": 595
      },
      "needs_background": "light"
     },
     "output_type": "display_data"
    }
   ],
   "source": [
    "coef_ridge_3 = rfe_group(train_upd_c)\n",
    "plot_importance(coef_ridge_3,'Group C -> Money offering - Ticket Price')"
   ]
  },
  {
   "cell_type": "code",
   "execution_count": 57,
   "metadata": {},
   "outputs": [],
   "source": [
    "# Selecting the Features for the essencials dataset.\n",
    "train_upd_c.drop(['Birthday','Ticket Price','Money Received','Name','Base Area','Age','Role','Education Level'],axis=1,inplace=True) # We are letting Education lvl stay since it's has some weight. "
   ]
  },
  {
   "cell_type": "code",
   "execution_count": 58,
   "metadata": {},
   "outputs": [],
   "source": [
    "train_upd_c.set_index('CITIZEN_ID',inplace=True) # Check later and after making changes if ID is still correct. "
   ]
  },
  {
   "cell_type": "code",
   "execution_count": 59,
   "metadata": {},
   "outputs": [
    {
     "name": "stdout",
     "output_type": "stream",
     "text": [
      "Optimum number of features: 3\n",
      "\n",
      "\n",
      "Score with 3 features: 0.764151\n",
      "Gender                    False\n",
      "Native Continent          False\n",
      "Marital Status             True\n",
      "Lives with                 True\n",
      "Years of Education         True\n",
      "Employment Sector         False\n",
      "Working Hours per week    False\n",
      "dtype: bool\n"
     ]
    },
    {
     "data": {
      "text/plain": [
       "Gender                   -0.007362\n",
       "Native Continent          0.001455\n",
       "Marital Status           -0.100274\n",
       "Lives with                0.166116\n",
       "Years of Education        0.108189\n",
       "Employment Sector         0.043221\n",
       "Working Hours per week    0.007302\n",
       "dtype: float64"
      ]
     },
     "execution_count": 59,
     "metadata": {},
     "output_type": "execute_result"
    }
   ],
   "source": [
    "# Checking score after removing the serveral variables. \n",
    "rfe_group(train_upd_c)"
   ]
  },
  {
   "cell_type": "markdown",
   "metadata": {},
   "source": [
    "# 5 - Modelling - Create a predictive model"
   ]
  },
  {
   "cell_type": "code",
   "execution_count": 74,
   "metadata": {},
   "outputs": [],
   "source": [
    "#Spliting train and validation data\n",
    " # Volunteers dataset\n",
    "data = train_upd_a.iloc[:,:-1]\n",
    "target = train_upd_a.iloc[:,-1]\n",
    "\n",
    " #Essencials dataset\n",
    "train_b = train_upd_b.iloc[:,:-1]\n",
    "target_b = train_upd_b.iloc[:,-1]\n",
    "\n",
    "#Ticket buyers\n",
    "train_c = train_upd_c.iloc[:,:-1]\n",
    "target_c = train_upd_c.iloc[:,-1]"
   ]
  },
  {
   "cell_type": "code",
   "execution_count": 137,
   "metadata": {},
   "outputs": [],
   "source": [
    "X_train, X_val, y_train, y_val = train_test_split(data,target, test_size=0.2, random_state=3, stratify=target) #we are trying with different number of variables and the best score \n",
    "# was 3. "
   ]
  },
  {
   "cell_type": "code",
   "execution_count": 138,
   "metadata": {},
   "outputs": [],
   "source": [
    "log_model = LogisticRegression()"
   ]
  },
  {
   "cell_type": "code",
   "execution_count": 139,
   "metadata": {},
   "outputs": [
    {
     "data": {
      "text/plain": [
       "LogisticRegression()"
      ]
     },
     "execution_count": 139,
     "metadata": {},
     "output_type": "execute_result"
    }
   ],
   "source": [
    "log_model.fit(X_train,y_train)"
   ]
  },
  {
   "cell_type": "code",
   "execution_count": 145,
   "metadata": {},
   "outputs": [],
   "source": [
    "y_pred = log_model.predict(X_val)\n",
    "#y_pred"
   ]
  },
  {
   "cell_type": "code",
   "execution_count": 146,
   "metadata": {},
   "outputs": [],
   "source": [
    "pred_prob = log_model.predict_proba(X_val)\n",
    "#pred_prob"
   ]
  },
  {
   "cell_type": "code",
   "execution_count": 147,
   "metadata": {},
   "outputs": [
    {
     "data": {
      "text/plain": [
       "array([[-1.36282442,  0.02389141,  0.00151428, -0.21864864,  0.35705065,\n",
       "         0.36235143,  0.07039497, -0.04878604,  0.02044046]])"
      ]
     },
     "execution_count": 147,
     "metadata": {},
     "output_type": "execute_result"
    }
   ],
   "source": [
    "log_model.coef_"
   ]
  },
  {
   "cell_type": "code",
   "execution_count": 148,
   "metadata": {},
   "outputs": [
    {
     "data": {
      "text/plain": [
       "array([[2991,  182],\n",
       "       [ 487,  243]], dtype=int64)"
      ]
     },
     "execution_count": 148,
     "metadata": {},
     "output_type": "execute_result"
    }
   ],
   "source": [
    "cm = confusion_matrix(y_val, y_pred)\n",
    "cm"
   ]
  },
  {
   "cell_type": "markdown",
   "metadata": {},
   "source": [
    "The confusion matrix in sklearn is presented in the following format: <br>\n",
    "[ [ TN  FP  ] <br>\n",
    "    [ FN  TP ] ]"
   ]
  },
  {
   "cell_type": "code",
   "execution_count": 149,
   "metadata": {},
   "outputs": [
    {
     "data": {
      "text/plain": [
       "0.8285933897002306"
      ]
     },
     "execution_count": 149,
     "metadata": {},
     "output_type": "execute_result"
    }
   ],
   "source": [
    "accuracy = accuracy_score(y_val, y_pred)\n",
    "accuracy"
   ]
  },
  {
   "cell_type": "code",
   "execution_count": 150,
   "metadata": {},
   "outputs": [
    {
     "data": {
      "text/plain": [
       "0.571764705882353"
      ]
     },
     "execution_count": 150,
     "metadata": {},
     "output_type": "execute_result"
    }
   ],
   "source": [
    "precision = precision_score(y_val, y_pred)\n",
    "precision"
   ]
  },
  {
   "cell_type": "code",
   "execution_count": 151,
   "metadata": {},
   "outputs": [
    {
     "data": {
      "text/plain": [
       "0.33287671232876714"
      ]
     },
     "execution_count": 151,
     "metadata": {},
     "output_type": "execute_result"
    }
   ],
   "source": [
    "recall_score(y_val, y_pred)"
   ]
  },
  {
   "cell_type": "code",
   "execution_count": 152,
   "metadata": {},
   "outputs": [
    {
     "data": {
      "text/plain": [
       "0.4207792207792208"
      ]
     },
     "execution_count": 152,
     "metadata": {},
     "output_type": "execute_result"
    }
   ],
   "source": [
    "f1 = f1_score(y_val, y_pred)\n",
    "f1"
   ]
  },
  {
   "cell_type": "code",
   "execution_count": 156,
   "metadata": {},
   "outputs": [
    {
     "name": "stdout",
     "output_type": "stream",
     "text": [
      "Results on the validation set:\n",
      "              precision    recall  f1-score   support\n",
      "\n",
      "           0       0.86      0.94      0.90      3173\n",
      "           1       0.57      0.33      0.42       730\n",
      "\n",
      "    accuracy                           0.83      3903\n",
      "   macro avg       0.72      0.64      0.66      3903\n",
      "weighted avg       0.81      0.83      0.81      3903\n",
      "\n"
     ]
    }
   ],
   "source": [
    "print('Results on the validation set:')\n",
    "print(\n",
    "    # write your code in here\n",
    "    classification_report(y_true = y_val, y_pred = y_pred)\n",
    ")"
   ]
  },
  {
   "cell_type": "markdown",
   "metadata": {},
   "source": [
    "# 4.1 Training Data"
   ]
  },
  {
   "cell_type": "code",
   "execution_count": null,
   "metadata": {},
   "outputs": [],
   "source": []
  },
  {
   "cell_type": "markdown",
   "metadata": {},
   "source": [
    "# 4.2 Validation Data"
   ]
  },
  {
   "cell_type": "code",
   "execution_count": null,
   "metadata": {},
   "outputs": [],
   "source": []
  },
  {
   "cell_type": "markdown",
   "metadata": {},
   "source": [
    "# 4.3 Testing Data"
   ]
  },
  {
   "cell_type": "code",
   "execution_count": null,
   "metadata": {},
   "outputs": [],
   "source": []
  },
  {
   "cell_type": "markdown",
   "metadata": {},
   "source": [
    "# 5) Applying ML techniques"
   ]
  },
  {
   "cell_type": "code",
   "execution_count": null,
   "metadata": {},
   "outputs": [],
   "source": []
  },
  {
   "cell_type": "markdown",
   "metadata": {},
   "source": [
    "# 6) Training"
   ]
  },
  {
   "cell_type": "code",
   "execution_count": null,
   "metadata": {},
   "outputs": [],
   "source": []
  },
  {
   "cell_type": "markdown",
   "metadata": {},
   "source": [
    "# 7) Evaluation / Assessment"
   ]
  },
  {
   "cell_type": "code",
   "execution_count": null,
   "metadata": {},
   "outputs": [],
   "source": []
  },
  {
   "cell_type": "markdown",
   "metadata": {},
   "source": [
    "# 8) Testing across the ML algos tested above"
   ]
  },
  {
   "cell_type": "code",
   "execution_count": null,
   "metadata": {},
   "outputs": [],
   "source": []
  },
  {
   "cell_type": "markdown",
   "metadata": {},
   "source": [
    "# 9) Adding to the analysis other ML algos"
   ]
  },
  {
   "cell_type": "code",
   "execution_count": null,
   "metadata": {},
   "outputs": [],
   "source": []
  },
  {
   "cell_type": "markdown",
   "metadata": {},
   "source": [
    "# 10) Optimization"
   ]
  },
  {
   "cell_type": "code",
   "execution_count": null,
   "metadata": {},
   "outputs": [],
   "source": []
  },
  {
   "cell_type": "markdown",
   "metadata": {},
   "source": [
    "# 11) Conclussion"
   ]
  },
  {
   "cell_type": "code",
   "execution_count": null,
   "metadata": {},
   "outputs": [],
   "source": []
  }
 ],
 "metadata": {
  "kernelspec": {
   "display_name": "Python 3",
   "language": "python",
   "name": "python3"
  },
  "language_info": {
   "codemirror_mode": {
    "name": "ipython",
    "version": 3
   },
   "file_extension": ".py",
   "mimetype": "text/x-python",
   "name": "python",
   "nbconvert_exporter": "python",
   "pygments_lexer": "ipython3",
   "version": "3.8.5"
  }
 },
 "nbformat": 4,
 "nbformat_minor": 4
}
